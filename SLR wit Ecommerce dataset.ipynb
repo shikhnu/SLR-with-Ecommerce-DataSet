{
 "cells": [
  {
   "cell_type": "code",
   "execution_count": 832,
   "metadata": {},
   "outputs": [],
   "source": [
    "import numpy as np\n",
    "import pandas as pd\n",
    "import seaborn as sns\n",
    "import matplotlib.pyplot as plt\n",
    "%matplotlib inline"
   ]
  },
  {
   "cell_type": "code",
   "execution_count": 833,
   "metadata": {},
   "outputs": [],
   "source": [
    "from sklearn.model_selection import train_test_split\n",
    "from sklearn.preprocessing import StandardScaler\n",
    "import statsmodels.api as sm\n",
    "from statsmodels.stats.outliers_influence import variance_inflation_factor\n",
    "from sklearn.metrics import r2_score , mean_squared_error , mean_absolute_error\n",
    "from sklearn.feature_selection import RFE\n",
    "from sklearn.linear_model import LinearRegression, Lasso , LassoCV , Ridge , RidgeCV, ElasticNetCV, ElasticNet\n"
   ]
  },
  {
   "cell_type": "markdown",
   "metadata": {},
   "source": [
    "### 1. Read the dataset (tab, csv, xls, txt, inbuilt dataset)"
   ]
  },
  {
   "cell_type": "code",
   "execution_count": 834,
   "metadata": {},
   "outputs": [
    {
     "data": {
      "text/html": [
       "<div>\n",
       "<style scoped>\n",
       "    .dataframe tbody tr th:only-of-type {\n",
       "        vertical-align: middle;\n",
       "    }\n",
       "\n",
       "    .dataframe tbody tr th {\n",
       "        vertical-align: top;\n",
       "    }\n",
       "\n",
       "    .dataframe thead th {\n",
       "        text-align: right;\n",
       "    }\n",
       "</style>\n",
       "<table border=\"1\" class=\"dataframe\">\n",
       "  <thead>\n",
       "    <tr style=\"text-align: right;\">\n",
       "      <th></th>\n",
       "      <th>Email</th>\n",
       "      <th>Address</th>\n",
       "      <th>Avatar</th>\n",
       "      <th>Avg. Session Length</th>\n",
       "      <th>Time on App</th>\n",
       "      <th>Time on Website</th>\n",
       "      <th>Length of Membership</th>\n",
       "      <th>Yearly Amount Spent</th>\n",
       "    </tr>\n",
       "  </thead>\n",
       "  <tbody>\n",
       "    <tr>\n",
       "      <th>0</th>\n",
       "      <td>mstephenson@fernandez.com</td>\n",
       "      <td>835 Frank Tunnel\\nWrightmouth, MI 82180-9605</td>\n",
       "      <td>Violet</td>\n",
       "      <td>34.497268</td>\n",
       "      <td>12.655651</td>\n",
       "      <td>39.577668</td>\n",
       "      <td>4.082621</td>\n",
       "      <td>587.951054</td>\n",
       "    </tr>\n",
       "    <tr>\n",
       "      <th>1</th>\n",
       "      <td>hduke@hotmail.com</td>\n",
       "      <td>4547 Archer Common\\nDiazchester, CA 06566-8576</td>\n",
       "      <td>DarkGreen</td>\n",
       "      <td>31.926272</td>\n",
       "      <td>11.109461</td>\n",
       "      <td>37.268959</td>\n",
       "      <td>2.664034</td>\n",
       "      <td>392.204933</td>\n",
       "    </tr>\n",
       "    <tr>\n",
       "      <th>2</th>\n",
       "      <td>pallen@yahoo.com</td>\n",
       "      <td>24645 Valerie Unions Suite 582\\nCobbborough, D...</td>\n",
       "      <td>Bisque</td>\n",
       "      <td>33.000915</td>\n",
       "      <td>11.330278</td>\n",
       "      <td>37.110597</td>\n",
       "      <td>4.104543</td>\n",
       "      <td>487.547505</td>\n",
       "    </tr>\n",
       "    <tr>\n",
       "      <th>3</th>\n",
       "      <td>riverarebecca@gmail.com</td>\n",
       "      <td>1414 David Throughway\\nPort Jason, OH 22070-1220</td>\n",
       "      <td>SaddleBrown</td>\n",
       "      <td>34.305557</td>\n",
       "      <td>13.717514</td>\n",
       "      <td>36.721283</td>\n",
       "      <td>3.120179</td>\n",
       "      <td>581.852344</td>\n",
       "    </tr>\n",
       "    <tr>\n",
       "      <th>4</th>\n",
       "      <td>mstephens@davidson-herman.com</td>\n",
       "      <td>14023 Rodriguez Passage\\nPort Jacobville, PR 3...</td>\n",
       "      <td>MediumAquaMarine</td>\n",
       "      <td>33.330673</td>\n",
       "      <td>12.795189</td>\n",
       "      <td>37.536653</td>\n",
       "      <td>4.446308</td>\n",
       "      <td>599.406092</td>\n",
       "    </tr>\n",
       "  </tbody>\n",
       "</table>\n",
       "</div>"
      ],
      "text/plain": [
       "                           Email  \\\n",
       "0      mstephenson@fernandez.com   \n",
       "1              hduke@hotmail.com   \n",
       "2               pallen@yahoo.com   \n",
       "3        riverarebecca@gmail.com   \n",
       "4  mstephens@davidson-herman.com   \n",
       "\n",
       "                                             Address            Avatar  \\\n",
       "0       835 Frank Tunnel\\nWrightmouth, MI 82180-9605            Violet   \n",
       "1     4547 Archer Common\\nDiazchester, CA 06566-8576         DarkGreen   \n",
       "2  24645 Valerie Unions Suite 582\\nCobbborough, D...            Bisque   \n",
       "3   1414 David Throughway\\nPort Jason, OH 22070-1220       SaddleBrown   \n",
       "4  14023 Rodriguez Passage\\nPort Jacobville, PR 3...  MediumAquaMarine   \n",
       "\n",
       "   Avg. Session Length  Time on App  Time on Website  Length of Membership  \\\n",
       "0            34.497268    12.655651        39.577668              4.082621   \n",
       "1            31.926272    11.109461        37.268959              2.664034   \n",
       "2            33.000915    11.330278        37.110597              4.104543   \n",
       "3            34.305557    13.717514        36.721283              3.120179   \n",
       "4            33.330673    12.795189        37.536653              4.446308   \n",
       "\n",
       "   Yearly Amount Spent  \n",
       "0           587.951054  \n",
       "1           392.204933  \n",
       "2           487.547505  \n",
       "3           581.852344  \n",
       "4           599.406092  "
      ]
     },
     "execution_count": 834,
     "metadata": {},
     "output_type": "execute_result"
    }
   ],
   "source": [
    "data = pd.read_csv('Ecommerce.csv')\n",
    "data.head()"
   ]
  },
  {
   "cell_type": "markdown",
   "metadata": {},
   "source": [
    "### 2. Summarizing important observations from the data set "
   ]
  },
  {
   "cell_type": "markdown",
   "metadata": {},
   "source": [
    "#### a. What are the number of rows and no. of cols & types of variables (continuous, categorical etc.) "
   ]
  },
  {
   "cell_type": "code",
   "execution_count": 835,
   "metadata": {},
   "outputs": [
    {
     "name": "stdout",
     "output_type": "stream",
     "text": [
      "Number of rows: 500\n",
      "Number of columns: 8\n"
     ]
    }
   ],
   "source": [
    "print ( \"Number of rows:\" , data.shape [ 0 ] )\n",
    "print ( \"Number of columns:\" , data.shape [ 1 ] )"
   ]
  },
  {
   "cell_type": "code",
   "execution_count": 836,
   "metadata": {},
   "outputs": [
    {
     "name": "stdout",
     "output_type": "stream",
     "text": [
      "The categorical variables are:\n",
      " Index(['Email', 'Address', 'Avatar'], dtype='object')\n",
      "\n",
      "\n",
      "The continuous variables are:\n",
      " Index(['Avg. Session Length', 'Time on App', 'Time on Website',\n",
      "       'Length of Membership', 'Yearly Amount Spent'],\n",
      "      dtype='object')\n"
     ]
    }
   ],
   "source": [
    "categorical = data.select_dtypes ( include = \"object\" ).columns\n",
    "print ( \"The categorical variables are:\\n\" , categorical )\n",
    "print ( \"\\n\" )\n",
    "continuous = data.select_dtypes ( exclude = \"object\" ).columns\n",
    "print ( \"The continuous variables are:\\n\" , continuous )"
   ]
  },
  {
   "cell_type": "markdown",
   "metadata": {},
   "source": [
    "#### b. Calculate five-point summary for numerical variables"
   ]
  },
  {
   "cell_type": "code",
   "execution_count": 837,
   "metadata": {},
   "outputs": [
    {
     "data": {
      "text/html": [
       "<div>\n",
       "<style scoped>\n",
       "    .dataframe tbody tr th:only-of-type {\n",
       "        vertical-align: middle;\n",
       "    }\n",
       "\n",
       "    .dataframe tbody tr th {\n",
       "        vertical-align: top;\n",
       "    }\n",
       "\n",
       "    .dataframe thead th {\n",
       "        text-align: right;\n",
       "    }\n",
       "</style>\n",
       "<table border=\"1\" class=\"dataframe\">\n",
       "  <thead>\n",
       "    <tr style=\"text-align: right;\">\n",
       "      <th></th>\n",
       "      <th>count</th>\n",
       "      <th>mean</th>\n",
       "      <th>std</th>\n",
       "      <th>min</th>\n",
       "      <th>25%</th>\n",
       "      <th>50%</th>\n",
       "      <th>75%</th>\n",
       "      <th>max</th>\n",
       "    </tr>\n",
       "  </thead>\n",
       "  <tbody>\n",
       "    <tr>\n",
       "      <th>Avg. Session Length</th>\n",
       "      <td>500.0</td>\n",
       "      <td>33.053194</td>\n",
       "      <td>0.992563</td>\n",
       "      <td>29.532429</td>\n",
       "      <td>32.341822</td>\n",
       "      <td>33.082008</td>\n",
       "      <td>33.711985</td>\n",
       "      <td>36.139662</td>\n",
       "    </tr>\n",
       "    <tr>\n",
       "      <th>Time on App</th>\n",
       "      <td>500.0</td>\n",
       "      <td>12.052488</td>\n",
       "      <td>0.994216</td>\n",
       "      <td>8.508152</td>\n",
       "      <td>11.388153</td>\n",
       "      <td>11.983231</td>\n",
       "      <td>12.753850</td>\n",
       "      <td>15.126994</td>\n",
       "    </tr>\n",
       "    <tr>\n",
       "      <th>Time on Website</th>\n",
       "      <td>500.0</td>\n",
       "      <td>37.060445</td>\n",
       "      <td>1.010489</td>\n",
       "      <td>33.913847</td>\n",
       "      <td>36.349257</td>\n",
       "      <td>37.069367</td>\n",
       "      <td>37.716432</td>\n",
       "      <td>40.005182</td>\n",
       "    </tr>\n",
       "    <tr>\n",
       "      <th>Length of Membership</th>\n",
       "      <td>500.0</td>\n",
       "      <td>3.533462</td>\n",
       "      <td>0.999278</td>\n",
       "      <td>0.269901</td>\n",
       "      <td>2.930450</td>\n",
       "      <td>3.533975</td>\n",
       "      <td>4.126502</td>\n",
       "      <td>6.922689</td>\n",
       "    </tr>\n",
       "    <tr>\n",
       "      <th>Yearly Amount Spent</th>\n",
       "      <td>500.0</td>\n",
       "      <td>499.314038</td>\n",
       "      <td>79.314782</td>\n",
       "      <td>256.670582</td>\n",
       "      <td>445.038277</td>\n",
       "      <td>498.887875</td>\n",
       "      <td>549.313828</td>\n",
       "      <td>765.518462</td>\n",
       "    </tr>\n",
       "  </tbody>\n",
       "</table>\n",
       "</div>"
      ],
      "text/plain": [
       "                      count        mean        std         min         25%  \\\n",
       "Avg. Session Length   500.0   33.053194   0.992563   29.532429   32.341822   \n",
       "Time on App           500.0   12.052488   0.994216    8.508152   11.388153   \n",
       "Time on Website       500.0   37.060445   1.010489   33.913847   36.349257   \n",
       "Length of Membership  500.0    3.533462   0.999278    0.269901    2.930450   \n",
       "Yearly Amount Spent   500.0  499.314038  79.314782  256.670582  445.038277   \n",
       "\n",
       "                             50%         75%         max  \n",
       "Avg. Session Length    33.082008   33.711985   36.139662  \n",
       "Time on App            11.983231   12.753850   15.126994  \n",
       "Time on Website        37.069367   37.716432   40.005182  \n",
       "Length of Membership    3.533975    4.126502    6.922689  \n",
       "Yearly Amount Spent   498.887875  549.313828  765.518462  "
      ]
     },
     "execution_count": 837,
     "metadata": {},
     "output_type": "execute_result"
    }
   ],
   "source": [
    "#For numerical features:\n",
    "data.describe ( ).T"
   ]
  },
  {
   "cell_type": "code",
   "execution_count": 838,
   "metadata": {
    "scrolled": true
   },
   "outputs": [
    {
     "data": {
      "text/html": [
       "<div>\n",
       "<style scoped>\n",
       "    .dataframe tbody tr th:only-of-type {\n",
       "        vertical-align: middle;\n",
       "    }\n",
       "\n",
       "    .dataframe tbody tr th {\n",
       "        vertical-align: top;\n",
       "    }\n",
       "\n",
       "    .dataframe thead th {\n",
       "        text-align: right;\n",
       "    }\n",
       "</style>\n",
       "<table border=\"1\" class=\"dataframe\">\n",
       "  <thead>\n",
       "    <tr style=\"text-align: right;\">\n",
       "      <th></th>\n",
       "      <th>count</th>\n",
       "      <th>unique</th>\n",
       "      <th>top</th>\n",
       "      <th>freq</th>\n",
       "      <th>mean</th>\n",
       "      <th>std</th>\n",
       "      <th>min</th>\n",
       "      <th>25%</th>\n",
       "      <th>50%</th>\n",
       "      <th>75%</th>\n",
       "      <th>max</th>\n",
       "    </tr>\n",
       "  </thead>\n",
       "  <tbody>\n",
       "    <tr>\n",
       "      <th>Email</th>\n",
       "      <td>500</td>\n",
       "      <td>500</td>\n",
       "      <td>kyang@diaz.org</td>\n",
       "      <td>1</td>\n",
       "      <td>NaN</td>\n",
       "      <td>NaN</td>\n",
       "      <td>NaN</td>\n",
       "      <td>NaN</td>\n",
       "      <td>NaN</td>\n",
       "      <td>NaN</td>\n",
       "      <td>NaN</td>\n",
       "    </tr>\n",
       "    <tr>\n",
       "      <th>Address</th>\n",
       "      <td>500</td>\n",
       "      <td>500</td>\n",
       "      <td>24645 Valerie Unions Suite 582\\nCobbborough, D...</td>\n",
       "      <td>1</td>\n",
       "      <td>NaN</td>\n",
       "      <td>NaN</td>\n",
       "      <td>NaN</td>\n",
       "      <td>NaN</td>\n",
       "      <td>NaN</td>\n",
       "      <td>NaN</td>\n",
       "      <td>NaN</td>\n",
       "    </tr>\n",
       "    <tr>\n",
       "      <th>Avatar</th>\n",
       "      <td>500</td>\n",
       "      <td>138</td>\n",
       "      <td>GreenYellow</td>\n",
       "      <td>7</td>\n",
       "      <td>NaN</td>\n",
       "      <td>NaN</td>\n",
       "      <td>NaN</td>\n",
       "      <td>NaN</td>\n",
       "      <td>NaN</td>\n",
       "      <td>NaN</td>\n",
       "      <td>NaN</td>\n",
       "    </tr>\n",
       "    <tr>\n",
       "      <th>Avg. Session Length</th>\n",
       "      <td>500</td>\n",
       "      <td>NaN</td>\n",
       "      <td>NaN</td>\n",
       "      <td>NaN</td>\n",
       "      <td>33.0532</td>\n",
       "      <td>0.992563</td>\n",
       "      <td>29.5324</td>\n",
       "      <td>32.3418</td>\n",
       "      <td>33.082</td>\n",
       "      <td>33.712</td>\n",
       "      <td>36.1397</td>\n",
       "    </tr>\n",
       "    <tr>\n",
       "      <th>Time on App</th>\n",
       "      <td>500</td>\n",
       "      <td>NaN</td>\n",
       "      <td>NaN</td>\n",
       "      <td>NaN</td>\n",
       "      <td>12.0525</td>\n",
       "      <td>0.994216</td>\n",
       "      <td>8.50815</td>\n",
       "      <td>11.3882</td>\n",
       "      <td>11.9832</td>\n",
       "      <td>12.7538</td>\n",
       "      <td>15.127</td>\n",
       "    </tr>\n",
       "    <tr>\n",
       "      <th>Time on Website</th>\n",
       "      <td>500</td>\n",
       "      <td>NaN</td>\n",
       "      <td>NaN</td>\n",
       "      <td>NaN</td>\n",
       "      <td>37.0604</td>\n",
       "      <td>1.01049</td>\n",
       "      <td>33.9138</td>\n",
       "      <td>36.3493</td>\n",
       "      <td>37.0694</td>\n",
       "      <td>37.7164</td>\n",
       "      <td>40.0052</td>\n",
       "    </tr>\n",
       "    <tr>\n",
       "      <th>Length of Membership</th>\n",
       "      <td>500</td>\n",
       "      <td>NaN</td>\n",
       "      <td>NaN</td>\n",
       "      <td>NaN</td>\n",
       "      <td>3.53346</td>\n",
       "      <td>0.999278</td>\n",
       "      <td>0.269901</td>\n",
       "      <td>2.93045</td>\n",
       "      <td>3.53398</td>\n",
       "      <td>4.1265</td>\n",
       "      <td>6.92269</td>\n",
       "    </tr>\n",
       "    <tr>\n",
       "      <th>Yearly Amount Spent</th>\n",
       "      <td>500</td>\n",
       "      <td>NaN</td>\n",
       "      <td>NaN</td>\n",
       "      <td>NaN</td>\n",
       "      <td>499.314</td>\n",
       "      <td>79.3148</td>\n",
       "      <td>256.671</td>\n",
       "      <td>445.038</td>\n",
       "      <td>498.888</td>\n",
       "      <td>549.314</td>\n",
       "      <td>765.518</td>\n",
       "    </tr>\n",
       "  </tbody>\n",
       "</table>\n",
       "</div>"
      ],
      "text/plain": [
       "                     count unique  \\\n",
       "Email                  500    500   \n",
       "Address                500    500   \n",
       "Avatar                 500    138   \n",
       "Avg. Session Length    500    NaN   \n",
       "Time on App            500    NaN   \n",
       "Time on Website        500    NaN   \n",
       "Length of Membership   500    NaN   \n",
       "Yearly Amount Spent    500    NaN   \n",
       "\n",
       "                                                                    top freq  \\\n",
       "Email                                                    kyang@diaz.org    1   \n",
       "Address               24645 Valerie Unions Suite 582\\nCobbborough, D...    1   \n",
       "Avatar                                                      GreenYellow    7   \n",
       "Avg. Session Length                                                 NaN  NaN   \n",
       "Time on App                                                         NaN  NaN   \n",
       "Time on Website                                                     NaN  NaN   \n",
       "Length of Membership                                                NaN  NaN   \n",
       "Yearly Amount Spent                                                 NaN  NaN   \n",
       "\n",
       "                         mean       std       min      25%      50%      75%  \\\n",
       "Email                     NaN       NaN       NaN      NaN      NaN      NaN   \n",
       "Address                   NaN       NaN       NaN      NaN      NaN      NaN   \n",
       "Avatar                    NaN       NaN       NaN      NaN      NaN      NaN   \n",
       "Avg. Session Length   33.0532  0.992563   29.5324  32.3418   33.082   33.712   \n",
       "Time on App           12.0525  0.994216   8.50815  11.3882  11.9832  12.7538   \n",
       "Time on Website       37.0604   1.01049   33.9138  36.3493  37.0694  37.7164   \n",
       "Length of Membership  3.53346  0.999278  0.269901  2.93045  3.53398   4.1265   \n",
       "Yearly Amount Spent   499.314   79.3148   256.671  445.038  498.888  549.314   \n",
       "\n",
       "                          max  \n",
       "Email                     NaN  \n",
       "Address                   NaN  \n",
       "Avatar                    NaN  \n",
       "Avg. Session Length   36.1397  \n",
       "Time on App            15.127  \n",
       "Time on Website       40.0052  \n",
       "Length of Membership  6.92269  \n",
       "Yearly Amount Spent   765.518  "
      ]
     },
     "execution_count": 838,
     "metadata": {},
     "output_type": "execute_result"
    }
   ],
   "source": [
    "#For all features:\n",
    "data.describe ( include = \"all\" ).T"
   ]
  },
  {
   "cell_type": "markdown",
   "metadata": {},
   "source": [
    "#### c. Summarize observations for categorical variables – no. of categories, % observations in each category "
   ]
  },
  {
   "cell_type": "code",
   "execution_count": 839,
   "metadata": {},
   "outputs": [
    {
     "name": "stdout",
     "output_type": "stream",
     "text": [
      "Column: Email\n",
      "kyang@diaz.org                  1\n",
      "melissa08@rowe.net              1\n",
      "dvasquez@wiley.com              1\n",
      "rcarter@crane-thompson.org      1\n",
      "tina16@santiago.com             1\n",
      "                               ..\n",
      "cwilson@hotmail.com             1\n",
      "katherinegray@yahoo.com         1\n",
      "stevenanderson@yahoo.com        1\n",
      "john96@chan-anderson.biz        1\n",
      "charlesgutierrez@hotmail.com    1\n",
      "Name: Email, Length: 500, dtype: int64\n",
      "kyang@diaz.org \t 0.2 %\n",
      "melissa08@rowe.net \t 0.2 %\n",
      "dvasquez@wiley.com \t 0.2 %\n",
      "rcarter@crane-thompson.org \t 0.2 %\n",
      "tina16@santiago.com \t 0.2 %\n",
      "crawforderik@price.org \t 0.2 %\n",
      "amberchase@fowler.info \t 0.2 %\n",
      "craigcastro@burgess.com \t 0.2 %\n",
      "briangonzales@gmail.com \t 0.2 %\n",
      "adamperkins@terrell.com \t 0.2 %\n",
      "mark94@yahoo.com \t 0.2 %\n",
      "william28@gmail.com \t 0.2 %\n",
      "dominguezmaria@gmail.com \t 0.2 %\n",
      "jeffreydawson@gmail.com \t 0.2 %\n",
      "rhonda01@gmail.com \t 0.2 %\n",
      "hornesteven@gmail.com \t 0.2 %\n",
      "smithtracey@mcgee.com \t 0.2 %\n",
      "solischristina@gmail.com \t 0.2 %\n",
      "bradleysmith@barber.com \t 0.2 %\n",
      "bushsharon@barber.com \t 0.2 %\n",
      "sarahtran@dixon.com \t 0.2 %\n",
      "connerjoseph@gmail.com \t 0.2 %\n",
      "rayvanessa@fischer.com \t 0.2 %\n",
      "samuel46@love-west.net \t 0.2 %\n",
      "judithsmith@jimenez.biz \t 0.2 %\n",
      "esmith@gmail.com \t 0.2 %\n",
      "jacksonboone@rubio.com \t 0.2 %\n",
      "davisbriana@gmail.com \t 0.2 %\n",
      "jimmy11@hardin.com \t 0.2 %\n",
      "mstephens@davidson-herman.com \t 0.2 %\n",
      "djohnson@hotmail.com \t 0.2 %\n",
      "lmalone@gmail.com \t 0.2 %\n",
      "fsnow@ellis.com \t 0.2 %\n",
      "wrightdanielle@gmail.com \t 0.2 %\n",
      "kiarakim@harris.org \t 0.2 %\n",
      "garciakevin@gmail.com \t 0.2 %\n",
      "adam75@gmail.com \t 0.2 %\n",
      "vcoleman@yahoo.com \t 0.2 %\n",
      "wbrady@yahoo.com \t 0.2 %\n",
      "rchambers@hotmail.com \t 0.2 %\n",
      "wesleyvance@moore.com \t 0.2 %\n",
      "davidsonkathleen@gmail.com \t 0.2 %\n",
      "brenda82@maldonado-gonzalez.net \t 0.2 %\n",
      "ryanwerner@freeman.biz \t 0.2 %\n",
      "donald67@harrison.com \t 0.2 %\n",
      "sfarley@jones.com \t 0.2 %\n",
      "martha91@garrison.net \t 0.2 %\n",
      "jstark@anderson.com \t 0.2 %\n",
      "richard16@boyer-pratt.com \t 0.2 %\n",
      "kstafford@estes-nguyen.com \t 0.2 %\n",
      "robin80@yahoo.com \t 0.2 %\n",
      "susanibarra@yahoo.com \t 0.2 %\n",
      "prussell@lopez.com \t 0.2 %\n",
      "jjones@yahoo.com \t 0.2 %\n",
      "wagnerbrian@hotmail.com \t 0.2 %\n",
      "ecruz@yahoo.com \t 0.2 %\n",
      "marc54@hotmail.com \t 0.2 %\n",
      "tanya20@gmail.com \t 0.2 %\n",
      "potterkenneth@strickland.com \t 0.2 %\n",
      "phillipscarrie@gmail.com \t 0.2 %\n",
      "briannasantana@gmail.com \t 0.2 %\n",
      "dbenson@simpson.net \t 0.2 %\n",
      "kday@gmail.com \t 0.2 %\n",
      "anneingram@miller-alexander.com \t 0.2 %\n",
      "maureenlopez@gmail.com \t 0.2 %\n",
      "rojasmichael@wagner-thomas.com \t 0.2 %\n",
      "rogerstiffany@wilson-horne.com \t 0.2 %\n",
      "freemantina@cannon.org \t 0.2 %\n",
      "cruiz@yahoo.com \t 0.2 %\n",
      "davischristina@hotmail.com \t 0.2 %\n",
      "sharongraves@yahoo.com \t 0.2 %\n",
      "kylemelendez@hotmail.com \t 0.2 %\n",
      "michelleshepherd@price.com \t 0.2 %\n",
      "knelson@gmail.com \t 0.2 %\n",
      "zmalone@yahoo.com \t 0.2 %\n",
      "nathan86@hotmail.com \t 0.2 %\n",
      "johnathan33@yahoo.com \t 0.2 %\n",
      "amanda03@yahoo.com \t 0.2 %\n",
      "gstrong@hotmail.com \t 0.2 %\n",
      "wevans@gmail.com \t 0.2 %\n",
      "mary45@gmail.com \t 0.2 %\n",
      "austinthomas@gmail.com \t 0.2 %\n",
      "antonioharris@hotmail.com \t 0.2 %\n",
      "brenda25@gmail.com \t 0.2 %\n",
      "casey21@johnson.com \t 0.2 %\n",
      "sanchezamber@scott-patterson.com \t 0.2 %\n",
      "efoster@williamson-boyd.org \t 0.2 %\n",
      "vickie90@lee-wilson.com \t 0.2 %\n",
      "william82@gmail.com \t 0.2 %\n",
      "lisa94@jackson.com \t 0.2 %\n",
      "dawnlewis@watkins.org \t 0.2 %\n",
      "tadams@contreras.info \t 0.2 %\n",
      "ppowell@gmail.com \t 0.2 %\n",
      "oolson@collins.com \t 0.2 %\n",
      "kcannon@alvarez-cline.info \t 0.2 %\n",
      "matthewgraves@mills-shaffer.com \t 0.2 %\n",
      "hannahgilbert@gmail.com \t 0.2 %\n",
      "baldwinbryan@estrada-silva.biz \t 0.2 %\n",
      "awerner@manning.com \t 0.2 %\n",
      "kenneth27@smith.com \t 0.2 %\n",
      "ngarcia@donaldson.info \t 0.2 %\n",
      "alejandro75@hotmail.com \t 0.2 %\n",
      "clifford76@johnson.com \t 0.2 %\n",
      "beasleyjoseph@hotmail.com \t 0.2 %\n",
      "samantha84@cortez.com \t 0.2 %\n",
      "garnerjustin@king.com \t 0.2 %\n",
      "tluna@hotmail.com \t 0.2 %\n",
      "amandastanley@yahoo.com \t 0.2 %\n",
      "carolfarley@gmail.com \t 0.2 %\n",
      "youngellen@hotmail.com \t 0.2 %\n",
      "ryan36@gmail.com \t 0.2 %\n",
      "dwhite@gmail.com \t 0.2 %\n",
      "mosleyjacob@yahoo.com \t 0.2 %\n",
      "elizabeth61@berg-braun.com \t 0.2 %\n",
      "deborah51@yahoo.com \t 0.2 %\n",
      "archeremily@baldwin.com \t 0.2 %\n",
      "roblessarah@hotmail.com \t 0.2 %\n",
      "rwilliams@trujillo.biz \t 0.2 %\n",
      "nhenry@hotmail.com \t 0.2 %\n",
      "cbrady@gonzalez-miller.com \t 0.2 %\n",
      "fbryant@gmail.com \t 0.2 %\n",
      "thardy@perry.com \t 0.2 %\n",
      "david28@wallace-hill.org \t 0.2 %\n",
      "apark@walsh-obrien.net \t 0.2 %\n",
      "melissa08@nelson.com \t 0.2 %\n",
      "teresaallen@hill-leach.info \t 0.2 %\n",
      "christopher20@gmail.com \t 0.2 %\n",
      "ramirezjacob@turner.com \t 0.2 %\n",
      "grichardson@ryan.info \t 0.2 %\n",
      "francisgeorge@thomas.org \t 0.2 %\n",
      "philliproberson@yahoo.com \t 0.2 %\n",
      "marshchristopher@zimmerman-villegas.com \t 0.2 %\n",
      "hoovernicole@dorsey.net \t 0.2 %\n",
      "lmunoz@yahoo.com \t 0.2 %\n",
      "nielsencarmen@harrell.net \t 0.2 %\n",
      "langmatthew@hotmail.com \t 0.2 %\n",
      "taylorkimberly@yahoo.com \t 0.2 %\n",
      "mstephenson@fernandez.com \t 0.2 %\n",
      "victoriajohnson@gmail.com \t 0.2 %\n",
      "carrillojacob@perry-larsen.com \t 0.2 %\n",
      "walkerlaura@peterson-yates.com \t 0.2 %\n",
      "bhamilton@shaw.biz \t 0.2 %\n",
      "wjennings@gmail.com \t 0.2 %\n",
      "dhudson@ramos.net \t 0.2 %\n",
      "raylopez@hotmail.com \t 0.2 %\n",
      "josesims@hunter.com \t 0.2 %\n",
      "john85@rodriguez.info \t 0.2 %\n",
      "linda90@yoder.org \t 0.2 %\n",
      "jgray@khan-allen.com \t 0.2 %\n",
      "williammoore@rose.com \t 0.2 %\n",
      "willie26@johnson-howard.com \t 0.2 %\n",
      "melinda39@morton.info \t 0.2 %\n",
      "kelly24@lewis.info \t 0.2 %\n",
      "mholt@hotmail.com \t 0.2 %\n",
      "edwardbrown@yahoo.com \t 0.2 %\n",
      "rebecca45@hale-bauer.biz \t 0.2 %\n",
      "rhonda96@little.org \t 0.2 %\n",
      "lewiskendra@yahoo.com \t 0.2 %\n",
      "morganorozco@hotmail.com \t 0.2 %\n",
      "isaiahcampbell@yahoo.com \t 0.2 %\n",
      "autumn88@mendoza-mills.com \t 0.2 %\n",
      "christianwade@butler.info \t 0.2 %\n",
      "gonzaleskatie@gmail.com \t 0.2 %\n",
      "cohensean@yahoo.com \t 0.2 %\n",
      "jenniferking@hess.net \t 0.2 %\n",
      "cunninghamwilliam@hotmail.com \t 0.2 %\n",
      "ilawson@hotmail.com \t 0.2 %\n",
      "christopherhaas@gmail.com \t 0.2 %\n",
      "ethomas@yahoo.com \t 0.2 %\n",
      "mary84@edwards.com \t 0.2 %\n",
      "hailey18@yahoo.com \t 0.2 %\n",
      "sanchezkara@hotmail.com \t 0.2 %\n",
      "kellydeborah@chan.biz \t 0.2 %\n",
      "dbrown@gmail.com \t 0.2 %\n",
      "waltercharles@sanders.net \t 0.2 %\n",
      "dblair@gmail.com \t 0.2 %\n",
      "hevans@kelly-nunez.org \t 0.2 %\n",
      "jacquelinewest@pace-herrera.com \t 0.2 %\n",
      "amandadean@gmail.com \t 0.2 %\n",
      "steven00@combs.com \t 0.2 %\n",
      "martinkristi@sanchez-coleman.com \t 0.2 %\n",
      "lance88@briggs.com \t 0.2 %\n",
      "swilliams@ball-arroyo.com \t 0.2 %\n",
      "brenda68@hotmail.com \t 0.2 %\n",
      "aaron11@luna.com \t 0.2 %\n",
      "hortonrobert@hotmail.com \t 0.2 %\n",
      "qmorse@yahoo.com \t 0.2 %\n",
      "lisagutierrez@johnson-herring.net \t 0.2 %\n",
      "wandaphillips@leonard.com \t 0.2 %\n",
      "vchurch@walter-martinez.com \t 0.2 %\n",
      "alicia85@lee.com \t 0.2 %\n",
      "denisemorrow@johnson-james.net \t 0.2 %\n",
      "hyoung@jones.info \t 0.2 %\n",
      "vancealicia@hotmail.com \t 0.2 %\n",
      "melindahartman@gmail.com \t 0.2 %\n",
      "justin26@gmail.com \t 0.2 %\n",
      "allison80@carson-hansen.com \t 0.2 %\n",
      "kimberlyruiz@smith-gordon.com \t 0.2 %\n",
      "hoffmandaniel@yahoo.com \t 0.2 %\n",
      "acampbell@sanchez-velasquez.info \t 0.2 %\n",
      "michellejohnson@sanders-rodriguez.com \t 0.2 %\n",
      "michael00@yahoo.com \t 0.2 %\n",
      "michael86@yahoo.com \t 0.2 %\n",
      "katie25@gmail.com \t 0.2 %\n",
      "johnsonhannah@gmail.com \t 0.2 %\n",
      "awu@robinson.org \t 0.2 %\n",
      "thomaswendy@yahoo.com \t 0.2 %\n",
      "montgomerycheyenne@hotmail.com \t 0.2 %\n",
      "codyandrews@hotmail.com \t 0.2 %\n",
      "ocortez@gmail.com \t 0.2 %\n",
      "michael53@munoz.com \t 0.2 %\n",
      "tsmith@yahoo.com \t 0.2 %\n",
      "whitetyler@anderson-avery.com \t 0.2 %\n",
      "katherine20@yahoo.com \t 0.2 %\n",
      "jeffery48@mcguire.com \t 0.2 %\n",
      "andreperez@hotmail.com \t 0.2 %\n",
      "jason50@bates.net \t 0.2 %\n",
      "millerrachel@gallagher-nichols.com \t 0.2 %\n",
      "tinayoung@hotmail.com \t 0.2 %\n",
      "jenniferbarnett@gmail.com \t 0.2 %\n",
      "jared39@hotmail.com \t 0.2 %\n",
      "suzanne63@gmail.com \t 0.2 %\n",
      "hannahwilson@davidson.com \t 0.2 %\n",
      "agolden@yahoo.com \t 0.2 %\n",
      "aschmidt@johnson.biz \t 0.2 %\n",
      "pamelahampton@martin-cobb.com \t 0.2 %\n",
      "mitchellscott@gmail.com \t 0.2 %\n",
      "aaron04@yahoo.com \t 0.2 %\n",
      "javier02@landry.net \t 0.2 %\n",
      "johnsonchelsea@gmail.com \t 0.2 %\n",
      "kristina69@gmail.com \t 0.2 %\n",
      "hking@hotmail.com \t 0.2 %\n",
      "sharper@yahoo.com \t 0.2 %\n",
      "parkerkayla@miles.com \t 0.2 %\n",
      "bethsullivan@reed.net \t 0.2 %\n",
      "vmartin@yahoo.com \t 0.2 %\n",
      "jennifer24@hotmail.com \t 0.2 %\n",
      "russellbaldwin@ferrell.info \t 0.2 %\n",
      "jefferycampbell@gmail.com \t 0.2 %\n",
      "patriciajackson@jenkins.info \t 0.2 %\n",
      "ashleychristopher@gmail.com \t 0.2 %\n",
      "marcusleach@floyd.org \t 0.2 %\n",
      "jamesfaulkner@hoffman-wolfe.org \t 0.2 %\n",
      "teresapacheco@salinas.biz \t 0.2 %\n",
      "zachary94@gmail.com \t 0.2 %\n",
      "duane56@hotmail.com \t 0.2 %\n",
      "hduke@hotmail.com \t 0.2 %\n",
      "ievans@hotmail.com \t 0.2 %\n",
      "blakekent@smith-pena.com \t 0.2 %\n",
      "bushsusan@hotmail.com \t 0.2 %\n",
      "deandanny@yahoo.com \t 0.2 %\n",
      "pmercado@rodriguez.com \t 0.2 %\n",
      "walkererica@scott.com \t 0.2 %\n",
      "sandraharrison@bailey-gordon.net \t 0.2 %\n",
      "lschroeder@gmail.com \t 0.2 %\n",
      "floresarthur@yahoo.com \t 0.2 %\n",
      "ulee@wells.com \t 0.2 %\n",
      "stephaniehill@hotmail.com \t 0.2 %\n",
      "alvareznancy@lucas.biz \t 0.2 %\n",
      "brian28@sanchez.org \t 0.2 %\n",
      "audreyjohnson@rosales.com \t 0.2 %\n",
      "rjohns@gmail.com \t 0.2 %\n",
      "robertramirez@kaiser.com \t 0.2 %\n",
      "oliviamarshall@sawyer-sellers.com \t 0.2 %\n",
      "thomasgeorge@gonzalez-grant.com \t 0.2 %\n",
      "cunninghamkyle@ellis-parker.org \t 0.2 %\n",
      "dongarcia@hotmail.com \t 0.2 %\n",
      "whess@hotmail.com \t 0.2 %\n",
      "aaron22@gmail.com \t 0.2 %\n",
      "wrightpeter@yahoo.com \t 0.2 %\n",
      "taylorjared@foster.net \t 0.2 %\n",
      "douglasdunlap@boone-rose.com \t 0.2 %\n",
      "chasejennifer@hotmail.com \t 0.2 %\n",
      "denise22@hernandez-townsend.com \t 0.2 %\n",
      "alexandra26@summers-davis.com \t 0.2 %\n",
      "vstafford@hotmail.com \t 0.2 %\n",
      "wellsjuan@schroeder.com \t 0.2 %\n",
      "lewisgabrielle@hotmail.com \t 0.2 %\n",
      "alicia28@fuller.com \t 0.2 %\n",
      "megan33@gmail.com \t 0.2 %\n",
      "joshua56@garcia.com \t 0.2 %\n",
      "kaylahenderson@hotmail.com \t 0.2 %\n",
      "angelaphillips@gmail.com \t 0.2 %\n",
      "lisacabrera@yahoo.com \t 0.2 %\n",
      "drew29@hotmail.com \t 0.2 %\n",
      "jordandavid@gmail.com \t 0.2 %\n",
      "salazarkaren@hotmail.com \t 0.2 %\n",
      "simmonsmartin@hardy.com \t 0.2 %\n",
      "karina59@gmail.com \t 0.2 %\n",
      "katrina56@gmail.com \t 0.2 %\n",
      "ncummings@yahoo.com \t 0.2 %\n",
      "phillipsmark@byrd.net \t 0.2 %\n",
      "arnoldsamuel@wilson.com \t 0.2 %\n",
      "micheleblanchard@lopez-greene.com \t 0.2 %\n",
      "bonnie69@lin.biz \t 0.2 %\n",
      "elizabethnunez@vasquez-nelson.net \t 0.2 %\n",
      "ellen24@anthony.com \t 0.2 %\n",
      "richard81@day.org \t 0.2 %\n",
      "youngbarbara@yahoo.com \t 0.2 %\n",
      "longwilliam@gmail.com \t 0.2 %\n",
      "haydenrebecca@gmail.com \t 0.2 %\n",
      "dale88@hotmail.com \t 0.2 %\n",
      "hunterlucas@gmail.com \t 0.2 %\n",
      "kimberlyfrederick@gmail.com \t 0.2 %\n",
      "david58@yahoo.com \t 0.2 %\n"
     ]
    },
    {
     "name": "stdout",
     "output_type": "stream",
     "text": [
      "xkaufman@gmail.com \t 0.2 %\n",
      "tinasmith@martinez.info \t 0.2 %\n",
      "david81@hotmail.com \t 0.2 %\n",
      "nathan84@lowery.net \t 0.2 %\n",
      "stevenking@patterson.com \t 0.2 %\n",
      "lamryan@curtis-garcia.net \t 0.2 %\n",
      "zscott@wright.com \t 0.2 %\n",
      "jenniferjenkins@jones.com \t 0.2 %\n",
      "keith13@yahoo.com \t 0.2 %\n",
      "chansen@holt.com \t 0.2 %\n",
      "yvaughn@meyer.com \t 0.2 %\n",
      "waltonkaren@gmail.com \t 0.2 %\n",
      "turnerryan@hotmail.com \t 0.2 %\n",
      "nicolegay@jennings.com \t 0.2 %\n",
      "veronicapruitt@hotmail.com \t 0.2 %\n",
      "jasonhensley@yahoo.com \t 0.2 %\n",
      "hoganrichard@george.com \t 0.2 %\n",
      "nblack@smith-romero.biz \t 0.2 %\n",
      "david43@richards.com \t 0.2 %\n",
      "ellenlucas@cox.org \t 0.2 %\n",
      "wheelernancy@hernandez.com \t 0.2 %\n",
      "davisrobert@hicks-smith.com \t 0.2 %\n",
      "richard35@hale-duncan.net \t 0.2 %\n",
      "webertom@phelps.com \t 0.2 %\n",
      "jessica04@christian-riley.com \t 0.2 %\n",
      "karenosborne@yahoo.com \t 0.2 %\n",
      "tknapp@yahoo.com \t 0.2 %\n",
      "pkline@hotmail.com \t 0.2 %\n",
      "johnsonpaul@keller-woodard.org \t 0.2 %\n",
      "halljohn@yahoo.com \t 0.2 %\n",
      "welchashlee@hotmail.com \t 0.2 %\n",
      "heatherhall@yahoo.com \t 0.2 %\n",
      "jacksonking@mccormick.com \t 0.2 %\n",
      "thomas22@yahoo.com \t 0.2 %\n",
      "mark52@yahoo.com \t 0.2 %\n",
      "jonathanconner@morales.biz \t 0.2 %\n",
      "brianwilson@yahoo.com \t 0.2 %\n",
      "dominguezjacob@hotmail.com \t 0.2 %\n",
      "tylerhernandez@barton.info \t 0.2 %\n",
      "greenelizabeth@edwards.com \t 0.2 %\n",
      "schmidtdenise@hotmail.com \t 0.2 %\n",
      "cody68@hotmail.com \t 0.2 %\n",
      "josephgould@west.info \t 0.2 %\n",
      "scottrose@yahoo.com \t 0.2 %\n",
      "kennethperry@bowen.org \t 0.2 %\n",
      "dbell@hotmail.com \t 0.2 %\n",
      "andrew06@peterson.com \t 0.2 %\n",
      "rskinner@johnson-jefferson.com \t 0.2 %\n",
      "christopher44@hotmail.com \t 0.2 %\n",
      "jeremy00@yahoo.com \t 0.2 %\n",
      "joshuaodom@gmail.com \t 0.2 %\n",
      "randall85@williams.com \t 0.2 %\n",
      "paulkemp@yahoo.com \t 0.2 %\n",
      "taylor91@hotmail.com \t 0.2 %\n",
      "jeffrey54@mcdonald-williams.com \t 0.2 %\n",
      "victoria53@hotmail.com \t 0.2 %\n",
      "clester@yahoo.com \t 0.2 %\n",
      "chris67@ryan.biz \t 0.2 %\n",
      "fuenteskathryn@schmidt-johnson.org \t 0.2 %\n",
      "rogersheather@hamilton-jensen.org \t 0.2 %\n",
      "gregorystewart@hotmail.com \t 0.2 %\n",
      "krista86@norton.net \t 0.2 %\n",
      "jacquelinehughes@bennett-branch.info \t 0.2 %\n",
      "anntaylor@hotmail.com \t 0.2 %\n",
      "bwilliams@hotmail.com \t 0.2 %\n",
      "brandonsmith@yahoo.com \t 0.2 %\n",
      "dtaylor@webb.com \t 0.2 %\n",
      "shafferdaniel@murphy-harris.info \t 0.2 %\n",
      "david79@lopez-montes.com \t 0.2 %\n",
      "dana59@hotmail.com \t 0.2 %\n",
      "patrickorr@yahoo.com \t 0.2 %\n",
      "larrywest@davis.com \t 0.2 %\n",
      "jared99@yahoo.com \t 0.2 %\n",
      "madisonalexander@gmail.com \t 0.2 %\n",
      "tammyjones@griffin.com \t 0.2 %\n",
      "mark81@wagner.com \t 0.2 %\n",
      "efreeman@moore.com \t 0.2 %\n",
      "brian51@cook.info \t 0.2 %\n",
      "fishermichael@ramos.com \t 0.2 %\n",
      "connorlambert@yahoo.com \t 0.2 %\n",
      "fischermonica@gmail.com \t 0.2 %\n",
      "bakerdrew@gmail.com \t 0.2 %\n",
      "alexandermichael@hotmail.com \t 0.2 %\n",
      "vancemichelle@gmail.com \t 0.2 %\n",
      "lsmith@chung.com \t 0.2 %\n",
      "drew27@ryan-thompson.com \t 0.2 %\n",
      "martinezleah@carter.com \t 0.2 %\n",
      "randyrobinson@hotmail.com \t 0.2 %\n",
      "gregoryrussell@yahoo.com \t 0.2 %\n",
      "hallthomas@lane.com \t 0.2 %\n",
      "gbarnes@gmail.com \t 0.2 %\n",
      "edward29@knapp.com \t 0.2 %\n",
      "randywhite@armstrong.biz \t 0.2 %\n",
      "rachelrodriguez@lara-waters.com \t 0.2 %\n",
      "arice@reynolds.info \t 0.2 %\n",
      "acontreras@hotmail.com \t 0.2 %\n",
      "scastillo@hotmail.com \t 0.2 %\n",
      "beckycarson@jones-brown.biz \t 0.2 %\n",
      "jacqueline46@mcdonald-smith.biz \t 0.2 %\n",
      "bhill@pierce-kane.info \t 0.2 %\n",
      "flevine@gmail.com \t 0.2 %\n",
      "samuel94@hotmail.com \t 0.2 %\n",
      "jessicabrewer@simmons.net \t 0.2 %\n",
      "audreyguerrero@carey.com \t 0.2 %\n",
      "kimberly46@garcia-nelson.biz \t 0.2 %\n",
      "stevenjohnson@yahoo.com \t 0.2 %\n",
      "jasmin20@salas.com \t 0.2 %\n",
      "douglas95@yahoo.com \t 0.2 %\n",
      "middletonrenee@gmail.com \t 0.2 %\n",
      "twilliams@gibbs.net \t 0.2 %\n",
      "chelsea05@hansen.com \t 0.2 %\n",
      "jlawson@mccarthy.com \t 0.2 %\n",
      "charris@gmail.com \t 0.2 %\n",
      "mfoster@brown-white.com \t 0.2 %\n",
      "taylormason@gmail.com \t 0.2 %\n",
      "george02@hotmail.com \t 0.2 %\n",
      "lisadelgado@gmail.com \t 0.2 %\n",
      "michaelcampbell@yahoo.com \t 0.2 %\n",
      "enash@gmail.com \t 0.2 %\n",
      "qchristian@martinez-allen.com \t 0.2 %\n",
      "tracy79@wheeler.net \t 0.2 %\n",
      "blevinseric@stephens.com \t 0.2 %\n",
      "mooremichelle@logan.com \t 0.2 %\n",
      "annstone@hotmail.com \t 0.2 %\n",
      "contrerastiffany@gmail.com \t 0.2 %\n",
      "pallen@yahoo.com \t 0.2 %\n",
      "jasonrichardson@elliott.com \t 0.2 %\n",
      "qgarcia@williams.com \t 0.2 %\n",
      "john85@martin-morgan.com \t 0.2 %\n",
      "nwagner@yahoo.com \t 0.2 %\n",
      "christophermorrison@mcguire-carter.biz \t 0.2 %\n",
      "asilva@yahoo.com \t 0.2 %\n",
      "theresamitchell@martin-chambers.biz \t 0.2 %\n",
      "david47@hotmail.com \t 0.2 %\n",
      "jill33@allen.com \t 0.2 %\n",
      "williamsjohnny@ferguson.info \t 0.2 %\n",
      "kara33@gmail.com \t 0.2 %\n",
      "leonardhancock@hotmail.com \t 0.2 %\n",
      "rlindsey@norris.com \t 0.2 %\n",
      "qeaton@savage.com \t 0.2 %\n",
      "briancarlson@page-fleming.com \t 0.2 %\n",
      "josephallen@hotmail.com \t 0.2 %\n",
      "kaitlyn78@chang.com \t 0.2 %\n",
      "aaron89@gmail.com \t 0.2 %\n",
      "rileyalejandro@gmail.com \t 0.2 %\n",
      "riverarebecca@gmail.com \t 0.2 %\n",
      "pvega@hotmail.com \t 0.2 %\n",
      "egomez@hotmail.com \t 0.2 %\n",
      "alvaradoadam@jones-thompson.com \t 0.2 %\n",
      "david80@knight.com \t 0.2 %\n",
      "jessica97@hotmail.com \t 0.2 %\n",
      "ijones@schaefer-carr.net \t 0.2 %\n",
      "daniellecuevas@hotmail.com \t 0.2 %\n",
      "gharrison@davis.com \t 0.2 %\n",
      "gomezalicia@hotmail.com \t 0.2 %\n",
      "hickmanelizabeth@yahoo.com \t 0.2 %\n",
      "francesjohnson@lee.com \t 0.2 %\n",
      "rhaas@yahoo.com \t 0.2 %\n",
      "garcialisa@yahoo.com \t 0.2 %\n",
      "floresbradley@hotmail.com \t 0.2 %\n",
      "angela25@walker.com \t 0.2 %\n",
      "michaelferguson@torres-miles.net \t 0.2 %\n",
      "erik46@hotmail.com \t 0.2 %\n",
      "ebrown@osborne.com \t 0.2 %\n",
      "lauriewilson@jackson.com \t 0.2 %\n",
      "jmartinez@anderson.org \t 0.2 %\n",
      "brandon77@richardson.com \t 0.2 %\n",
      "james30@carter.biz \t 0.2 %\n",
      "campbellross@yahoo.com \t 0.2 %\n",
      "william25@mcconnell.com \t 0.2 %\n",
      "anthony09@hotmail.com \t 0.2 %\n",
      "kevin45@mathews.net \t 0.2 %\n",
      "tammy12@gmail.com \t 0.2 %\n",
      "awatkins@yahoo.com \t 0.2 %\n",
      "beth76@yahoo.com \t 0.2 %\n",
      "lawrencewalton@hotmail.com \t 0.2 %\n",
      "lewisjessica@craig-evans.com \t 0.2 %\n",
      "deborah48@white.com \t 0.2 %\n",
      "afry@ford.biz \t 0.2 %\n",
      "ebutler@rogers-gonzalez.com \t 0.2 %\n",
      "ashleymoreno@gmail.com \t 0.2 %\n",
      "lucastaylor@yahoo.com \t 0.2 %\n",
      "charlesjackson@brady-fuller.net \t 0.2 %\n",
      "sharon82@saunders.info \t 0.2 %\n",
      "dylanmartin@hotmail.com \t 0.2 %\n",
      "laurajimenez@gmail.com \t 0.2 %\n",
      "gregoryholmes@hotmail.com \t 0.2 %\n",
      "longphillip@yahoo.com \t 0.2 %\n",
      "xevans@hotmail.com \t 0.2 %\n",
      "christopher66@hotmail.com \t 0.2 %\n",
      "cwilson@hotmail.com \t 0.2 %\n",
      "katherinegray@yahoo.com \t 0.2 %\n",
      "stevenanderson@yahoo.com \t 0.2 %\n",
      "john96@chan-anderson.biz \t 0.2 %\n",
      "charlesgutierrez@hotmail.com \t 0.2 %\n",
      "\n",
      "\n",
      "Column: Address\n",
      "24645 Valerie Unions Suite 582\\nCobbborough, DC 99414-7564    1\n",
      "967 Chloe Springs Suite 554\\nLake Ashley, GA 03230            1\n",
      "189 Crawford Hill Apt. 746\\nNew Madison, WV 14108-4333        1\n",
      "314 Kidd Run\\nJohnfort, KS 46546-2732                         1\n",
      "8594 Erica Manors Apt. 529\\nLake Miguel, MH 10652-9266        1\n",
      "                                                             ..\n",
      "223 Powell Ridges\\nEast Richardtown, RI 90715-2178            1\n",
      "9580 Clark Trail Suite 687\\nWilliamsside, FM 57367            1\n",
      "193 Ashley Plaza Suite 706\\nHernandezport, WV 71270-7338      1\n",
      "909 Hicks Mountains\\nGabriellaport, MD 33121                  1\n",
      "76666 Kathy Locks\\nPort Susan, ME 64335                       1\n",
      "Name: Address, Length: 500, dtype: int64\n",
      "24645 Valerie Unions Suite 582\n",
      "Cobbborough, DC 99414-7564 \t 0.2 %\n",
      "967 Chloe Springs Suite 554\n",
      "Lake Ashley, GA 03230 \t 0.2 %\n",
      "189 Crawford Hill Apt. 746\n",
      "New Madison, WV 14108-4333 \t 0.2 %\n",
      "314 Kidd Run\n",
      "Johnfort, KS 46546-2732 \t 0.2 %\n",
      "8594 Erica Manors Apt. 529\n",
      "Lake Miguel, MH 10652-9266 \t 0.2 %\n",
      "46954 Melissa Corner\n",
      "North Amanda, LA 34844 \t 0.2 %\n",
      "969 William Manor\n",
      "West Sherry, MA 66282-2258 \t 0.2 %\n",
      "14548 Hayes Isle Apt. 436\n",
      "Garciaville, IN 65366 \t 0.2 %\n",
      "PSC 4427, Box 6116\n",
      "APO AP 87584-5187 \t 0.2 %\n",
      "257 Hunt Manors\n",
      "South Charlottefort, CT 15033 \t 0.2 %\n",
      "88995 Edwards Row Suite 456\n",
      "North Jo, DE 02062-7953 \t 0.2 %\n",
      "5183 Michael Ramp\n",
      "East Lukeburgh, FL 93972 \t 0.2 %\n",
      "645 Elizabeth Pass\n",
      "Williamview, MS 51544 \t 0.2 %\n",
      "37216 Krista Drives\n",
      "West Andrew, DE 70036 \t 0.2 %\n",
      "5791 Jessica Cove\n",
      "Mckinneyborough, OK 64460-7536 \t 0.2 %\n",
      "102 Karen Court\n",
      "New Jameston, SC 57761-6570 \t 0.2 %\n",
      "PSC 4856, Box 1297\n",
      "APO AA 17032-7944 \t 0.2 %\n",
      "16338 Scott Corner Suite 727\n",
      "West Alexandra, AR 54429 \t 0.2 %\n",
      "209 Andrew Viaduct\n",
      "Port Anna, OR 01627-8037 \t 0.2 %\n",
      "149 Monica Vista Apt. 908\n",
      "Jasonberg, TX 19632-8886 \t 0.2 %\n",
      "0030 Mathis Square Suite 154\n",
      "South Jadehaven, AR 33997-4450 \t 0.2 %\n",
      "3761 Jared Mountain\n",
      "Nicholasport, WY 51181 \t 0.2 %\n",
      "4800 Ashley Spur Apt. 347\n",
      "Dannyfort, GA 23352 \t 0.2 %\n",
      "291 Stephen Glens Apt. 532\n",
      "Jacquelineton, NJ 53606-5656 \t 0.2 %\n",
      "1995 Susan Locks Suite 760\n",
      "East Cheryl, AR 37103-5176 \t 0.2 %\n",
      "06103 Erik Fields Suite 781\n",
      "Jonesmouth, GA 49931-3078 \t 0.2 %\n",
      "939 Watson Run\n",
      "Staceyberg, VT 58376-0454 \t 0.2 %\n",
      "8248 Parker Overpass Apt. 024\n",
      "Lake Pamela, WY 44322-1735 \t 0.2 %\n",
      "239 Bush Fall Apt. 906\n",
      "Riveraville, KY 88906-3319 \t 0.2 %\n",
      "20888 Erin Via\n",
      "Grahamville, NH 72913-6101 \t 0.2 %\n",
      "634 Nancy Shoals Suite 241\n",
      "South Barry, AR 52307 \t 0.2 %\n",
      "96393 Joshua Rapids\n",
      "Jonesview, VA 58733 \t 0.2 %\n",
      "1768 Rosales Ford Apt. 793\n",
      "Lake Markbury, SC 31567 \t 0.2 %\n",
      "78787 Mitchell Lights\n",
      "Matthewville, AZ 30310-0130 \t 0.2 %\n",
      "667 Stephanie Lake Apt. 658\n",
      "Marthashire, NC 11815-2307 \t 0.2 %\n",
      "0537 Rice Village\n",
      "West Kylieberg, NJ 19433-5090 \t 0.2 %\n",
      "2891 Martin Plain Suite 197\n",
      "Melaniestad, NE 65650-8529 \t 0.2 %\n",
      "839 Heather Cliff\n",
      "South Blake, SC 90412 \t 0.2 %\n",
      "1867 Gregory Isle Suite 022\n",
      "Port Tammy, LA 52305-9696 \t 0.2 %\n",
      "Unit 3998 Box 4348\n",
      "DPO AA 37629 \t 0.2 %\n",
      "860 Lee Key\n",
      "West Debra, SD 97450-0495 \t 0.2 %\n",
      "5855 Gross Burgs Suite 169\n",
      "Ballland, AS 98525 \t 0.2 %\n",
      "649 King Extension\n",
      "North April, NY 54175 \t 0.2 %\n",
      "43382 Heather Meadows\n",
      "New Lisaburgh, WI 19151-0302 \t 0.2 %\n",
      "57993 Jennifer Unions Suite 685\n",
      "Emilyville, OK 53366-2375 \t 0.2 %\n",
      "8982 Burton Row\n",
      "Wilsonton, PW 88606 \t 0.2 %\n",
      "55436 Devon Plain\n",
      "West Kendraberg, HI 18826-3623 \t 0.2 %\n",
      "565 Duarte Keys Suite 293\n",
      "Traceytown, IN 17797 \t 0.2 %\n",
      "4502 Jennifer Prairie Suite 029\n",
      "Lake Jesse, LA 02328-3633 \t 0.2 %\n",
      "623 Erica Flat\n",
      "Lake Josephland, MT 73514 \t 0.2 %\n",
      "3933 Brooke Point\n",
      "Johnsonburgh, DE 22659-3488 \t 0.2 %\n",
      "931 Andrews Heights\n",
      "South Shelley, NV 21850 \t 0.2 %\n",
      "223 Love Trail Suite 831\n",
      "Port Jeffrey, IN 46849 \t 0.2 %\n",
      "89154 Jones Stream Suite 311\n",
      "East Katie, NC 72742-1516 \t 0.2 %\n",
      "39209 Cooper Neck Apt. 541\n"
     ]
    },
    {
     "name": "stdout",
     "output_type": "stream",
     "text": [
      "Tylermouth, ME 94450 \t 0.2 %\n",
      "PSC 1634, Box 8167\n",
      "APO AA 49814 \t 0.2 %\n",
      "1576 Lane Shoal\n",
      "Rogerton, PR 63867-3426 \t 0.2 %\n",
      "2380 Fisher Neck Suite 233\n",
      "Brianland, AZ 34453-0625 \t 0.2 %\n",
      "680 Jennifer Lodge Apt. 808\n",
      "Brendachester, TX 05000-5873 \t 0.2 %\n",
      "33213 Tanner Knolls Apt. 519\n",
      "Whiteborough, OR 37119-7790 \t 0.2 %\n",
      "75805 Larry Mills\n",
      "East Cristian, MH 53820 \t 0.2 %\n",
      "2559 Harris Pines Apt. 514\n",
      "Michaelshire, ME 21753-8834 \t 0.2 %\n",
      "Unit 7029 Box 3429\n",
      "DPO AE 56975 \t 0.2 %\n",
      "922 Hampton Path Suite 198\n",
      "Port Jasonmouth, FL 46623 \t 0.2 %\n",
      "983 Ross Glen\n",
      "West Jessica, NJ 42860-5757 \t 0.2 %\n",
      "19704 Kaitlin Flat\n",
      "West Andrewtown, VI 38642 \t 0.2 %\n",
      "02136 White Grove Suite 418\n",
      "Marytown, DE 70033 \t 0.2 %\n",
      "14220 Carla Flat Suite 521\n",
      "Lake Matthew, DE 06183 \t 0.2 %\n",
      "001 Estrada Union\n",
      "Lewismouth, TN 47360 \t 0.2 %\n",
      "51173 Curtis Cliff Apt. 727\n",
      "Ramoston, DE 32714-4579 \t 0.2 %\n",
      "5661 Grant Centers\n",
      "Stevensfurt, CT 53959 \t 0.2 %\n",
      "13799 Cortez Inlet Suite 733\n",
      "East Stevenshire, AL 32757 \t 0.2 %\n",
      "68388 Reyes Lights Suite 692\n",
      "Josephbury, WV 92213-0247 \t 0.2 %\n",
      "74839 Michael Plains Suite 356\n",
      "South Austinshire, ND 40309-1424 \t 0.2 %\n",
      "3600 Amber Plains Suite 002\n",
      "North Jamesburgh, VA 07917 \t 0.2 %\n",
      "16763 Melissa Creek Suite 367\n",
      "North Keithland, PW 29458 \t 0.2 %\n",
      "71757 David Freeway Apt. 851\n",
      "West Carriefurt, NC 27106-3364 \t 0.2 %\n",
      "0554 Powers Curve\n",
      "Nathanchester, FL 06878-6336 \t 0.2 %\n",
      "506 Allison Cove Apt. 766\n",
      "Weeksstad, AS 71308 \t 0.2 %\n",
      "2781 Matthew Wells Apt. 569\n",
      "Potterview, KS 50763-8282 \t 0.2 %\n",
      "0506 Pitts Forks\n",
      "Woodsbury, AL 98082-8186 \t 0.2 %\n",
      "497 Julian Brook Suite 872\n",
      "Hillberg, FM 87927-5760 \t 0.2 %\n",
      "63010 Reyes Creek Apt. 569\n",
      "West Catherinetown, MN 67491-6816 \t 0.2 %\n",
      "Unit 1743 Box 8085\n",
      "DPO AE 47693-8164 \t 0.2 %\n",
      "51173 Burton Wall Apt. 417\n",
      "Prestonville, NY 37002 \t 0.2 %\n",
      "9991 Macdonald Squares\n",
      "Vasquezborough, WY 73586-4597 \t 0.2 %\n",
      "USNV Fuller\n",
      "FPO AE 32122-5711 \t 0.2 %\n",
      "Unit 0373 Box 8981\n",
      "DPO AA 89902 \t 0.2 %\n",
      "5292 Melanie Crescent Apt. 064\n",
      "Fischerborough, NV 85721-5045 \t 0.2 %\n",
      "5277 Patel Brook\n",
      "East Audrey, NJ 19075 \t 0.2 %\n",
      "65407 Warner Forges Suite 071\n",
      "New Lori, AZ 30132-2395 \t 0.2 %\n",
      "3324 Branch Squares Suite 221\n",
      "Riddleton, OK 34594 \t 0.2 %\n",
      "89301 Kylie Crossroad\n",
      "Petersonberg, MH 23834 \t 0.2 %\n",
      "446 Daniel Rest Suite 644\n",
      "Port Matthewhaven, MN 89465 \t 0.2 %\n",
      "08111 Barry Highway\n",
      "Bentonberg, GU 13706 \t 0.2 %\n",
      "Unit 7502 Box 8345\n",
      "DPO AE 53747 \t 0.2 %\n",
      "19018 Christopher Neck Apt. 963\n",
      "Mcintoshchester, IA 66908-2456 \t 0.2 %\n",
      "2086 Lisa View\n",
      "Ortegabury, MI 43544 \t 0.2 %\n",
      "625 Andrew Locks\n",
      "Madisonside, AZ 74068 \t 0.2 %\n",
      "64475 Andre Club Apt. 795\n",
      "Port Dannytown, PW 63227 \t 0.2 %\n",
      "172 Owen Divide Suite 497\n",
      "West Richard, CA 19320 \t 0.2 %\n",
      "7182 Stephen Fork Suite 150\n",
      "Port Laurachester, CO 99974-1961 \t 0.2 %\n",
      "17463 George Ports\n",
      "East Julianborough, WY 68291 \t 0.2 %\n",
      "Unit 0474 Box 0661\n",
      "DPO AP 48938-3469 \t 0.2 %\n",
      "311 Savannah Ramp Suite 245\n",
      "Carlsonbury, LA 08453-6035 \t 0.2 %\n",
      "73469 Baker Forest Apt. 550\n",
      "Allenbury, TX 63791 \t 0.2 %\n",
      "85181 Christian Courts Suite 758\n",
      "Larryfurt, MS 38722-6766 \t 0.2 %\n",
      "1812 Sandra Shoal Apt. 350\n",
      "Amandamouth, SC 87794-1628 \t 0.2 %\n",
      "9944 Trevor Expressway\n",
      "Robinsonstad, OR 34630-1840 \t 0.2 %\n",
      "496 Bush Turnpike Apt. 674\n",
      "Donnabury, OR 32596-0079 \t 0.2 %\n",
      "7875 Landry Road Apt. 947\n",
      "Brownshire, NC 10074-7735 \t 0.2 %\n",
      "82227 Farmer Throughway Suite 266\n",
      "Leeborough, WV 35324 \t 0.2 %\n",
      "86536 Barnes Track\n",
      "South Kyle, MT 21570-5606 \t 0.2 %\n",
      "657 Judith Crossroad\n",
      "Hancockchester, VI 75658-5788 \t 0.2 %\n",
      "PSC 2734, Box 5255\n",
      "APO AA 98456-7482 \t 0.2 %\n",
      "81830 Katie Squares\n",
      "Port Austinland, FL 73522-0761 \t 0.2 %\n",
      "9495 Mary Fall Apt. 777\n",
      "Glassport, ND 17957-5596 \t 0.2 %\n",
      "949 Tapia Viaduct\n",
      "Martinezfurt, CT 79271-8205 \t 0.2 %\n",
      "78297 Brown Street Apt. 786\n",
      "East Taylorfurt, AK 97246 \t 0.2 %\n",
      "07867 Horn Lake\n",
      "West Teresatown, VT 64387-1228 \t 0.2 %\n",
      "06307 Scott Spurs Suite 161\n",
      "Jessicaburgh, NH 26093-5908 \t 0.2 %\n",
      "20618 David Square\n",
      "Gayland, HI 78719-9628 \t 0.2 %\n",
      "9985 Wolf Pass\n",
      "Brandimouth, CA 63346 \t 0.2 %\n",
      "4568 Jeffrey Lane Apt. 512\n",
      "South Jason, WV 78116-0966 \t 0.2 %\n",
      "486 Adams Hills\n",
      "North Walter, MS 18124 \t 0.2 %\n",
      "02342 Melissa Islands\n",
      "Smithhaven, KS 68335 \t 0.2 %\n",
      "1414 David Throughway\n",
      "Port Jason, OH 22070-1220 \t 0.2 %\n",
      "PSC 1893, Box 7023\n",
      "APO AA 73445 \t 0.2 %\n",
      "1693 Gary Mission Suite 479\n",
      "Lake Kelly, MO 68205 \t 0.2 %\n",
      "093 Larson Ports\n",
      "West Kathryn, OK 91243 \t 0.2 %\n",
      "601 Mitchell Estates Suite 922\n",
      "Port Daniel, WV 83595 \t 0.2 %\n",
      "14889 Page Prairie\n",
      "Dennisville, NV 27982-4210 \t 0.2 %\n",
      "634 Robert Hill Apt. 800\n",
      "Coxtown, OK 32430 \t 0.2 %\n",
      "19270 Velasquez Coves\n",
      "Boylechester, AZ 51480 \t 0.2 %\n",
      "920 Anderson Extensions\n",
      "Greenfurt, GA 19316-3498 \t 0.2 %\n",
      "40288 Stephens Corner Apt. 221\n",
      "West Stephanie, OK 55617-4332 \t 0.2 %\n",
      "606 Perez Drives\n",
      "Maryside, CO 94387-5877 \t 0.2 %\n",
      "979 Alison Motorway Apt. 676\n",
      "North Frank, HI 55870-2651 \t 0.2 %\n",
      "4968 Bennett Manors\n",
      "Rogerschester, IL 81579-8333 \t 0.2 %\n",
      "PSC 4508, Box 7961\n",
      "APO AA 55271-2375 \t 0.2 %\n",
      "214 Obrien Lakes Suite 572\n",
      "South Jeremy, KS 52867-7617 \t 0.2 %\n",
      "0338 Francis Junction\n",
      "Lake Alexstad, NH 14302 \t 0.2 %\n",
      "2595 James Creek Apt. 571\n",
      "Millerberg, HI 82236 \t 0.2 %\n",
      "30700 Justin Ports\n",
      "Port David, PA 52171-5921 \t 0.2 %\n",
      "Unit 6174 Box 1949\n",
      "DPO AP 27478 \t 0.2 %\n",
      "6861 Lopez Fork Apt. 114\n",
      "South Jamiechester, DE 63993 \t 0.2 %\n",
      "13164 Miller Camp\n",
      "South Deannaberg, ID 85433 \t 0.2 %\n",
      "544 Alexander Heights Suite 768\n",
      "North Johnview, MT 57912 \t 0.2 %\n",
      "PSC 9698, Box 5466\n",
      "APO AE 75496-3580 \t 0.2 %\n",
      "21918 Gail Glens\n",
      "Barbershire, SD 45790-8387 \t 0.2 %\n",
      "64147 Alexander Station Apt. 474\n",
      "East Jasonview, MN 83788 \t 0.2 %\n",
      "284 Jennifer Curve\n",
      "Lake Hollyberg, IN 05228 \t 0.2 %\n",
      "06392 Matthew Viaduct Suite 000\n",
      "Lake Ronald, NY 45787-0181 \t 0.2 %\n",
      "04290 Barron Square\n",
      "Laurenmouth, AS 79917-9544 \t 0.2 %\n",
      "USS Johnson\n",
      "FPO AE 35617-5384 \t 0.2 %\n",
      "95967 Pitts Burgs\n",
      "West Sarah, MH 27817-5147 \t 0.2 %\n",
      "01242 Stephanie Ways Suite 003\n",
      "Churchville, MO 35617 \t 0.2 %\n",
      "PSC 6338, Box 7637\n",
      "APO AA 22066 \t 0.2 %\n",
      "70128 Zimmerman Overpass\n",
      "Robertsshire, VA 59860 \t 0.2 %\n",
      "USCGC Gill\n",
      "FPO AA 26496 \t 0.2 %\n",
      "1470 Kathleen Pass\n",
      "South Christopherberg, SD 22850 \t 0.2 %\n",
      "9507 Robert Prairie Apt. 601\n",
      "East Crystalview, SC 56814 \t 0.2 %\n",
      "97686 Robertson Cape Suite 607\n",
      "Port Veronicaside, NE 47293 \t 0.2 %\n",
      "4929 Michelle Grove\n",
      "Lake Alexis, MT 92147-1660 \t 0.2 %\n",
      "978 Bean Square\n",
      "Deanburgh, OR 95149 \t 0.2 %\n",
      "5358 Stephen Parkway Suite 894\n",
      "Kimview, MN 17436-4528 \t 0.2 %\n",
      "577 Peters Turnpike\n",
      "Loriport, MA 60572-1669 \t 0.2 %\n",
      "686 Baker Fords Suite 893\n",
      "East John, IL 50171-9547 \t 0.2 %\n",
      "229 Eric Mountains\n",
      "New Caleb, PA 00396 \t 0.2 %\n",
      "6009 Heather Park\n",
      "Howardhaven, SD 51705-2993 \t 0.2 %\n",
      "7835 Rogers Roads\n",
      "East Amberhaven, MI 70835-2286 \t 0.2 %\n",
      "4547 Archer Common\n",
      "Diazchester, CA 06566-8576 \t 0.2 %\n",
      "9847 Michael Plaza Suite 837\n",
      "Lake Christophershire, NV 87324-8427 \t 0.2 %\n",
      "PSC 1790, Box 8872\n",
      "APO AE 01821-4769 \t 0.2 %\n",
      "73098 Ronald Port\n",
      "Cliffordborough, MO 37479-9244 \t 0.2 %\n",
      "05302 Dunlap Ferry\n",
      "New Stephaniehaven, MP 42268 \t 0.2 %\n",
      "PSC 8159, Box 3254\n",
      "APO AP 71071-4890 \t 0.2 %\n",
      "0377 Reed Via Apt. 169\n",
      "Alexandershire, MO 43498 \t 0.2 %\n",
      "15298 Erickson Shore Apt. 056\n",
      "South Patrickfort, MD 16503-3145 \t 0.2 %\n",
      "19123 Craig Isle Apt. 719\n",
      "Millsmouth, SC 94194 \t 0.2 %\n",
      "USS Beasley\n",
      "FPO AP 50556-7615 \t 0.2 %\n",
      "50639 Sarah Isle Apt. 268\n",
      "Yangmouth, MO 05540 \t 0.2 %\n",
      "360 Albert Spring\n",
      "South Tylerbury, VA 92641-9077 \t 0.2 %\n",
      "9781 Lopez Spurs Apt. 300\n",
      "Fitzgeraldborough, MA 89035-4317 \t 0.2 %\n",
      "0859 Audrey Isle\n",
      "South Zachary, AS 09138 \t 0.2 %\n",
      "93306 Donald Greens\n",
      "New Christopherbury, SC 59447 \t 0.2 %\n",
      "768 Riley Pine Apt. 624\n",
      "Kellymouth, OK 98992-3108 \t 0.2 %\n",
      "811 Maria Run\n",
      "Sanchezville, MI 04953 \t 0.2 %\n",
      "Unit 4065 Box 2267\n",
      "DPO AE 69180-7372 \t 0.2 %\n",
      "0508 Terrance Cliff\n",
      "Rebekahtown, NC 48724-8308 \t 0.2 %\n",
      "Unit 4742 Box 9517\n",
      "DPO AE 67219-3123 \t 0.2 %\n",
      "967 Andrew Spurs\n",
      "Mathistown, CO 28230 \t 0.2 %\n",
      "07813 Randy Point\n",
      "Lake Thomasberg, MO 06013-9920 \t 0.2 %\n",
      "426 Scott Radial Apt. 065\n",
      "Abigailstad, MS 16590-2222 \t 0.2 %\n",
      "20711 Martin Harbors Apt. 582\n",
      "New Justinborough, AK 40834-2664 \t 0.2 %\n",
      "672 Jesus Roads Apt. 443\n",
      "Thompsonland, WY 69228 \t 0.2 %\n",
      "83995 Owens Course Apt. 747\n",
      "South Jennifer, NJ 29942 \t 0.2 %\n",
      "6734 Perez Trafficway Suite 395\n",
      "Nunezland, NC 83245 \t 0.2 %\n",
      "395 Summers Courts Apt. 413\n",
      "Coopermouth, IA 21205-1079 \t 0.2 %\n",
      "USNV Johnson\n",
      "FPO AP 19026 \t 0.2 %\n",
      "5480 Vazquez Crossing Suite 825\n",
      "East Christopherland, PA 42104 \t 0.2 %\n",
      "6362 Wilson Mountain\n",
      "Johnsonfurt, GA 15169 \t 0.2 %\n",
      "338 Graham Loaf Suite 236\n",
      "East Toddton, FM 43566-4238 \t 0.2 %\n",
      "399 Jeremy Skyway Suite 377\n",
      "North Keithville, IL 55074 \t 0.2 %\n",
      "835 Frank Tunnel\n",
      "Wrightmouth, MI 82180-9605 \t 0.2 %\n",
      "592 Villanueva Village\n",
      "Woodsstad, AK 20530 \t 0.2 %\n",
      "6820 Erica Vista Apt. 418\n",
      "Brightside, IA 50639 \t 0.2 %\n",
      "84426 Julia Vista\n",
      "North Teresa, KY 50756 \t 0.2 %\n",
      "74260 Carly Mews Suite 703\n",
      "Jonesberg, OR 39594 \t 0.2 %\n",
      "353 Jones Loaf Apt. 767\n",
      "South Michaelburgh, PR 16281-4840 \t 0.2 %\n",
      "388 Kelly Pike\n",
      "West Jeffery, DE 44039-7785 \t 0.2 %\n",
      "79139 Boone Common\n",
      "Stewartstad, DE 63633-1812 \t 0.2 %\n",
      "2064 Poole Groves\n",
      "North Chrisland, SC 78169 \t 0.2 %\n",
      "4835 Jessica Walk Suite 205\n",
      "West Jacob, NH 93681 \t 0.2 %\n",
      "90089 Eric Well\n",
      "Nicoleside, MT 95918 \t 0.2 %\n",
      "4522 Paul Heights Suite 851\n",
      "Adamsland, RI 08981 \t 0.2 %\n",
      "3802 Veronica Causeway\n",
      "East Patrickfurt, DC 84522 \t 0.2 %\n",
      "3794 Michael Forest Apt. 750\n",
      "New Stephenberg, MD 61004-0181 \t 0.2 %\n",
      "645 Martha Park Apt. 611\n",
      "Jeffreychester, MN 67218-7250 \t 0.2 %\n",
      "55479 Peters Field Apt. 702\n",
      "North Micheleberg, PR 45063 \t 0.2 %\n",
      "99902 Scott Road\n",
      "Joyton, MT 46760-7400 \t 0.2 %\n",
      "448 Stewart Divide\n",
      "New Ashleyfort, FM 84050 \t 0.2 %\n",
      "7613 Miguel Knoll Suite 762\n",
      "West Katherine, WV 19406 \t 0.2 %\n",
      "4475 Lopez Stravenue Apt. 690\n",
      "Smithchester, NV 84347 \t 0.2 %\n",
      "5401 Holt Corner Apt. 195\n",
      "Hannahstad, NC 86693-3595 \t 0.2 %\n",
      "7761 Hughes Curve Apt. 880\n",
      "Rodriguezberg, MN 96206-5317 \t 0.2 %\n",
      "047 Carla Locks\n",
      "Coreymouth, AR 98066 \t 0.2 %\n",
      "6058 Thomas Divide\n",
      "Matthewland, PA 89442-8198 \t 0.2 %\n",
      "10022 Wilson Orchard Suite 107\n",
      "Harrisstad, MH 99272 \t 0.2 %\n",
      "981 Matthew Valley Apt. 621\n",
      "Lake Tracyburgh, NM 33288-1364 \t 0.2 %\n",
      "38154 Davis Locks\n",
      "Lake Stevenfort, KY 86814-9222 \t 0.2 %\n",
      "53964 Weaver Brook Suite 861\n",
      "Stevensonshire, NY 18128 \t 0.2 %\n",
      "368 Morris Ports Apt. 735\n",
      "New Lisaville, GA 34271-8632 \t 0.2 %\n",
      "232 John Haven Suite 456\n",
      "Johnsonhaven, VT 90106-0173 \t 0.2 %\n",
      "40494 Robert Park\n",
      "Heatherside, IL 70364 \t 0.2 %\n",
      "30242 Rubio Forest\n",
      "Port Kyleland, VA 18339-5779 \t 0.2 %\n",
      "27032 Michelle Forest\n",
      "Morrowtown, ND 14749 \t 0.2 %\n",
      "036 Mary Drive Apt. 581\n",
      "Port Brandytown, FL 66143 \t 0.2 %\n",
      "PSC 3408, Box 3353\n",
      "APO AE 05113-1257 \t 0.2 %\n",
      "31927 Jill Mountain\n",
      "South Jessica, MN 63418 \t 0.2 %\n",
      "87270 Garrett Cliffs Suite 361\n",
      "Brooksberg, MO 26555-2502 \t 0.2 %\n",
      "0272 Jones Way\n",
      "Lake Angela, MP 97003-5793 \t 0.2 %\n",
      "3751 Green Loaf\n",
      "New Julia, VT 20897 \t 0.2 %\n",
      "43102 Russo View Suite 717\n",
      "Hollyport, SC 15344 \t 0.2 %\n",
      "2971 Angela Island\n",
      "Lake Timothychester, NE 48734-6685 \t 0.2 %\n",
      "93101 Shannon Common\n",
      "South Destiny, ND 30379-2855 \t 0.2 %\n",
      "00615 Tracy Islands\n",
      "New Marcfort, MO 87297-7431 \t 0.2 %\n",
      "546 Benjamin Lights Suite 421\n",
      "Romerofurt, NC 43746-4501 \t 0.2 %\n",
      "6961 Mary Stravenue Suite 857\n",
      "Hilltown, TX 52813-7703 \t 0.2 %\n",
      "USCGC Dodson\n",
      "FPO AA 87781-3935 \t 0.2 %\n",
      "928 Bailey Road\n",
      "East Mary, DE 11678-5634 \t 0.2 %\n",
      "997 Campbell Flat Suite 970\n",
      "East Amanda, PW 22048 \t 0.2 %\n",
      "Unit 2413 Box 0347\n",
      "DPO AA 07580-2652 \t 0.2 %\n",
      "572 Michelle Motorway Apt. 889\n",
      "New Craig, ND 17250 \t 0.2 %\n",
      "49558 Ramirez Road Suite 399\n",
      "Phillipstad, OH 35641-3238 \t 0.2 %\n",
      "7602 Scott Plaza Apt. 158\n",
      "Lake Amberland, VI 10516-3276 \t 0.2 %\n",
      "439 Todd Summit Apt. 478\n",
      "Mooreland, AR 31655 \t 0.2 %\n",
      "4307 Nicholas Drive Apt. 259\n",
      "Ramirezberg, AS 59832 \t 0.2 %\n",
      "412 Jackson River\n",
      "Kleinburgh, KS 52039-7404 \t 0.2 %\n",
      "2749 Cunningham Flat Apt. 838\n",
      "Derekberg, OH 45288 \t 0.2 %\n",
      "170 Andrew Mews\n",
      "North Susan, NM 85338-2426 \t 0.2 %\n",
      "739 David Isle Suite 818\n",
      "Chandlertown, DC 34587 \t 0.2 %\n",
      "04311 Oconnor Park Apt. 415\n",
      "Kelleystad, ND 63064-8935 \t 0.2 %\n",
      "45442 Barber Key Apt. 882\n",
      "South Jaclyn, NM 24367-3001 \t 0.2 %\n",
      "8830 Debra Loaf Apt. 341\n",
      "Drakeville, ME 22340 \t 0.2 %\n",
      "6586 Reginald Crest Apt. 061\n",
      "North Josephfort, NM 55275 \t 0.2 %\n",
      "91542 Jessica Springs Suite 255\n",
      "Thomashaven, MT 39239-3790 \t 0.2 %\n",
      "18372 Matthew Fork Suite 705\n",
      "North Matthewmouth, KY 99737 \t 0.2 %\n",
      "109 Jessica Manor\n",
      "North Patriciashire, PR 84726 \t 0.2 %\n",
      "11143 Park Squares\n",
      "Samanthatown, UT 97073 \t 0.2 %\n",
      "960 Miller Union\n",
      "East Virginiastad, MS 74191-2346 \t 0.2 %\n",
      "56674 Melanie Flats\n",
      "Schneiderberg, IN 66532 \t 0.2 %\n",
      "988 Matthew Plaza\n",
      "Lake Jacobshire, AL 37889 \t 0.2 %\n",
      "732 Heather Place\n",
      "North Michael, VT 92527 \t 0.2 %\n",
      "4301 Park Lake Apt. 158\n",
      "Spencertown, SD 45934 \t 0.2 %\n",
      "24373 Mcgee Drive Apt. 990\n",
      "New Mariahaven, NH 14470 \t 0.2 %\n",
      "210 Johnson Street Suite 717\n",
      "New Bethanyborough, MO 84817 \t 0.2 %\n",
      "97262 Brian Skyway\n",
      "Lake Marissa, GU 96859 \t 0.2 %\n",
      "Unit 5934 Box 9748\n",
      "DPO AA 37361-3043 \t 0.2 %\n",
      "04140 Cameron Brooks Apt. 724\n",
      "South Laurenberg, HI 08562 \t 0.2 %\n",
      "54560 Thompson Creek Apt. 029\n",
      "New Brianville, FL 84430-8588 \t 0.2 %\n",
      "770 Katie Walk Apt. 585\n",
      "Port David, MN 52850 \t 0.2 %\n",
      "4483 Jones Motorway Suite 872\n",
      "Lake Jamiefurt, UT 75292 \t 0.2 %\n",
      "0360 Pearson Dam Suite 263\n",
      "Lake Shawn, UT 65986-4190 \t 0.2 %\n",
      "52326 Townsend Centers\n",
      "Lake Williamburgh, NJ 70568-7463 \t 0.2 %\n",
      "7773 Powell Springs Suite 190\n",
      "Samanthaland, ND 44358 \t 0.2 %\n",
      "12612 Johnson Skyway Suite 764\n",
      "Jessicaville, CT 14968-6590 \t 0.2 %\n",
      "465 Kenneth Common Apt. 192\n",
      "North Tracy, WI 36024-8978 \t 0.2 %\n",
      "PSC 5723, Box 8159\n",
      "APO AA 74738 \t 0.2 %\n",
      "770 Lewis Pike Apt. 869\n",
      "Phelpsport, PA 93969-4887 \t 0.2 %\n",
      "5086 Morales Islands Apt. 099\n",
      "New Patricia, IL 78823 \t 0.2 %\n",
      "33940 Craig Throughway Apt. 334\n",
      "Martinview, IL 62015-0314 \t 0.2 %\n",
      "82537 Alice Centers\n",
      "Gregland, OR 71749 \t 0.2 %\n",
      "510 Michele Port\n",
      "East Angela, HI 23618 \t 0.2 %\n",
      "9909 Hoffman Ranch Suite 195\n",
      "Scotthaven, SC 53575 \t 0.2 %\n",
      "861 Annette Stream Suite 771\n",
      "North Miguel, CA 33824-1610 \t 0.2 %\n",
      "89300 Amber Centers Apt. 879\n",
      "Victoriaton, VT 98394 \t 0.2 %\n",
      "57120 Frank Keys\n",
      "Jerryborough, DC 81028-0939 \t 0.2 %\n",
      "9863 Dawn Court Suite 429\n",
      "Lake Connie, MI 12238 \t 0.2 %\n",
      "2583 Mark Springs\n",
      "Lake Robert, AL 40928 \t 0.2 %\n",
      "62106 Nathan Mountain Suite 505\n",
      "North Matthewborough, AZ 32092-6122 \t 0.2 %\n",
      "2100 Austin Camp Apt. 943\n",
      "Anthonymouth, WV 24243-3781 \t 0.2 %\n",
      "16329 Sara Neck Apt. 463\n",
      "Bryanside, TX 62329 \t 0.2 %\n",
      "3144 Jamie Rest\n",
      "Maxwellville, NC 93749-1190 \t 0.2 %\n",
      "USCGC Hernandez\n",
      "FPO AE 53064 \t 0.2 %\n",
      "272 Frederick Lodge\n",
      "East Andrew, FL 07414 \t 0.2 %\n",
      "555 Hunt Track Suite 307\n",
      "South Kristi, PA 73709 \t 0.2 %\n",
      "264 Derek Dam Apt. 680\n",
      "West Danielle, SD 91517-8611 \t 0.2 %\n",
      "PSC 2490, Box 2120\n",
      "APO AE 15445-2876 \t 0.2 %\n",
      "USNS Cardenas\n",
      "FPO AA 85439-9449 \t 0.2 %\n",
      "USNV Reese\n",
      "FPO AA 73568-0730 \t 0.2 %\n",
      "70129 Darrell Spring\n",
      "Thomasmouth, HI 39319-2739 \t 0.2 %\n",
      "0833 Brian Canyon Suite 566\n",
      "Anthonymouth, VT 01329-7541 \t 0.2 %\n",
      "28942 Bradford Crescent\n",
      "New Morganfurt, MD 77162-0478 \t 0.2 %\n",
      "51920 Kent Junctions Apt. 352\n",
      "Walkerport, NY 11257-6647 \t 0.2 %\n",
      "14023 Rodriguez Passage\n",
      "Port Jacobville, PR 37242-1057 \t 0.2 %\n",
      "9759 Tammy Skyway Apt. 171\n",
      "Lake Debra, AS 95011 \t 0.2 %\n",
      "18219 Jackson Well\n",
      "Fosterton, MP 85302 \t 0.2 %\n",
      "3286 Lynch Field\n",
      "Henrychester, RI 41833-7902 \t 0.2 %\n",
      "459 Amy Burg\n",
      "Lake Travis, OR 53314 \t 0.2 %\n",
      "1502 Gonzalez Throughway\n",
      "Kathrynchester, FM 86014-7194 \t 0.2 %\n",
      "662 Wells Stravenue Apt. 578\n",
      "South Kristaview, DC 49423-2452 \t 0.2 %\n",
      "13693 Cox Falls Apt. 693\n",
      "Padillaview, PW 28998-0386 \t 0.2 %\n",
      "190 Kelley Burg\n",
      "West Juliaport, IA 35826-8163 \t 0.2 %\n",
      "22630 Bell Centers Suite 030\n",
      "North Danielport, FM 31756 \t 0.2 %\n",
      "295 Michael Keys Apt. 706\n",
      "Ericfurt, KS 09476 \t 0.2 %\n",
      "870 Dennis Throughway\n",
      "Wilsonport, PW 12658 \t 0.2 %\n",
      "02393 Baker Falls\n",
      "New Georgeport, ND 36338-5110 \t 0.2 %\n",
      "601 Ashley Loop Suite 162\n",
      "Port Benjaminview, DE 02456 \t 0.2 %\n",
      "8522 Regina Port Suite 782\n",
      "Port Kaitlin, TX 50501-7264 \t 0.2 %\n",
      "456 Eric Views\n",
      "North Amanda, MS 98876-3102 \t 0.2 %\n",
      "4029 Gerald Cape\n",
      "South Laurenborough, SC 19130-5133 \t 0.2 %\n",
      "12641 Greer Track Apt. 183\n",
      "North Mitchell, IA 77991-6276 \t 0.2 %\n",
      "2082 Christopher Place Apt. 081\n",
      "Cynthiahaven, HI 99393-8910 \t 0.2 %\n",
      "63872 Chavez Lodge\n",
      "Danielton, NJ 85847 \t 0.2 %\n",
      "5527 Hogan Road\n",
      "South Jeffreychester, MA 28632 \t 0.2 %\n",
      "24458 Hudson Square\n",
      "Hallside, PA 68038 \t 0.2 %\n",
      "14064 Frazier Hills Apt. 176\n",
      "Amyborough, MP 77858-0018 \t 0.2 %\n",
      "297 Francis Valley\n",
      "South Lindsey, NY 13669-5367 \t 0.2 %\n",
      "Unit 1609 Box 3480\n",
      "DPO AA 95185 \t 0.2 %\n",
      "5379 Rhonda Prairie Apt. 696\n",
      "Brownland, WA 87027 \t 0.2 %\n",
      "019 Elliott Tunnel Suite 190\n",
      "Nicholsbury, WV 60804-4440 \t 0.2 %\n",
      "721 Robert Viaduct Apt. 052\n",
      "Lake Olivia, MO 93807 \t 0.2 %\n",
      "0013 Andre Field\n",
      "Whitebury, AZ 68447-6306 \t 0.2 %\n",
      "120 Micheal Fort Apt. 762\n"
     ]
    },
    {
     "name": "stdout",
     "output_type": "stream",
     "text": [
      "East Patrickbury, WY 65946 \t 0.2 %\n",
      "24725 Neal Lock\n",
      "Cynthiaville, NY 51578 \t 0.2 %\n",
      "66880 Mckinney Hills\n",
      "Matthewchester, MH 88386 \t 0.2 %\n",
      "049 Matthew Terrace\n",
      "Lake Matthew, MS 20210 \t 0.2 %\n",
      "374 Dana Junctions\n",
      "Langside, WI 36474 \t 0.2 %\n",
      "7955 Samantha Walk Suite 230\n",
      "North Luis, IL 44629 \t 0.2 %\n",
      "64460 Morris Fords\n",
      "Gonzalesmouth, MI 40832 \t 0.2 %\n",
      "92028 Thomas Mountains Suite 044\n",
      "New Matthew, MI 02429-0994 \t 0.2 %\n",
      "32303 Baldwin Causeway\n",
      "South Robertside, HI 58126 \t 0.2 %\n",
      "1279 Douglas Mountains\n",
      "Port Christopherberg, RI 32811-8325 \t 0.2 %\n",
      "581 Gilmore Port\n",
      "Heatherville, MS 20879 \t 0.2 %\n",
      "981 David Square\n",
      "New Jacquelinetown, AK 66018-4092 \t 0.2 %\n",
      "4547 Stafford Throughway Apt. 178\n",
      "North Patrick, MD 60768-4837 \t 0.2 %\n",
      "543 Reynolds Burg\n",
      "Melindaberg, KY 46631 \t 0.2 %\n",
      "66340 Michael Lane Suite 878\n",
      "West Brian, LA 69137-1147 \t 0.2 %\n",
      "USNS Jacobs\n",
      "FPO AE 71507-1312 \t 0.2 %\n",
      "15863 Harrington Glens Suite 012\n",
      "Marystad, LA 50652-8210 \t 0.2 %\n",
      "94730 Martin Mount\n",
      "New Matthew, VI 08142-6708 \t 0.2 %\n",
      "6705 Miller Orchard Suite 186\n",
      "Lake Shanestad, MO 75696-5051 \t 0.2 %\n",
      "35466 Tommy Stream\n",
      "Port Daniellemouth, KS 68863-6330 \t 0.2 %\n",
      "973 Marc Ports\n",
      "Brownstad, IN 48786-6700 \t 0.2 %\n",
      "06939 Jones Neck\n",
      "Mariaview, VT 87641 \t 0.2 %\n",
      "407 Blake Ways\n",
      "Port Davidland, WA 78438 \t 0.2 %\n",
      "PSC 6717, Box 7673\n",
      "APO AE 66950-0088 \t 0.2 %\n",
      "344 Jessica Stravenue\n",
      "New Brian, MA 04730-6761 \t 0.2 %\n",
      "40000 Ann Port Suite 474\n",
      "Youngberg, MS 03651 \t 0.2 %\n",
      "38528 Jerry Valleys Suite 027\n",
      "Jonesstad, NY 74787-2691 \t 0.2 %\n",
      "96480 White Lane Suite 521\n",
      "Pattersonhaven, OR 39409-4561 \t 0.2 %\n",
      "8667 Suzanne Motorway Suite 241\n",
      "Spencechester, KY 74385-4618 \t 0.2 %\n",
      "685 Sexton Ranch Suite 125\n",
      "Lake Robertshire, NE 04469-3024 \t 0.2 %\n",
      "449 Amanda Tunnel\n",
      "Joshuahaven, CO 15377 \t 0.2 %\n",
      "3874 Harper Plaza\n",
      "North Nancy, ME 96802-9462 \t 0.2 %\n",
      "32202 Curtis Branch Apt. 411\n",
      "Port Brettmouth, KY 01192-0594 \t 0.2 %\n",
      "1416 Rachel Crescent\n",
      "West Laurieside, IL 81119-7229 \t 0.2 %\n",
      "0787 Andrews Ranch Apt. 633\n",
      "South Chadburgh, TN 56128 \t 0.2 %\n",
      "450 Samantha Valleys\n",
      "Collinsborough, KS 37205-9891 \t 0.2 %\n",
      "15810 Karl Plain\n",
      "Davidville, TX 64072 \t 0.2 %\n",
      "389 Joshua Stravenue Apt. 983\n",
      "Martinezland, MN 29049 \t 0.2 %\n",
      "0281 Dale Wells Suite 656\n",
      "East Joshua, ME 73389 \t 0.2 %\n",
      "USNS Mitchell\n",
      "FPO AP 92946 \t 0.2 %\n",
      "03065 Henry Courts Suite 443\n",
      "Derekstad, VT 88473 \t 0.2 %\n",
      "Unit 6538 Box 8980\n",
      "DPO AP 09026-4941 \t 0.2 %\n",
      "88978 Noble Crest\n",
      "North Rosemouth, FM 53484-6689 \t 0.2 %\n",
      "0127 Morgan Fields Apt. 080\n",
      "Thompsonfurt, ME 01160-7043 \t 0.2 %\n",
      "0772 Michael Isle Suite 617\n",
      "Meyerstown, WA 45449-6768 \t 0.2 %\n",
      "4066 Gonzalez Dam Apt. 277\n",
      "West Jessica, TN 36880 \t 0.2 %\n",
      "1958 Robert Bridge Apt. 250\n",
      "Malloryland, ID 03393-5336 \t 0.2 %\n",
      "355 Villegas Isle Apt. 070\n",
      "West Jenniferview, NM 26775-4339 \t 0.2 %\n",
      "1583 Anderson Coves\n",
      "East Rebecca, NH 27212 \t 0.2 %\n",
      "0922 Gutierrez Loaf\n",
      "Wattsbury, OH 96315 \t 0.2 %\n",
      "3485 Anthony Street Apt. 119\n",
      "Mikeberg, FL 32602 \t 0.2 %\n",
      "36192 Ho Spring\n",
      "New Michael, RI 65851-6369 \t 0.2 %\n",
      "61629 Johnson Underpass\n",
      "New Eric, MI 92352-5044 \t 0.2 %\n",
      "PSC 0811, Box 7054\n",
      "APO AA 91691 \t 0.2 %\n",
      "157 Linda Roads\n",
      "New Jimmyshire, MH 51942 \t 0.2 %\n",
      "740 Marshall Squares\n",
      "Davidbury, AL 94251-0846 \t 0.2 %\n",
      "309 Singleton Hollow\n",
      "Matthewhaven, NJ 68776-7477 \t 0.2 %\n",
      "3604 Richard Junctions Suite 448\n",
      "Brownburgh, CO 64856-8238 \t 0.2 %\n",
      "8055 Robinson Brooks Apt. 657\n",
      "Walterview, KY 83019 \t 0.2 %\n",
      "Unit 2079 Box 7792\n",
      "DPO AP 47668 \t 0.2 %\n",
      "16001 Wilkins Island Suite 852\n",
      "Jonathanfort, AL 88541-7817 \t 0.2 %\n",
      "46079 Gonzalez Loaf\n",
      "Williamside, PA 72265 \t 0.2 %\n",
      "1094 Bentley Forges\n",
      "Lake Antonio, MA 29181-3664 \t 0.2 %\n",
      "584 Patterson Falls\n",
      "West Alicia, DE 45751 \t 0.2 %\n",
      "7346 Jennifer Green Suite 148\n",
      "Wagnertown, MT 65972 \t 0.2 %\n",
      "26104 Alexander Groves\n",
      "Alexandriaport, WY 28244-9149 \t 0.2 %\n",
      "01512 Hendricks Rue\n",
      "East Pamela, PR 46481 \t 0.2 %\n",
      "449 Williamson Lakes Apt. 118\n",
      "Travisville, AK 06848-0177 \t 0.2 %\n",
      "513 Moore Crescent Apt. 416\n",
      "Amandaberg, GU 03655-2219 \t 0.2 %\n",
      "61502 Parker Vista Apt. 363\n",
      "Jonesshire, GU 33532 \t 0.2 %\n",
      "022 Taylor Mews Suite 692\n",
      "Hallberg, NJ 53614 \t 0.2 %\n",
      "586 Timothy Union Suite 592\n",
      "East Joseph, MO 81374 \t 0.2 %\n",
      "35970 Holly Key\n",
      "Port Frank, VT 78059-9385 \t 0.2 %\n",
      "49791 Rachel Heights Apt. 898\n",
      "East Drewborough, OR 55919-9528 \t 0.2 %\n",
      "422 Rivers Springs Suite 221\n",
      "North Barbara, WI 51990-7596 \t 0.2 %\n",
      "581 Smith Prairie Suite 995\n",
      "Andersontown, AS 58802 \t 0.2 %\n",
      "1549 Walker Passage Apt. 463\n",
      "West Calvin, AZ 03144 \t 0.2 %\n",
      "USCGC Thomas\n",
      "FPO AP 43708-2468 \t 0.2 %\n",
      "354 Sanchez Wall Suite 884\n",
      "Juliabury, VI 39735 \t 0.2 %\n",
      "Unit 7032 Box 7016\n",
      "DPO AE 44749-2992 \t 0.2 %\n",
      "2302 Joshua Park\n",
      "Millerbury, WA 30239-8144 \t 0.2 %\n",
      "7446 Mary Ferry\n",
      "Lake Sherryfurt, GA 49066-0207 \t 0.2 %\n",
      "11430 Meza Green Suite 037\n",
      "Martinezborough, FL 40624-8726 \t 0.2 %\n",
      "PSC 3676, Box 1549\n",
      "APO AE 26130-7683 \t 0.2 %\n",
      "0128 Sampson Loop Suite 943\n",
      "Hoffmanton, MO 02122 \t 0.2 %\n",
      "3132 Willie Harbor\n",
      "Kaylafurt, FL 01107 \t 0.2 %\n",
      "410 Gonzalez Corners Apt. 187\n",
      "East Stephenport, VT 22771 \t 0.2 %\n",
      "42644 Helen Keys Apt. 103\n",
      "Jessicahaven, KS 89406-1960 \t 0.2 %\n",
      "91425 Roy Trail\n",
      "Rivaston, NE 34949-2588 \t 0.2 %\n",
      "9287 Daniel Rest Apt. 608\n",
      "Allentown, SD 73050 \t 0.2 %\n",
      "508 May Highway\n",
      "Port Jacobview, MN 31932 \t 0.2 %\n",
      "222 Jason Park\n",
      "Dominguezshire, NC 98241 \t 0.2 %\n",
      "5052 Mccoy Passage Apt. 328\n",
      "Teresaport, FM 97139 \t 0.2 %\n",
      "Unit 1475 Box 4215\n",
      "DPO AE 39546-5591 \t 0.2 %\n",
      "748 Michael Plaza\n",
      "West Billyside, UT 20799 \t 0.2 %\n",
      "994 Joel Highway Suite 216\n",
      "New Jessicafort, UT 14179 \t 0.2 %\n",
      "363 Kathleen Underpass\n",
      "Ashleyside, PR 98964 \t 0.2 %\n",
      "55414 Ramirez Union Apt. 614\n",
      "West Crystal, CA 03845-2631 \t 0.2 %\n",
      "873 Clay Flats Apt. 810\n",
      "Lake Kyle, GU 48782 \t 0.2 %\n",
      "38678 Sean Drive Suite 293\n",
      "Karentown, IA 78306-2717 \t 0.2 %\n",
      "08079 Thompson Village\n",
      "North Lukeborough, AL 16825 \t 0.2 %\n",
      "791 Allen Trafficway Suite 776\n",
      "Christopherland, DC 41460 \t 0.2 %\n",
      "49352 Avila Terrace Suite 624\n",
      "Amandaland, GA 99736 \t 0.2 %\n",
      "69403 Hernandez Knolls\n",
      "Marciashire, DE 36417-5667 \t 0.2 %\n",
      "66636 Jason Parkway\n",
      "Kellyside, NV 67033 \t 0.2 %\n",
      "71299 Jessica Shoals\n",
      "East Mark, IA 48085-1070 \t 0.2 %\n",
      "16068 Kelly Parks\n",
      "Wrightside, NH 21447 \t 0.2 %\n",
      "54051 Jenkins View\n",
      "East Danielshire, IN 32905-7784 \t 0.2 %\n",
      "845 Colleen Ways\n",
      "Lake Matthewview, VT 65340-3159 \t 0.2 %\n",
      "50593 Wells Roads Apt. 110\n",
      "South Amy, MI 06969-2026 \t 0.2 %\n",
      "0001 Mack Mill\n",
      "North Jennifer, NE 42021-5936 \t 0.2 %\n",
      "381 Ashley Locks Suite 366\n",
      "North Migueltown, TX 09795-0494 \t 0.2 %\n",
      "69279 Stewart Mountains\n",
      "South Pamela, KS 22541-3414 \t 0.2 %\n",
      "757 Amber Gateway Apt. 787\n",
      "New Stephaniechester, OR 61576-6056 \t 0.2 %\n",
      "716 Bush Greens Apt. 098\n",
      "Trevorton, MA 17817-8000 \t 0.2 %\n",
      "26737 Brooks Roads\n",
      "Vincentstad, VA 93089 \t 0.2 %\n",
      "76778 Underwood Knoll\n",
      "New Gregory, ID 57323 \t 0.2 %\n",
      "70562 Gonzalez Stravenue\n",
      "Elizabethland, WI 40700-9149 \t 0.2 %\n",
      "8032 Hodge Circle Apt. 255\n",
      "Lake Jessicashire, OR 54914 \t 0.2 %\n",
      "6218 Michael Station Apt. 982\n",
      "Salazarburgh, NJ 79955 \t 0.2 %\n",
      "27563 Vincent Lake\n",
      "Allenchester, DC 22159 \t 0.2 %\n",
      "4190 Shelton Harbors\n",
      "North Christopher, RI 60962 \t 0.2 %\n",
      "836 Amy Villages\n",
      "Hannahside, RI 09207-2616 \t 0.2 %\n",
      "39637 Griffin Plain Suite 691\n",
      "New Deborahview, MP 73870-3773 \t 0.2 %\n",
      "2859 Rodriguez Forks\n",
      "Port Josephtown, OH 13591-3011 \t 0.2 %\n",
      "29282 Alexander Street\n",
      "South Andrewmouth, MS 22041 \t 0.2 %\n",
      "9271 Christopher Prairie\n",
      "Douglasshire, NM 18581 \t 0.2 %\n",
      "313 Lisa Loop Apt. 543\n",
      "North Jenniferchester, MN 58819 \t 0.2 %\n",
      "4291 Nichols Fork Apt. 562\n",
      "Thomaschester, SC 08938-8769 \t 0.2 %\n",
      "3976 Tom Streets Suite 438\n",
      "Port Davidtown, AL 55334-2369 \t 0.2 %\n",
      "80500 Mary Corners Apt. 225\n",
      "Wallsville, ME 80526 \t 0.2 %\n",
      "13044 Woods Heights\n",
      "Andreamouth, ND 52317-6007 \t 0.2 %\n",
      "3687 Sarah Ranch Suite 919\n",
      "Gainesfort, AK 05665 \t 0.2 %\n",
      "86268 Davis Corner\n",
      "North Danielview, CT 59551-9382 \t 0.2 %\n",
      "31309 Stacey Keys Apt. 979\n",
      "South Jason, KS 35357 \t 0.2 %\n",
      "4589 Dan Fords\n",
      "Beasleyburgh, ME 96590-8272 \t 0.2 %\n",
      "2491 Yates Crest Suite 316\n",
      "Connieville, FL 92080-0819 \t 0.2 %\n",
      "503 Adams Pines Apt. 638\n",
      "North Ashleyside, AZ 34687-6128 \t 0.2 %\n",
      "9135 Rodriguez Dam\n",
      "Ramirezberg, MS 77223 \t 0.2 %\n",
      "8456 Joseph Locks Suite 926\n",
      "Christopherport, TN 57784 \t 0.2 %\n",
      "Unit 6678 Box 6628\n",
      "DPO AP 44369 \t 0.2 %\n",
      "USCGC Nicholson\n",
      "FPO AE 43987-0470 \t 0.2 %\n",
      "2977 Perez Row\n",
      "Lake Jack, TN 45336-9436 \t 0.2 %\n",
      "044 Riggs Expressway\n",
      "Lake Stevenchester, AL 22283 \t 0.2 %\n",
      "9801 Thomas Pike Suite 058\n",
      "Brandishire, AK 88122-1314 \t 0.2 %\n",
      "5118 Madden Views Apt. 738\n",
      "North Barryport, AS 28731-2270 \t 0.2 %\n",
      "50718 Timothy Light\n",
      "Garciaport, SC 60266-6696 \t 0.2 %\n",
      "186 Anthony Route\n",
      "Gordonview, AS 78120-4633 \t 0.2 %\n",
      "81814 Pratt Squares Suite 460\n",
      "North Robert, GU 77741-1307 \t 0.2 %\n",
      "549 Anna Avenue\n",
      "Port Laura, CA 76209-9339 \t 0.2 %\n",
      "691 Johnson Field Apt. 510\n",
      "Michaelville, VI 78140 \t 0.2 %\n",
      "223 Powell Ridges\n",
      "East Richardtown, RI 90715-2178 \t 0.2 %\n",
      "9580 Clark Trail Suite 687\n",
      "Williamsside, FM 57367 \t 0.2 %\n",
      "193 Ashley Plaza Suite 706\n",
      "Hernandezport, WV 71270-7338 \t 0.2 %\n",
      "909 Hicks Mountains\n",
      "Gabriellaport, MD 33121 \t 0.2 %\n",
      "76666 Kathy Locks\n",
      "Port Susan, ME 64335 \t 0.2 %\n",
      "\n",
      "\n",
      "Column: Avatar\n",
      "GreenYellow     7\n",
      "SlateBlue       7\n",
      "Teal            7\n",
      "CadetBlue       7\n",
      "Cyan            7\n",
      "               ..\n",
      "NavajoWhite     1\n",
      "PowderBlue      1\n",
      "MediumPurple    1\n",
      "Yellow          1\n",
      "Azure           1\n",
      "Name: Avatar, Length: 138, dtype: int64\n",
      "GreenYellow \t 1.4 %\n",
      "SlateBlue \t 1.4 %\n",
      "Teal \t 1.4 %\n",
      "CadetBlue \t 1.4 %\n",
      "Cyan \t 1.4 %\n",
      "DarkSeaGreen \t 1.2 %\n",
      "SaddleBrown \t 1.2 %\n",
      "DeepPink \t 1.2 %\n",
      "LightSkyBlue \t 1.2 %\n",
      "OliveDrab \t 1.2 %\n",
      "Moccasin \t 1.2 %\n",
      "Turquoise \t 1.2 %\n",
      "DarkGoldenRod \t 1.2 %\n",
      "Orange \t 1.2 %\n",
      "Wheat \t 1.2 %\n",
      "Tomato \t 1.2 %\n",
      "BlueViolet \t 1.2 %\n",
      "Purple \t 1.2 %\n",
      "Bisque \t 1.2 %\n",
      "DarkViolet \t 1.2 %\n",
      "PeachPuff \t 1.2 %\n",
      "Aqua \t 1.2 %\n",
      "SteelBlue \t 1.0 %\n",
      "DarkMagenta \t 1.0 %\n",
      "White \t 1.0 %\n",
      "Magenta \t 1.0 %\n",
      "LemonChiffon \t 1.0 %\n",
      "LimeGreen \t 1.0 %\n",
      "Olive \t 1.0 %\n",
      "MediumBlue \t 1.0 %\n",
      "GhostWhite \t 1.0 %\n",
      "LightSalmon \t 1.0 %\n",
      "Orchid \t 1.0 %\n",
      "Thistle \t 1.0 %\n",
      "SandyBrown \t 1.0 %\n",
      "BlanchedAlmond \t 1.0 %\n",
      "AntiqueWhite \t 1.0 %\n",
      "Crimson \t 1.0 %\n",
      "DarkGreen \t 1.0 %\n",
      "MediumSpringGreen \t 1.0 %\n",
      "LightGreen \t 1.0 %\n",
      "Navy \t 1.0 %\n",
      "Brown \t 1.0 %\n",
      "Gainsboro \t 0.8 %\n",
      "Green \t 0.8 %\n",
      "DimGray \t 0.8 %\n",
      "Chocolate \t 0.8 %\n",
      "RoyalBlue \t 0.8 %\n",
      "DarkKhaki \t 0.8 %\n",
      "Indigo \t 0.8 %\n",
      "HotPink \t 0.8 %\n",
      "MidnightBlue \t 0.8 %\n",
      "LightCyan \t 0.8 %\n",
      "DarkCyan \t 0.8 %\n",
      "WhiteSmoke \t 0.8 %\n",
      "MediumTurquoise \t 0.8 %\n",
      "FloralWhite \t 0.8 %\n",
      "LightSeaGreen \t 0.8 %\n",
      "Cornsilk \t 0.8 %\n",
      "MediumVioletRed \t 0.8 %\n",
      "HoneyDew \t 0.8 %\n",
      "Sienna \t 0.8 %\n",
      "SeaGreen \t 0.8 %\n",
      "Gold \t 0.8 %\n",
      "Blue \t 0.8 %\n",
      "SlateGray \t 0.8 %\n",
      "LightPink \t 0.8 %\n",
      "PaleVioletRed \t 0.8 %\n",
      "Lime \t 0.8 %\n",
      "MediumSeaGreen \t 0.8 %\n",
      "LavenderBlush \t 0.8 %\n",
      "Pink \t 0.8 %\n",
      "SeaShell \t 0.6 %\n",
      "DarkOliveGreen \t 0.6 %\n",
      "MistyRose \t 0.6 %\n",
      "Violet \t 0.6 %\n",
      "DarkOrange \t 0.6 %\n",
      "DodgerBlue \t 0.6 %\n",
      "LightSteelBlue \t 0.6 %\n",
      "Aquamarine \t 0.6 %\n",
      "Salmon \t 0.6 %\n",
      "MediumAquaMarine \t 0.6 %\n",
      "RosyBrown \t 0.6 %\n",
      "MediumSlateBlue \t 0.6 %\n",
      "Gray \t 0.6 %\n",
      "MintCream \t 0.6 %\n",
      "Beige \t 0.6 %\n",
      "DarkOrchid \t 0.6 %\n",
      "Lavender \t 0.6 %\n",
      "DarkRed \t 0.6 %\n",
      "DarkTurquoise \t 0.6 %\n",
      "Tan \t 0.6 %\n",
      "SpringGreen \t 0.6 %\n",
      "YellowGreen \t 0.6 %\n",
      "LightGray \t 0.6 %\n",
      "DarkBlue \t 0.6 %\n",
      "DarkSlateBlue \t 0.6 %\n",
      "BurlyWood \t 0.6 %\n",
      "Peru \t 0.4 %\n",
      "LightYellow \t 0.4 %\n",
      "Silver \t 0.4 %\n",
      "Snow \t 0.4 %\n",
      "Chartreuse \t 0.4 %\n",
      "FireBrick \t 0.4 %\n",
      "IndianRed \t 0.4 %\n",
      "ForestGreen \t 0.4 %\n",
      "LightCoral \t 0.4 %\n",
      "SkyBlue \t 0.4 %\n",
      "Ivory \t 0.4 %\n",
      "DarkSalmon \t 0.4 %\n",
      "Khaki \t 0.4 %\n",
      "OrangeRed \t 0.4 %\n",
      "Black \t 0.4 %\n",
      "DarkGray \t 0.4 %\n",
      "AliceBlue \t 0.4 %\n",
      "GoldenRod \t 0.4 %\n",
      "Linen \t 0.4 %\n",
      "OldLace \t 0.4 %\n",
      "MediumOrchid \t 0.4 %\n",
      "Fuchsia \t 0.4 %\n",
      "LightBlue \t 0.4 %\n",
      "DarkSlateGray \t 0.4 %\n",
      "Red \t 0.2 %\n",
      "PapayaWhip \t 0.2 %\n",
      "LightGoldenRodYellow \t 0.2 %\n",
      "PaleGoldenRod \t 0.2 %\n",
      "CornflowerBlue \t 0.2 %\n",
      "LightSlateGray \t 0.2 %\n",
      "DeepSkyBlue \t 0.2 %\n",
      "PaleGreen \t 0.2 %\n",
      "PaleTurquoise \t 0.2 %\n",
      "Coral \t 0.2 %\n",
      "LawnGreen \t 0.2 %\n",
      "NavajoWhite \t 0.2 %\n",
      "PowderBlue \t 0.2 %\n",
      "MediumPurple \t 0.2 %\n",
      "Yellow \t 0.2 %\n",
      "Azure \t 0.2 %\n",
      "\n",
      "\n"
     ]
    }
   ],
   "source": [
    "#This gives the number of categories and % observation in each category.\n",
    "for i in categorical:\n",
    "    print ( \"Column:\" , i )\n",
    "    print ( data [ i ].value_counts ( ) ) \n",
    "    d = data [ i ].value_counts ( )\n",
    "    j = 0\n",
    "    for i in d.index:\n",
    "        print ( i , \"\\t\" , round ( ( ( d [ j ] / data.shape [ 0 ] ) * 100  ) , 2 ) , \"%\" )\n",
    "        j += 1\n",
    "    print ( \"\\n\" )"
   ]
  },
  {
   "cell_type": "markdown",
   "metadata": {},
   "source": [
    "### 3.  Checking for defects in the data and performing necessary actions to ‘fix’ those defects:"
   ]
  },
  {
   "cell_type": "markdown",
   "metadata": {},
   "source": [
    "#### a. Checking for missing/null values"
   ]
  },
  {
   "cell_type": "code",
   "execution_count": 840,
   "metadata": {},
   "outputs": [
    {
     "data": {
      "text/plain": [
       "Email                   0\n",
       "Address                 0\n",
       "Avatar                  0\n",
       "Avg. Session Length     0\n",
       "Time on App             0\n",
       "Time on Website         0\n",
       "Length of Membership    0\n",
       "Yearly Amount Spent     0\n",
       "dtype: int64"
      ]
     },
     "execution_count": 840,
     "metadata": {},
     "output_type": "execute_result"
    }
   ],
   "source": [
    "#Number of null values\n",
    "data.isnull ( ).sum ( )"
   ]
  },
  {
   "cell_type": "code",
   "execution_count": 841,
   "metadata": {},
   "outputs": [
    {
     "data": {
      "text/plain": [
       "Email                   0.0\n",
       "Address                 0.0\n",
       "Avatar                  0.0\n",
       "Avg. Session Length     0.0\n",
       "Time on App             0.0\n",
       "Time on Website         0.0\n",
       "Length of Membership    0.0\n",
       "Yearly Amount Spent     0.0\n",
       "dtype: float64"
      ]
     },
     "execution_count": 841,
     "metadata": {},
     "output_type": "execute_result"
    }
   ],
   "source": [
    "#% of null values\n",
    "data.isnull ( ).sum ( ) / data.shape [ 0 ] * 100"
   ]
  },
  {
   "cell_type": "code",
   "execution_count": 842,
   "metadata": {},
   "outputs": [
    {
     "name": "stdout",
     "output_type": "stream",
     "text": [
      "<class 'pandas.core.frame.DataFrame'>\n",
      "RangeIndex: 500 entries, 0 to 499\n",
      "Data columns (total 8 columns):\n",
      "Email                   500 non-null object\n",
      "Address                 500 non-null object\n",
      "Avatar                  500 non-null object\n",
      "Avg. Session Length     500 non-null float64\n",
      "Time on App             500 non-null float64\n",
      "Time on Website         500 non-null float64\n",
      "Length of Membership    500 non-null float64\n",
      "Yearly Amount Spent     500 non-null float64\n",
      "dtypes: float64(5), object(3)\n",
      "memory usage: 31.4+ KB\n"
     ]
    }
   ],
   "source": [
    "#To find missing values\n",
    "data.info ( )"
   ]
  },
  {
   "cell_type": "markdown",
   "metadata": {},
   "source": [
    "- There are no missing values"
   ]
  },
  {
   "cell_type": "markdown",
   "metadata": {},
   "source": [
    "#### b.Checking target variable if normally distributed"
   ]
  },
  {
   "cell_type": "code",
   "execution_count": 843,
   "metadata": {},
   "outputs": [
    {
     "name": "stdout",
     "output_type": "stream",
     "text": [
      "Feature Name: Avg. Session Length\n",
      "Skewness for Avg. Session Length is -0.03217480705175736\n"
     ]
    },
    {
     "data": {
      "image/png": "[encoded data removed]",
      "text/plain": [
       "<Figure size 432x288 with 1 Axes>"
      ]
     },
     "metadata": {
      "needs_background": "light"
     },
     "output_type": "display_data"
    },
    {
     "name": "stdout",
     "output_type": "stream",
     "text": [
      "Feature Name: Time on App\n",
      "Skewness for Time on App is -0.0891210975109327\n"
     ]
    },
    {
     "data": {
      "image/png": "[encoded data removed]",
      "text/plain": [
       "<Figure size 432x288 with 1 Axes>"
      ]
     },
     "metadata": {
      "needs_background": "light"
     },
     "output_type": "display_data"
    },
    {
     "name": "stdout",
     "output_type": "stream",
     "text": [
      "Feature Name: Time on Website\n",
      "Skewness for Time on Website is 0.012141880271484537\n"
     ]
    },
    {
     "data": {
      "image/png": "[encoded data removed]",
      "text/plain": [
       "<Figure size 432x288 with 1 Axes>"
      ]
     },
     "metadata": {
      "needs_background": "light"
     },
     "output_type": "display_data"
    },
    {
     "name": "stdout",
     "output_type": "stream",
     "text": [
      "Feature Name: Length of Membership\n",
      "Skewness for Length of Membership is -0.10660805308863916\n"
     ]
    },
    {
     "data": {
      "image/png": "[encoded data removed]",
      "text/plain": [
       "<Figure size 432x288 with 1 Axes>"
      ]
     },
     "metadata": {
      "needs_background": "light"
     },
     "output_type": "display_data"
    },
    {
     "name": "stdout",
     "output_type": "stream",
     "text": [
      "Feature Name: Yearly Amount Spent\n",
      "Skewness for Yearly Amount Spent is 0.034790184115234546\n"
     ]
    },
    {
     "data": {
      "image/png": "[encoded data removed]",
      "text/plain": [
       "<Figure size 432x288 with 1 Axes>"
      ]
     },
     "metadata": {
      "needs_background": "light"
     },
     "output_type": "display_data"
    }
   ],
   "source": [
    "#Distribution for continuous\n",
    "for i in continuous:\n",
    "    print ( \"Feature Name:\" , i )\n",
    "    print ( \"Skewness for\" , i , \"is\" , data [ i ].skew ( ) )\n",
    "    sns.distplot ( data [ i ] )\n",
    "    plt.show ( )"
   ]
  },
  {
   "cell_type": "markdown",
   "metadata": {},
   "source": [
    "- The distibution looks like normally distributed."
   ]
  },
  {
   "cell_type": "markdown",
   "metadata": {},
   "source": [
    "#### c. Do variables have outliers"
   ]
  },
  {
   "cell_type": "code",
   "execution_count": 844,
   "metadata": {},
   "outputs": [
    {
     "name": "stdout",
     "output_type": "stream",
     "text": [
      "Feature Name: Avg. Session Length\n"
     ]
    },
    {
     "data": {
      "image/png": "[encoded data removed]",
      "text/plain": [
       "<Figure size 432x288 with 1 Axes>"
      ]
     },
     "metadata": {
      "needs_background": "light"
     },
     "output_type": "display_data"
    },
    {
     "name": "stdout",
     "output_type": "stream",
     "text": [
      "Feature Name: Time on App\n"
     ]
    },
    {
     "data": {
      "image/png": "[encoded data removed]",
      "text/plain": [
       "<Figure size 432x288 with 1 Axes>"
      ]
     },
     "metadata": {
      "needs_background": "light"
     },
     "output_type": "display_data"
    },
    {
     "name": "stdout",
     "output_type": "stream",
     "text": [
      "Feature Name: Time on Website\n"
     ]
    },
    {
     "data": {
      "image/png": "[encoded data removed]",
      "text/plain": [
       "<Figure size 432x288 with 1 Axes>"
      ]
     },
     "metadata": {
      "needs_background": "light"
     },
     "output_type": "display_data"
    },
    {
     "name": "stdout",
     "output_type": "stream",
     "text": [
      "Feature Name: Length of Membership\n"
     ]
    },
    {
     "data": {
      "image/png": "[encoded data removed]",
      "text/plain": [
       "<Figure size 432x288 with 1 Axes>"
      ]
     },
     "metadata": {
      "needs_background": "light"
     },
     "output_type": "display_data"
    },
    {
     "name": "stdout",
     "output_type": "stream",
     "text": [
      "Feature Name: Yearly Amount Spent\n"
     ]
    },
    {
     "data": {
      "image/png": "[encoded data removed]",
      "text/plain": [
       "<Figure size 432x288 with 1 Axes>"
      ]
     },
     "metadata": {
      "needs_background": "light"
     },
     "output_type": "display_data"
    }
   ],
   "source": [
    "for i in continuous:\n",
    "    print ( \"Feature Name:\" , i )\n",
    "    sns.boxplot ( data [ i ] )\n",
    "    plt.show ( )"
   ]
  },
  {
   "cell_type": "code",
   "execution_count": 845,
   "metadata": {},
   "outputs": [
    {
     "data": {
      "text/plain": [
       "Index(['Avg. Session Length', 'Time on App', 'Time on Website',\n",
       "       'Length of Membership', 'Yearly Amount Spent'],\n",
       "      dtype='object')"
      ]
     },
     "execution_count": 845,
     "metadata": {},
     "output_type": "execute_result"
    }
   ],
   "source": [
    "continuous"
   ]
  },
  {
   "cell_type": "markdown",
   "metadata": {},
   "source": [
    "- There maybe outliers in the features: 'Avg. Session Length', 'Time on App', 'Time on Website', 'Length of Membership' and 'Yearly Amount Spent'.\n",
    "- For 'Yearly Amount Spent', not need to rectify it.    "
   ]
  },
  {
   "cell_type": "code",
   "execution_count": 846,
   "metadata": {},
   "outputs": [
    {
     "data": {
      "text/plain": [
       "(500, 8)"
      ]
     },
     "execution_count": 846,
     "metadata": {},
     "output_type": "execute_result"
    }
   ],
   "source": [
    "#Befor treatment\n",
    "data.shape"
   ]
  },
  {
   "cell_type": "code",
   "execution_count": 847,
   "metadata": {},
   "outputs": [
    {
     "data": {
      "text/plain": [
       "Index(['Avg. Session Length', 'Time on App', 'Time on Website',\n",
       "       'Length of Membership', 'Yearly Amount Spent'],\n",
       "      dtype='object')"
      ]
     },
     "execution_count": 847,
     "metadata": {},
     "output_type": "execute_result"
    }
   ],
   "source": [
    "continuous"
   ]
  },
  {
   "cell_type": "code",
   "execution_count": 848,
   "metadata": {},
   "outputs": [],
   "source": [
    "col = ['Avg. Session Length', 'Time on App', 'Time on Website',\n",
    "       'Length of Membership']"
   ]
  },
  {
   "cell_type": "code",
   "execution_count": 849,
   "metadata": {},
   "outputs": [],
   "source": [
    "data1 =data.copy()"
   ]
  },
  {
   "cell_type": "code",
   "execution_count": 850,
   "metadata": {},
   "outputs": [],
   "source": [
    "#To remove outliers:\n",
    "for i in col:\n",
    "    q1 = data1[i].quantile(q=0.25)\n",
    "    q2 = data1[i].quantile()\n",
    "    q3 = data1[i].quantile(q=0.75)\n",
    "    iqr = q3-q1\n",
    "    ul = q3+1.5*iqr\n",
    "    ll = q1-1.5*iqr\n",
    "\n",
    "    data1 = data1[(data1[i]>ul ) | (data1[i]>ll)] "
   ]
  },
  {
   "cell_type": "code",
   "execution_count": 851,
   "metadata": {},
   "outputs": [
    {
     "data": {
      "text/plain": [
       "(487, 8)"
      ]
     },
     "execution_count": 851,
     "metadata": {},
     "output_type": "execute_result"
    }
   ],
   "source": [
    "#After treatment\n",
    "data1.shape"
   ]
  },
  {
   "cell_type": "code",
   "execution_count": 852,
   "metadata": {},
   "outputs": [],
   "source": [
    "loss_of_rows = data.shape[0] - data1.shape[0]"
   ]
  },
  {
   "cell_type": "code",
   "execution_count": 853,
   "metadata": {},
   "outputs": [
    {
     "name": "stdout",
     "output_type": "stream",
     "text": [
      "After treating for outliers number of records(rows) lost:  13\n"
     ]
    }
   ],
   "source": [
    "print('After treating for outliers number of records(rows) lost: ', loss_of_rows)"
   ]
  },
  {
   "cell_type": "markdown",
   "metadata": {},
   "source": [
    "### 4.  Summarize relationships among variables "
   ]
  },
  {
   "cell_type": "markdown",
   "metadata": {},
   "source": [
    "#### a. Checking for correlation between the variables"
   ]
  },
  {
   "cell_type": "code",
   "execution_count": 854,
   "metadata": {},
   "outputs": [
    {
     "data": {
      "image/png": "[encoded data removed]",
      "text/plain": [
       "<Figure size 432x288 with 2 Axes>"
      ]
     },
     "metadata": {
      "needs_background": "light"
     },
     "output_type": "display_data"
    }
   ],
   "source": [
    "sns.heatmap ( data1.corr ( ) , annot = True, cmap='coolwarm')\n",
    "plt.show ( )"
   ]
  },
  {
   "cell_type": "markdown",
   "metadata": {},
   "source": [
    "- Good corellation between the independent variable"
   ]
  },
  {
   "cell_type": "code",
   "execution_count": 855,
   "metadata": {},
   "outputs": [
    {
     "data": {
      "text/plain": [
       "Avg. Session Length     0.372339\n",
       "Time on App             0.494499\n",
       "Time on Website        -0.010618\n",
       "Length of Membership    0.786768\n",
       "Yearly Amount Spent     1.000000\n",
       "Name: Yearly Amount Spent, dtype: float64"
      ]
     },
     "execution_count": 855,
     "metadata": {},
     "output_type": "execute_result"
    }
   ],
   "source": [
    "corr = data1.corr ( )\n",
    "corr_target = corr [ 'Yearly Amount Spent' ]\n",
    "corr_target"
   ]
  },
  {
   "cell_type": "markdown",
   "metadata": {},
   "source": [
    "- Yearly Amount Spent is correlated with Avg. Session Length\n",
    "- Yearly Amount Spent is correlated with Time on App\n",
    "- Yearly Amount Spent is highly correlated with Length of Membership"
   ]
  },
  {
   "cell_type": "markdown",
   "metadata": {},
   "source": [
    "#### b.  Ploting all independent variables with the target."
   ]
  },
  {
   "cell_type": "code",
   "execution_count": 856,
   "metadata": {},
   "outputs": [
    {
     "name": "stdout",
     "output_type": "stream",
     "text": [
      "Correlation of 'Yearly Amount Spent' with Avg. Session Length is: 0.372\n"
     ]
    },
    {
     "data": {
      "image/png": "[encoded data removed]",
      "text/plain": [
       "<Figure size 432x288 with 1 Axes>"
      ]
     },
     "metadata": {
      "needs_background": "light"
     },
     "output_type": "display_data"
    },
    {
     "name": "stdout",
     "output_type": "stream",
     "text": [
      "Correlation of 'Yearly Amount Spent' with Time on App is: 0.494\n"
     ]
    },
    {
     "data": {
      "image/png": "[encoded data removed]",
      "text/plain": [
       "<Figure size 432x288 with 1 Axes>"
      ]
     },
     "metadata": {
      "needs_background": "light"
     },
     "output_type": "display_data"
    },
    {
     "name": "stdout",
     "output_type": "stream",
     "text": [
      "Correlation of 'Yearly Amount Spent' with Time on Website is: -0.011\n"
     ]
    },
    {
     "data": {
      "image/png": "[encoded data removed]",
      "text/plain": [
       "<Figure size 432x288 with 1 Axes>"
      ]
     },
     "metadata": {
      "needs_background": "light"
     },
     "output_type": "display_data"
    },
    {
     "name": "stdout",
     "output_type": "stream",
     "text": [
      "Correlation of 'Yearly Amount Spent' with Length of Membership is: 0.787\n"
     ]
    },
    {
     "data": {
      "image/png": "[encoded data removed]",
      "text/plain": [
       "<Figure size 432x288 with 1 Axes>"
      ]
     },
     "metadata": {
      "needs_background": "light"
     },
     "output_type": "display_data"
    }
   ],
   "source": [
    "j = 0\n",
    "for i in corr_target.index:\n",
    "    if i == 'Yearly Amount Spent':\n",
    "        break\n",
    "    else:\n",
    "        print ( \"Correlation of 'Yearly Amount Spent' with\" , i , \"is:\" , round ( corr_target [ j ] , 3 ) )\n",
    "        j += 1\n",
    "        sns.scatterplot ( data1 [ i ] , data1 [ 'Yearly Amount Spent' ] )\n",
    "        plt.show ( )"
   ]
  },
  {
   "cell_type": "markdown",
   "metadata": {},
   "source": [
    "- All independent features can form a linear relationship with the target variable."
   ]
  },
  {
   "cell_type": "markdown",
   "metadata": {},
   "source": [
    "### 5. Spliting the dataset into train and test (70:30) and checking if both train and test representative of the overall data? "
   ]
  },
  {
   "cell_type": "code",
   "execution_count": 857,
   "metadata": {},
   "outputs": [
    {
     "data": {
      "text/plain": [
       "Index(['Email', 'Address', 'Avatar'], dtype='object')"
      ]
     },
     "execution_count": 857,
     "metadata": {},
     "output_type": "execute_result"
    }
   ],
   "source": [
    "categorical"
   ]
  },
  {
   "cell_type": "code",
   "execution_count": 858,
   "metadata": {},
   "outputs": [],
   "source": [
    "X = data1.drop ( ['Email', 'Address', 'Avatar','Yearly Amount Spent'] , axis = 1 )\n",
    "y = data1 [ 'Yearly Amount Spent' ]"
   ]
  },
  {
   "cell_type": "code",
   "execution_count": 859,
   "metadata": {},
   "outputs": [
    {
     "data": {
      "text/html": [
       "<div>\n",
       "<style scoped>\n",
       "    .dataframe tbody tr th:only-of-type {\n",
       "        vertical-align: middle;\n",
       "    }\n",
       "\n",
       "    .dataframe tbody tr th {\n",
       "        vertical-align: top;\n",
       "    }\n",
       "\n",
       "    .dataframe thead th {\n",
       "        text-align: right;\n",
       "    }\n",
       "</style>\n",
       "<table border=\"1\" class=\"dataframe\">\n",
       "  <thead>\n",
       "    <tr style=\"text-align: right;\">\n",
       "      <th></th>\n",
       "      <th>count</th>\n",
       "      <th>mean</th>\n",
       "      <th>std</th>\n",
       "      <th>min</th>\n",
       "      <th>25%</th>\n",
       "      <th>50%</th>\n",
       "      <th>75%</th>\n",
       "      <th>max</th>\n",
       "    </tr>\n",
       "  </thead>\n",
       "  <tbody>\n",
       "    <tr>\n",
       "      <th>Avg. Session Length</th>\n",
       "      <td>487.0</td>\n",
       "      <td>33.055411</td>\n",
       "      <td>0.979273</td>\n",
       "      <td>30.393185</td>\n",
       "      <td>32.340848</td>\n",
       "      <td>33.078717</td>\n",
       "      <td>33.706633</td>\n",
       "      <td>36.139662</td>\n",
       "    </tr>\n",
       "    <tr>\n",
       "      <th>Time on App</th>\n",
       "      <td>487.0</td>\n",
       "      <td>12.077567</td>\n",
       "      <td>0.967415</td>\n",
       "      <td>9.477778</td>\n",
       "      <td>11.396637</td>\n",
       "      <td>12.005916</td>\n",
       "      <td>12.783032</td>\n",
       "      <td>15.126994</td>\n",
       "    </tr>\n",
       "    <tr>\n",
       "      <th>Time on Website</th>\n",
       "      <td>487.0</td>\n",
       "      <td>37.077176</td>\n",
       "      <td>1.001579</td>\n",
       "      <td>34.476878</td>\n",
       "      <td>36.363545</td>\n",
       "      <td>37.076795</td>\n",
       "      <td>37.720069</td>\n",
       "      <td>40.005182</td>\n",
       "    </tr>\n",
       "    <tr>\n",
       "      <th>Length of Membership</th>\n",
       "      <td>487.0</td>\n",
       "      <td>3.576350</td>\n",
       "      <td>0.934265</td>\n",
       "      <td>1.200484</td>\n",
       "      <td>2.970956</td>\n",
       "      <td>3.549036</td>\n",
       "      <td>4.130920</td>\n",
       "      <td>6.401229</td>\n",
       "    </tr>\n",
       "  </tbody>\n",
       "</table>\n",
       "</div>"
      ],
      "text/plain": [
       "                      count       mean       std        min        25%  \\\n",
       "Avg. Session Length   487.0  33.055411  0.979273  30.393185  32.340848   \n",
       "Time on App           487.0  12.077567  0.967415   9.477778  11.396637   \n",
       "Time on Website       487.0  37.077176  1.001579  34.476878  36.363545   \n",
       "Length of Membership  487.0   3.576350  0.934265   1.200484   2.970956   \n",
       "\n",
       "                            50%        75%        max  \n",
       "Avg. Session Length   33.078717  33.706633  36.139662  \n",
       "Time on App           12.005916  12.783032  15.126994  \n",
       "Time on Website       37.076795  37.720069  40.005182  \n",
       "Length of Membership   3.549036   4.130920   6.401229  "
      ]
     },
     "execution_count": 859,
     "metadata": {},
     "output_type": "execute_result"
    }
   ],
   "source": [
    "X.describe().T"
   ]
  },
  {
   "cell_type": "code",
   "execution_count": 860,
   "metadata": {},
   "outputs": [
    {
     "data": {
      "text/plain": [
       "count    487.000000\n",
       "mean     503.015340\n",
       "std       74.492360\n",
       "min      275.918421\n",
       "25%      449.001806\n",
       "50%      501.874430\n",
       "75%      549.975863\n",
       "max      765.518462\n",
       "Name: Yearly Amount Spent, dtype: float64"
      ]
     },
     "execution_count": 860,
     "metadata": {},
     "output_type": "execute_result"
    }
   ],
   "source": [
    "y.describe()"
   ]
  },
  {
   "cell_type": "code",
   "execution_count": 861,
   "metadata": {},
   "outputs": [],
   "source": [
    "X_train , X_test , y_train , y_test = train_test_split ( X , y , test_size = 0.3 , random_state = 1 ) "
   ]
  },
  {
   "cell_type": "markdown",
   "metadata": {},
   "source": [
    "- To find wheather both train and test representative of the overall data, we can ascertain this statistically using 5 point summary. "
   ]
  },
  {
   "cell_type": "code",
   "execution_count": 862,
   "metadata": {},
   "outputs": [
    {
     "data": {
      "text/html": [
       "<div>\n",
       "<style scoped>\n",
       "    .dataframe tbody tr th:only-of-type {\n",
       "        vertical-align: middle;\n",
       "    }\n",
       "\n",
       "    .dataframe tbody tr th {\n",
       "        vertical-align: top;\n",
       "    }\n",
       "\n",
       "    .dataframe thead th {\n",
       "        text-align: right;\n",
       "    }\n",
       "</style>\n",
       "<table border=\"1\" class=\"dataframe\">\n",
       "  <thead>\n",
       "    <tr style=\"text-align: right;\">\n",
       "      <th></th>\n",
       "      <th>count</th>\n",
       "      <th>mean</th>\n",
       "      <th>std</th>\n",
       "      <th>min</th>\n",
       "      <th>25%</th>\n",
       "      <th>50%</th>\n",
       "      <th>75%</th>\n",
       "      <th>max</th>\n",
       "    </tr>\n",
       "  </thead>\n",
       "  <tbody>\n",
       "    <tr>\n",
       "      <th>Avg. Session Length</th>\n",
       "      <td>340.0</td>\n",
       "      <td>33.091241</td>\n",
       "      <td>0.986916</td>\n",
       "      <td>30.393185</td>\n",
       "      <td>32.383808</td>\n",
       "      <td>33.081514</td>\n",
       "      <td>33.773214</td>\n",
       "      <td>36.139662</td>\n",
       "    </tr>\n",
       "    <tr>\n",
       "      <th>Time on App</th>\n",
       "      <td>340.0</td>\n",
       "      <td>12.051679</td>\n",
       "      <td>0.967878</td>\n",
       "      <td>9.607315</td>\n",
       "      <td>11.360935</td>\n",
       "      <td>11.973532</td>\n",
       "      <td>12.766691</td>\n",
       "      <td>15.126994</td>\n",
       "    </tr>\n",
       "    <tr>\n",
       "      <th>Time on Website</th>\n",
       "      <td>340.0</td>\n",
       "      <td>37.108221</td>\n",
       "      <td>1.020355</td>\n",
       "      <td>34.487185</td>\n",
       "      <td>36.334263</td>\n",
       "      <td>37.151815</td>\n",
       "      <td>37.769357</td>\n",
       "      <td>40.005182</td>\n",
       "    </tr>\n",
       "    <tr>\n",
       "      <th>Length of Membership</th>\n",
       "      <td>340.0</td>\n",
       "      <td>3.576214</td>\n",
       "      <td>0.922573</td>\n",
       "      <td>1.200484</td>\n",
       "      <td>2.961541</td>\n",
       "      <td>3.533245</td>\n",
       "      <td>4.196298</td>\n",
       "      <td>6.401229</td>\n",
       "    </tr>\n",
       "  </tbody>\n",
       "</table>\n",
       "</div>"
      ],
      "text/plain": [
       "                      count       mean       std        min        25%  \\\n",
       "Avg. Session Length   340.0  33.091241  0.986916  30.393185  32.383808   \n",
       "Time on App           340.0  12.051679  0.967878   9.607315  11.360935   \n",
       "Time on Website       340.0  37.108221  1.020355  34.487185  36.334263   \n",
       "Length of Membership  340.0   3.576214  0.922573   1.200484   2.961541   \n",
       "\n",
       "                            50%        75%        max  \n",
       "Avg. Session Length   33.081514  33.773214  36.139662  \n",
       "Time on App           11.973532  12.766691  15.126994  \n",
       "Time on Website       37.151815  37.769357  40.005182  \n",
       "Length of Membership   3.533245   4.196298   6.401229  "
      ]
     },
     "execution_count": 862,
     "metadata": {},
     "output_type": "execute_result"
    }
   ],
   "source": [
    "X_train.describe().T"
   ]
  },
  {
   "cell_type": "code",
   "execution_count": 863,
   "metadata": {},
   "outputs": [
    {
     "data": {
      "text/plain": [
       "count    340.000000\n",
       "mean     502.743847\n",
       "std       73.512560\n",
       "min      275.918421\n",
       "25%      451.546126\n",
       "50%      501.479203\n",
       "75%      549.871479\n",
       "max      765.518462\n",
       "Name: Yearly Amount Spent, dtype: float64"
      ]
     },
     "execution_count": 863,
     "metadata": {},
     "output_type": "execute_result"
    }
   ],
   "source": [
    "y_train.describe()"
   ]
  },
  {
   "cell_type": "code",
   "execution_count": 864,
   "metadata": {},
   "outputs": [
    {
     "data": {
      "text/html": [
       "<div>\n",
       "<style scoped>\n",
       "    .dataframe tbody tr th:only-of-type {\n",
       "        vertical-align: middle;\n",
       "    }\n",
       "\n",
       "    .dataframe tbody tr th {\n",
       "        vertical-align: top;\n",
       "    }\n",
       "\n",
       "    .dataframe thead th {\n",
       "        text-align: right;\n",
       "    }\n",
       "</style>\n",
       "<table border=\"1\" class=\"dataframe\">\n",
       "  <thead>\n",
       "    <tr style=\"text-align: right;\">\n",
       "      <th></th>\n",
       "      <th>count</th>\n",
       "      <th>mean</th>\n",
       "      <th>std</th>\n",
       "      <th>min</th>\n",
       "      <th>25%</th>\n",
       "      <th>50%</th>\n",
       "      <th>75%</th>\n",
       "      <th>max</th>\n",
       "    </tr>\n",
       "  </thead>\n",
       "  <tbody>\n",
       "    <tr>\n",
       "      <th>Avg. Session Length</th>\n",
       "      <td>147.0</td>\n",
       "      <td>32.972539</td>\n",
       "      <td>0.959556</td>\n",
       "      <td>30.492537</td>\n",
       "      <td>32.258952</td>\n",
       "      <td>33.078717</td>\n",
       "      <td>33.607466</td>\n",
       "      <td>35.630854</td>\n",
       "    </tr>\n",
       "    <tr>\n",
       "      <th>Time on App</th>\n",
       "      <td>147.0</td>\n",
       "      <td>12.137445</td>\n",
       "      <td>0.966982</td>\n",
       "      <td>9.477778</td>\n",
       "      <td>11.549531</td>\n",
       "      <td>12.064157</td>\n",
       "      <td>12.802536</td>\n",
       "      <td>14.715388</td>\n",
       "    </tr>\n",
       "    <tr>\n",
       "      <th>Time on Website</th>\n",
       "      <td>147.0</td>\n",
       "      <td>37.005370</td>\n",
       "      <td>0.956268</td>\n",
       "      <td>34.476878</td>\n",
       "      <td>36.391407</td>\n",
       "      <td>37.022269</td>\n",
       "      <td>37.620704</td>\n",
       "      <td>39.294043</td>\n",
       "    </tr>\n",
       "    <tr>\n",
       "      <th>Length of Membership</th>\n",
       "      <td>147.0</td>\n",
       "      <td>3.576664</td>\n",
       "      <td>0.963971</td>\n",
       "      <td>1.362674</td>\n",
       "      <td>3.003850</td>\n",
       "      <td>3.620355</td>\n",
       "      <td>4.100532</td>\n",
       "      <td>5.840506</td>\n",
       "    </tr>\n",
       "  </tbody>\n",
       "</table>\n",
       "</div>"
      ],
      "text/plain": [
       "                      count       mean       std        min        25%  \\\n",
       "Avg. Session Length   147.0  32.972539  0.959556  30.492537  32.258952   \n",
       "Time on App           147.0  12.137445  0.966982   9.477778  11.549531   \n",
       "Time on Website       147.0  37.005370  0.956268  34.476878  36.391407   \n",
       "Length of Membership  147.0   3.576664  0.963971   1.362674   3.003850   \n",
       "\n",
       "                            50%        75%        max  \n",
       "Avg. Session Length   33.078717  33.607466  35.630854  \n",
       "Time on App           12.064157  12.802536  14.715388  \n",
       "Time on Website       37.022269  37.620704  39.294043  \n",
       "Length of Membership   3.620355   4.100532   5.840506  "
      ]
     },
     "execution_count": 864,
     "metadata": {},
     "output_type": "execute_result"
    }
   ],
   "source": [
    "X_test.describe().T"
   ]
  },
  {
   "cell_type": "code",
   "execution_count": 865,
   "metadata": {},
   "outputs": [
    {
     "data": {
      "text/plain": [
       "count    147.000000\n",
       "mean     503.643281\n",
       "std       76.962744\n",
       "min      282.471246\n",
       "25%      444.056479\n",
       "50%      503.217393\n",
       "75%      550.918185\n",
       "max      712.396327\n",
       "Name: Yearly Amount Spent, dtype: float64"
      ]
     },
     "execution_count": 865,
     "metadata": {},
     "output_type": "execute_result"
    }
   ],
   "source": [
    "y_test.describe()"
   ]
  },
  {
   "cell_type": "markdown",
   "metadata": {},
   "source": [
    "- By the above five point summary we can say that the split train and test represents the overall data."
   ]
  },
  {
   "cell_type": "markdown",
   "metadata": {},
   "source": [
    "### 6. Fitting a base model: "
   ]
  },
  {
   "cell_type": "code",
   "execution_count": 866,
   "metadata": {},
   "outputs": [
    {
     "name": "stderr",
     "output_type": "stream",
     "text": [
      "C:\\Users\\RasAlGhul\\Anaconda3\\lib\\site-packages\\numpy\\core\\fromnumeric.py:2542: FutureWarning: Method .ptp is deprecated and will be removed in a future version. Use numpy.ptp instead.\n",
      "  return ptp(axis=axis, out=out, **kwargs)\n"
     ]
    },
    {
     "data": {
      "text/html": [
       "<table class=\"simpletable\">\n",
       "<caption>OLS Regression Results</caption>\n",
       "<tr>\n",
       "  <th>Dep. Variable:</th>    <td>Yearly Amount Spent</td> <th>  R-squared:         </th> <td>   0.982</td>\n",
       "</tr>\n",
       "<tr>\n",
       "  <th>Model:</th>                    <td>OLS</td>         <th>  Adj. R-squared:    </th> <td>   0.982</td>\n",
       "</tr>\n",
       "<tr>\n",
       "  <th>Method:</th>              <td>Least Squares</td>    <th>  F-statistic:       </th> <td>   6639.</td>\n",
       "</tr>\n",
       "<tr>\n",
       "  <th>Date:</th>              <td>Mon, 10 Feb 2020</td>   <th>  Prob (F-statistic):</th>  <td>  0.00</td> \n",
       "</tr>\n",
       "<tr>\n",
       "  <th>Time:</th>                  <td>13:55:14</td>       <th>  Log-Likelihood:    </th> <td> -1809.3</td>\n",
       "</tr>\n",
       "<tr>\n",
       "  <th>No. Observations:</th>       <td>   487</td>        <th>  AIC:               </th> <td>   3629.</td>\n",
       "</tr>\n",
       "<tr>\n",
       "  <th>Df Residuals:</th>           <td>   482</td>        <th>  BIC:               </th> <td>   3649.</td>\n",
       "</tr>\n",
       "<tr>\n",
       "  <th>Df Model:</th>               <td>     4</td>        <th>                     </th>     <td> </td>   \n",
       "</tr>\n",
       "<tr>\n",
       "  <th>Covariance Type:</th>       <td>nonrobust</td>      <th>                     </th>     <td> </td>   \n",
       "</tr>\n",
       "</table>\n",
       "<table class=\"simpletable\">\n",
       "<tr>\n",
       "            <td></td>              <th>coef</th>     <th>std err</th>      <th>t</th>      <th>P>|t|</th>  <th>[0.025</th>    <th>0.975]</th>  \n",
       "</tr>\n",
       "<tr>\n",
       "  <th>const</th>                <td>-1050.5388</td> <td>   23.497</td> <td>  -44.710</td> <td> 0.000</td> <td>-1096.707</td> <td>-1004.370</td>\n",
       "</tr>\n",
       "<tr>\n",
       "  <th>Avg. Session Length</th>  <td>   25.7459</td> <td>    0.463</td> <td>   55.551</td> <td> 0.000</td> <td>   24.835</td> <td>   26.657</td>\n",
       "</tr>\n",
       "<tr>\n",
       "  <th>Time on App</th>          <td>   38.8502</td> <td>    0.469</td> <td>   82.782</td> <td> 0.000</td> <td>   37.928</td> <td>   39.772</td>\n",
       "</tr>\n",
       "<tr>\n",
       "  <th>Time on Website</th>      <td>    0.3615</td> <td>    0.454</td> <td>    0.796</td> <td> 0.426</td> <td>   -0.530</td> <td>    1.253</td>\n",
       "</tr>\n",
       "<tr>\n",
       "  <th>Length of Membership</th> <td>   61.4860</td> <td>    0.486</td> <td>  126.429</td> <td> 0.000</td> <td>   60.530</td> <td>   62.442</td>\n",
       "</tr>\n",
       "</table>\n",
       "<table class=\"simpletable\">\n",
       "<tr>\n",
       "  <th>Omnibus:</th>       <td> 0.489</td> <th>  Durbin-Watson:     </th> <td>   1.888</td>\n",
       "</tr>\n",
       "<tr>\n",
       "  <th>Prob(Omnibus):</th> <td> 0.783</td> <th>  Jarque-Bera (JB):  </th> <td>   0.333</td>\n",
       "</tr>\n",
       "<tr>\n",
       "  <th>Skew:</th>          <td>-0.043</td> <th>  Prob(JB):          </th> <td>   0.846</td>\n",
       "</tr>\n",
       "<tr>\n",
       "  <th>Kurtosis:</th>      <td> 3.095</td> <th>  Cond. No.          </th> <td>2.66e+03</td>\n",
       "</tr>\n",
       "</table><br/><br/>Warnings:<br/>[1] Standard Errors assume that the covariance matrix of the errors is correctly specified.<br/>[2] The condition number is large, 2.66e+03. This might indicate that there are<br/>strong multicollinearity or other numerical problems."
      ],
      "text/plain": [
       "<class 'statsmodels.iolib.summary.Summary'>\n",
       "\"\"\"\n",
       "                             OLS Regression Results                            \n",
       "===============================================================================\n",
       "Dep. Variable:     Yearly Amount Spent   R-squared:                       0.982\n",
       "Model:                             OLS   Adj. R-squared:                  0.982\n",
       "Method:                  Least Squares   F-statistic:                     6639.\n",
       "Date:                 Mon, 10 Feb 2020   Prob (F-statistic):               0.00\n",
       "Time:                         13:55:14   Log-Likelihood:                -1809.3\n",
       "No. Observations:                  487   AIC:                             3629.\n",
       "Df Residuals:                      482   BIC:                             3649.\n",
       "Df Model:                            4                                         \n",
       "Covariance Type:             nonrobust                                         \n",
       "========================================================================================\n",
       "                           coef    std err          t      P>|t|      [0.025      0.975]\n",
       "----------------------------------------------------------------------------------------\n",
       "const                -1050.5388     23.497    -44.710      0.000   -1096.707   -1004.370\n",
       "Avg. Session Length     25.7459      0.463     55.551      0.000      24.835      26.657\n",
       "Time on App             38.8502      0.469     82.782      0.000      37.928      39.772\n",
       "Time on Website          0.3615      0.454      0.796      0.426      -0.530       1.253\n",
       "Length of Membership    61.4860      0.486    126.429      0.000      60.530      62.442\n",
       "==============================================================================\n",
       "Omnibus:                        0.489   Durbin-Watson:                   1.888\n",
       "Prob(Omnibus):                  0.783   Jarque-Bera (JB):                0.333\n",
       "Skew:                          -0.043   Prob(JB):                        0.846\n",
       "Kurtosis:                       3.095   Cond. No.                     2.66e+03\n",
       "==============================================================================\n",
       "\n",
       "Warnings:\n",
       "[1] Standard Errors assume that the covariance matrix of the errors is correctly specified.\n",
       "[2] The condition number is large, 2.66e+03. This might indicate that there are\n",
       "strong multicollinearity or other numerical problems.\n",
       "\"\"\""
      ]
     },
     "execution_count": 866,
     "metadata": {},
     "output_type": "execute_result"
    }
   ],
   "source": [
    "x_const = sm.add_constant ( X )\n",
    "model_base = sm.OLS ( y , x_const ).fit ( )\n",
    "model_base.summary ( )"
   ]
  },
  {
   "cell_type": "markdown",
   "metadata": {},
   "source": [
    "- We can observe that R2 is 98.2. The model as a whole is good as F-statistic > alpha."
   ]
  },
  {
   "cell_type": "code",
   "execution_count": 867,
   "metadata": {
    "scrolled": true
   },
   "outputs": [
    {
     "data": {
      "text/plain": [
       "array([594.62831425, 380.30821572, 505.06854739, 570.73684543,\n",
       "       591.63828867, 638.98533046, 516.79322017, 558.39029084,\n",
       "       559.40199304, 441.03145998, 508.95319209, 513.5026952 ,\n",
       "       561.44459866, 460.7651077 , 451.31616508, 437.86168526,\n",
       "       411.49025241, 456.93256315, 596.09101862, 534.80718987,\n",
       "       421.7395137 , 433.07613636, 503.75778762, 703.20128617,\n",
       "       437.92443647, 608.63409831, 485.25269838, 521.41427111,\n",
       "       571.71007363, 484.73578523, 459.5343347 , 577.89433947,\n",
       "       488.64395237, 512.85569452, 517.06025865, 349.72502808,\n",
       "       486.86883055, 478.83008442, 545.90164867, 531.76463245,\n",
       "       511.958519  , 577.94517492, 543.11297266, 447.57855388,\n",
       "       551.33147937, 601.97132548, 562.73288512, 473.1510501 ,\n",
       "       417.3043067 , 725.20722751, 442.94432546, 372.93873476,\n",
       "       456.64201304, 516.78701884, 494.4254528 , 524.07271778,\n",
       "       460.08863071, 481.52520576, 544.8140077 , 606.1902975 ,\n",
       "       499.90649183, 621.57052003, 470.52468042, 535.12112532,\n",
       "       766.22141367, 553.17054292, 478.506088  , 408.19079355,\n",
       "       445.47738323, 437.98890591, 610.27030012, 420.87030495,\n",
       "       542.30122055, 563.77216142, 455.93471871, 449.89392658,\n",
       "       534.75599375, 498.70296653, 474.75934481, 495.17362223,\n",
       "       472.66935991, 619.29402552, 337.55274113, 526.73552085,\n",
       "       547.90519139, 485.58142409, 468.76337862, 565.03175106,\n",
       "       511.71569439, 438.72745514, 607.00342969, 523.10444967,\n",
       "       445.67120078, 509.09945867, 553.5445391 , 548.11915644,\n",
       "       623.31269402, 502.38454883, 488.58338901, 515.99037495,\n",
       "       399.10690904, 401.72769989, 495.38089573, 409.33105458,\n",
       "       512.43968819, 500.04030309, 389.79382157, 556.26924675,\n",
       "       548.8598201 , 461.74870347, 489.29513982, 442.85413329,\n",
       "       425.90579756, 642.13568045, 414.30208625, 472.10442379,\n",
       "       576.8938735 , 505.34820015, 576.84481486, 554.01418138,\n",
       "       569.99531799, 498.34864681, 491.35850699, 505.70808967,\n",
       "       543.20964282, 520.52612646, 468.21285098, 549.22880672,\n",
       "       434.91235502, 533.95383046, 583.94103683, 457.31721594,\n",
       "       547.98956477, 395.66983444, 482.38705492, 518.40505214,\n",
       "       443.87564497, 481.33501481, 431.61664638, 461.84501781,\n",
       "       464.920182  , 451.98762889, 342.31757961, 478.40297995,\n",
       "       515.43073217, 460.73947285, 478.13960251, 394.50080817,\n",
       "       463.98815951, 426.79189001, 684.52936753, 558.2340258 ,\n",
       "       662.6372525 , 599.05833895, 502.05412172, 590.47065433,\n",
       "       500.36696355, 528.06937506, 492.48237153, 539.68742115,\n",
       "       494.21652736, 552.87001749, 508.28487945, 473.77796456,\n",
       "       572.69533856, 525.4807385 , 523.20703262, 416.86988731,\n",
       "       450.63238784, 671.77647085, 471.74520059, 380.28833724,\n",
       "       538.01287239, 563.32108614, 529.78071907, 505.00702412,\n",
       "       514.06714703, 553.16322731, 481.0599706 , 458.489789  ,\n",
       "       570.59453577, 500.67152343, 424.29188582, 540.22094216,\n",
       "       511.70083859, 473.19825915, 609.3315749 , 464.02430337,\n",
       "       511.94875649, 563.79402983, 424.87002245, 417.02541011,\n",
       "       357.23780551, 643.70157962, 553.94597456, 471.98573327,\n",
       "       486.48405377, 589.72124431, 449.40907491, 387.80877819,\n",
       "       572.49752084, 715.75752121, 414.39425067, 543.22812854,\n",
       "       409.12179887, 456.22221266, 501.21481063, 554.59886866,\n",
       "       538.17481326, 558.25063154, 524.06127669, 386.52336015,\n",
       "       532.22802603, 422.2755943 , 494.36719006, 518.01929465,\n",
       "       588.71556043, 518.35292498, 599.47879544, 562.16451916,\n",
       "       537.94293348, 456.8045361 , 456.46474232, 451.46103693,\n",
       "       528.27667446, 523.47818549, 616.7474547 , 463.50617772,\n",
       "       511.57165524, 491.63215352, 507.39995434, 381.31455687,\n",
       "       422.4783723 , 545.56597891, 411.82594097, 559.30700955,\n",
       "       432.54941126, 482.56557771, 569.72157345, 395.70709853,\n",
       "       551.73429339, 651.95881085, 461.34088173, 518.98308197,\n",
       "       525.8923461 , 400.4479412 , 432.17791714, 509.81542773,\n",
       "       489.76826212, 535.19644867, 583.29976549, 567.31968383,\n",
       "       672.24106339, 375.07019658, 667.23770823, 519.91770676,\n",
       "       391.90279053, 472.4214511 , 598.41306823, 550.89678816,\n",
       "       543.09438763, 402.67142049, 461.16344666, 588.9190972 ,\n",
       "       543.72637984, 634.51278571, 574.33015612, 634.20615819,\n",
       "       448.63989513, 567.22624574, 433.9178495 , 619.81734232,\n",
       "       510.57206479, 444.88197697, 507.56352625, 565.26950232,\n",
       "       468.80169704, 370.70890388, 444.5798614 , 466.37179131,\n",
       "       610.23504767, 429.47780548, 355.60739941, 457.78653049,\n",
       "       512.41276105, 371.79781019, 589.9958068 , 455.66991161,\n",
       "       556.51478545, 429.87103503, 507.67772903, 505.20770404,\n",
       "       597.7036136 , 287.8437364 , 491.18822576, 504.03051077,\n",
       "       551.92602426, 498.28543052, 685.15155014, 389.60024529,\n",
       "       439.65189325, 615.46505882, 478.34796052, 503.56066699,\n",
       "       331.76115058, 540.68096652, 604.55095773, 581.34798508,\n",
       "       458.17723153, 411.25040086, 573.19009293, 593.79952172,\n",
       "       377.56204544, 532.33340599, 487.1659759 , 479.2096274 ,\n",
       "       573.33888567, 463.0951544 , 506.83772153, 564.72449665,\n",
       "       419.87684804, 432.25851349, 441.78089374, 523.98783539,\n",
       "       407.14977471, 483.53477749, 325.42690888, 448.04843418,\n",
       "       477.56231732, 449.45258701, 340.1256549 , 474.00623532,\n",
       "       519.26296794, 580.85562553, 476.45474093, 576.50906317,\n",
       "       435.65640937, 465.54115819, 484.10946301, 587.6549063 ,\n",
       "       396.4424757 , 452.08633931, 548.84795088, 530.04714315,\n",
       "       527.96828083, 569.35679284, 504.12329473, 408.6896515 ,\n",
       "       646.22026765, 468.79905842, 398.95322064, 557.17459572,\n",
       "       442.36902356, 402.63497414, 523.93625835, 476.39407426,\n",
       "       588.85518857, 496.75804822, 395.47455817, 693.23871499,\n",
       "       526.25403017, 519.5606106 , 430.92767587, 384.1697506 ,\n",
       "       426.71024658, 425.90119444, 475.65745719, 481.16515901,\n",
       "       531.70715541, 507.92572981, 516.97411131, 536.36049014,\n",
       "       412.13009336, 585.64238859, 493.98968203, 424.19487973,\n",
       "       531.5711957 , 464.12168508, 423.62853492, 601.50454601,\n",
       "       551.83376242, 493.15292918, 553.20213945, 475.19233496,\n",
       "       569.80367502, 482.13427339, 681.61452187, 554.37409484,\n",
       "       542.98152278, 435.59915935, 657.4722007 , 495.38643702,\n",
       "       523.34798472, 615.88834315, 497.58631428, 500.42714413,\n",
       "       425.08367931, 418.10730318, 481.30811819, 518.39707901,\n",
       "       608.26111059, 601.56587371, 467.23960778, 497.16463792,\n",
       "       546.25026251, 280.22434889, 506.7470466 , 445.820044  ,\n",
       "       502.19069381, 477.99310245, 648.60887298, 558.82269061,\n",
       "       628.05336696, 456.95529437, 497.20903204, 576.48058213,\n",
       "       534.89477319, 578.17324526, 558.47797292, 490.68594901,\n",
       "       547.48604609, 479.80267835, 508.5556662 , 434.61357541,\n",
       "       573.78573087, 583.55936201, 449.93465434, 398.30555531,\n",
       "       574.7472161 , 500.6503846 , 486.47457134, 548.22186011,\n",
       "       427.54255626, 513.86974558, 531.37489231, 478.73754459,\n",
       "       451.74852259, 473.17647899, 430.55348202, 506.29696092,\n",
       "       479.53059698, 449.33536973, 447.48506058, 394.28822643,\n",
       "       532.26774046, 542.34782267, 418.93152727, 588.80286604,\n",
       "       495.76588811, 404.59858651, 397.88402147, 676.68615642,\n",
       "       535.18675545, 567.73672916, 422.25193802, 563.27931913,\n",
       "       417.71146303, 432.88922467, 543.0326618 , 499.75324507,\n",
       "       427.74802586, 500.17362038, 532.21716247, 413.21101717,\n",
       "       493.76848661, 487.43488251, 423.11665052, 549.820484  ,\n",
       "       481.03716856, 487.81928869, 481.29578231, 457.50545218,\n",
       "       508.51571844, 580.09447696, 348.01846241, 598.80213916,\n",
       "       337.29769104, 501.8492324 , 513.20789289, 401.27710992,\n",
       "       611.02870344, 512.81793888, 575.76764609, 530.63930741,\n",
       "       555.45538433, 445.76506403, 481.08595297])"
      ]
     },
     "execution_count": 867,
     "metadata": {},
     "output_type": "execute_result"
    }
   ],
   "source": [
    "y_pred = model_base.predict (  )\n",
    "y_pred"
   ]
  },
  {
   "cell_type": "code",
   "execution_count": 868,
   "metadata": {},
   "outputs": [
    {
     "data": {
      "text/plain": [
       "(487, 8)"
      ]
     },
     "execution_count": 868,
     "metadata": {},
     "output_type": "execute_result"
    }
   ],
   "source": [
    "data1.shape"
   ]
  },
  {
   "cell_type": "code",
   "execution_count": 869,
   "metadata": {},
   "outputs": [],
   "source": [
    "data1 [ \"OLS Prediction\" ] = list(y_pred)"
   ]
  },
  {
   "cell_type": "code",
   "execution_count": 870,
   "metadata": {},
   "outputs": [
    {
     "data": {
      "text/html": [
       "<div>\n",
       "<style scoped>\n",
       "    .dataframe tbody tr th:only-of-type {\n",
       "        vertical-align: middle;\n",
       "    }\n",
       "\n",
       "    .dataframe tbody tr th {\n",
       "        vertical-align: top;\n",
       "    }\n",
       "\n",
       "    .dataframe thead th {\n",
       "        text-align: right;\n",
       "    }\n",
       "</style>\n",
       "<table border=\"1\" class=\"dataframe\">\n",
       "  <thead>\n",
       "    <tr style=\"text-align: right;\">\n",
       "      <th></th>\n",
       "      <th>Email</th>\n",
       "      <th>Address</th>\n",
       "      <th>Avatar</th>\n",
       "      <th>Avg. Session Length</th>\n",
       "      <th>Time on App</th>\n",
       "      <th>Time on Website</th>\n",
       "      <th>Length of Membership</th>\n",
       "      <th>Yearly Amount Spent</th>\n",
       "      <th>OLS Prediction</th>\n",
       "    </tr>\n",
       "  </thead>\n",
       "  <tbody>\n",
       "    <tr>\n",
       "      <th>0</th>\n",
       "      <td>mstephenson@fernandez.com</td>\n",
       "      <td>835 Frank Tunnel\\nWrightmouth, MI 82180-9605</td>\n",
       "      <td>Violet</td>\n",
       "      <td>34.497268</td>\n",
       "      <td>12.655651</td>\n",
       "      <td>39.577668</td>\n",
       "      <td>4.082621</td>\n",
       "      <td>587.951054</td>\n",
       "      <td>594.628314</td>\n",
       "    </tr>\n",
       "    <tr>\n",
       "      <th>1</th>\n",
       "      <td>hduke@hotmail.com</td>\n",
       "      <td>4547 Archer Common\\nDiazchester, CA 06566-8576</td>\n",
       "      <td>DarkGreen</td>\n",
       "      <td>31.926272</td>\n",
       "      <td>11.109461</td>\n",
       "      <td>37.268959</td>\n",
       "      <td>2.664034</td>\n",
       "      <td>392.204933</td>\n",
       "      <td>380.308216</td>\n",
       "    </tr>\n",
       "    <tr>\n",
       "      <th>2</th>\n",
       "      <td>pallen@yahoo.com</td>\n",
       "      <td>24645 Valerie Unions Suite 582\\nCobbborough, D...</td>\n",
       "      <td>Bisque</td>\n",
       "      <td>33.000915</td>\n",
       "      <td>11.330278</td>\n",
       "      <td>37.110597</td>\n",
       "      <td>4.104543</td>\n",
       "      <td>487.547505</td>\n",
       "      <td>505.068547</td>\n",
       "    </tr>\n",
       "    <tr>\n",
       "      <th>3</th>\n",
       "      <td>riverarebecca@gmail.com</td>\n",
       "      <td>1414 David Throughway\\nPort Jason, OH 22070-1220</td>\n",
       "      <td>SaddleBrown</td>\n",
       "      <td>34.305557</td>\n",
       "      <td>13.717514</td>\n",
       "      <td>36.721283</td>\n",
       "      <td>3.120179</td>\n",
       "      <td>581.852344</td>\n",
       "      <td>570.736845</td>\n",
       "    </tr>\n",
       "    <tr>\n",
       "      <th>4</th>\n",
       "      <td>mstephens@davidson-herman.com</td>\n",
       "      <td>14023 Rodriguez Passage\\nPort Jacobville, PR 3...</td>\n",
       "      <td>MediumAquaMarine</td>\n",
       "      <td>33.330673</td>\n",
       "      <td>12.795189</td>\n",
       "      <td>37.536653</td>\n",
       "      <td>4.446308</td>\n",
       "      <td>599.406092</td>\n",
       "      <td>591.638289</td>\n",
       "    </tr>\n",
       "  </tbody>\n",
       "</table>\n",
       "</div>"
      ],
      "text/plain": [
       "                           Email  \\\n",
       "0      mstephenson@fernandez.com   \n",
       "1              hduke@hotmail.com   \n",
       "2               pallen@yahoo.com   \n",
       "3        riverarebecca@gmail.com   \n",
       "4  mstephens@davidson-herman.com   \n",
       "\n",
       "                                             Address            Avatar  \\\n",
       "0       835 Frank Tunnel\\nWrightmouth, MI 82180-9605            Violet   \n",
       "1     4547 Archer Common\\nDiazchester, CA 06566-8576         DarkGreen   \n",
       "2  24645 Valerie Unions Suite 582\\nCobbborough, D...            Bisque   \n",
       "3   1414 David Throughway\\nPort Jason, OH 22070-1220       SaddleBrown   \n",
       "4  14023 Rodriguez Passage\\nPort Jacobville, PR 3...  MediumAquaMarine   \n",
       "\n",
       "   Avg. Session Length  Time on App  Time on Website  Length of Membership  \\\n",
       "0            34.497268    12.655651        39.577668              4.082621   \n",
       "1            31.926272    11.109461        37.268959              2.664034   \n",
       "2            33.000915    11.330278        37.110597              4.104543   \n",
       "3            34.305557    13.717514        36.721283              3.120179   \n",
       "4            33.330673    12.795189        37.536653              4.446308   \n",
       "\n",
       "   Yearly Amount Spent  OLS Prediction  \n",
       "0           587.951054      594.628314  \n",
       "1           392.204933      380.308216  \n",
       "2           487.547505      505.068547  \n",
       "3           581.852344      570.736845  \n",
       "4           599.406092      591.638289  "
      ]
     },
     "execution_count": 870,
     "metadata": {},
     "output_type": "execute_result"
    }
   ],
   "source": [
    "data1.head()"
   ]
  },
  {
   "cell_type": "code",
   "execution_count": 871,
   "metadata": {},
   "outputs": [
    {
     "name": "stdout",
     "output_type": "stream",
     "text": [
      "The significant features are:  ['Avg. Session Length', 'Time on App', 'Length of Membership']\n"
     ]
    }
   ],
   "source": [
    "#Bachward elimination to get signigicant features\n",
    "cols = list(X.columns)\n",
    "pmax = 1\n",
    "while (len(cols)>0):\n",
    "    p= []\n",
    "    x = X[cols]\n",
    "    x = sm.add_constant(x)\n",
    "    model = sm.OLS(y,x).fit()\n",
    "    p = pd.Series(model.pvalues.values[1:],index = cols)      \n",
    "    pmax = max(p)\n",
    "    feature_with_p_max = p.idxmax()\n",
    "    if(pmax>0.05):\n",
    "        cols.remove(feature_with_p_max)\n",
    "    else:\n",
    "        break\n",
    "selected_features_BE = cols\n",
    "print('The significant features are: ',selected_features_BE)"
   ]
  },
  {
   "cell_type": "code",
   "execution_count": 872,
   "metadata": {},
   "outputs": [
    {
     "data": {
      "text/html": [
       "<table class=\"simpletable\">\n",
       "<caption>OLS Regression Results</caption>\n",
       "<tr>\n",
       "  <th>Dep. Variable:</th>    <td>Yearly Amount Spent</td> <th>  R-squared:         </th> <td>   0.982</td>\n",
       "</tr>\n",
       "<tr>\n",
       "  <th>Model:</th>                    <td>OLS</td>         <th>  Adj. R-squared:    </th> <td>   0.982</td>\n",
       "</tr>\n",
       "<tr>\n",
       "  <th>Method:</th>              <td>Least Squares</td>    <th>  F-statistic:       </th> <td>   8858.</td>\n",
       "</tr>\n",
       "<tr>\n",
       "  <th>Date:</th>              <td>Mon, 10 Feb 2020</td>   <th>  Prob (F-statistic):</th>  <td>  0.00</td> \n",
       "</tr>\n",
       "<tr>\n",
       "  <th>Time:</th>                  <td>13:55:15</td>       <th>  Log-Likelihood:    </th> <td> -1809.6</td>\n",
       "</tr>\n",
       "<tr>\n",
       "  <th>No. Observations:</th>       <td>   487</td>        <th>  AIC:               </th> <td>   3627.</td>\n",
       "</tr>\n",
       "<tr>\n",
       "  <th>Df Residuals:</th>           <td>   483</td>        <th>  BIC:               </th> <td>   3644.</td>\n",
       "</tr>\n",
       "<tr>\n",
       "  <th>Df Model:</th>               <td>     3</td>        <th>                     </th>     <td> </td>   \n",
       "</tr>\n",
       "<tr>\n",
       "  <th>Covariance Type:</th>       <td>nonrobust</td>      <th>                     </th>     <td> </td>   \n",
       "</tr>\n",
       "</table>\n",
       "<table class=\"simpletable\">\n",
       "<tr>\n",
       "            <td></td>              <th>coef</th>     <th>std err</th>      <th>t</th>      <th>P>|t|</th>  <th>[0.025</th>    <th>0.975]</th>  \n",
       "</tr>\n",
       "<tr>\n",
       "  <th>const</th>                <td>-1037.1637</td> <td>   16.425</td> <td>  -63.145</td> <td> 0.000</td> <td>-1069.437</td> <td>-1004.890</td>\n",
       "</tr>\n",
       "<tr>\n",
       "  <th>Avg. Session Length</th>  <td>   25.7403</td> <td>    0.463</td> <td>   55.566</td> <td> 0.000</td> <td>   24.830</td> <td>   26.650</td>\n",
       "</tr>\n",
       "<tr>\n",
       "  <th>Time on App</th>          <td>   38.8738</td> <td>    0.468</td> <td>   83.029</td> <td> 0.000</td> <td>   37.954</td> <td>   39.794</td>\n",
       "</tr>\n",
       "<tr>\n",
       "  <th>Length of Membership</th> <td>   61.4658</td> <td>    0.485</td> <td>  126.607</td> <td> 0.000</td> <td>   60.512</td> <td>   62.420</td>\n",
       "</tr>\n",
       "</table>\n",
       "<table class=\"simpletable\">\n",
       "<tr>\n",
       "  <th>Omnibus:</th>       <td> 0.420</td> <th>  Durbin-Watson:     </th> <td>   1.888</td>\n",
       "</tr>\n",
       "<tr>\n",
       "  <th>Prob(Omnibus):</th> <td> 0.811</td> <th>  Jarque-Bera (JB):  </th> <td>   0.280</td>\n",
       "</tr>\n",
       "<tr>\n",
       "  <th>Skew:</th>          <td>-0.043</td> <th>  Prob(JB):          </th> <td>   0.869</td>\n",
       "</tr>\n",
       "<tr>\n",
       "  <th>Kurtosis:</th>      <td> 3.080</td> <th>  Cond. No.          </th> <td>1.29e+03</td>\n",
       "</tr>\n",
       "</table><br/><br/>Warnings:<br/>[1] Standard Errors assume that the covariance matrix of the errors is correctly specified.<br/>[2] The condition number is large, 1.29e+03. This might indicate that there are<br/>strong multicollinearity or other numerical problems."
      ],
      "text/plain": [
       "<class 'statsmodels.iolib.summary.Summary'>\n",
       "\"\"\"\n",
       "                             OLS Regression Results                            \n",
       "===============================================================================\n",
       "Dep. Variable:     Yearly Amount Spent   R-squared:                       0.982\n",
       "Model:                             OLS   Adj. R-squared:                  0.982\n",
       "Method:                  Least Squares   F-statistic:                     8858.\n",
       "Date:                 Mon, 10 Feb 2020   Prob (F-statistic):               0.00\n",
       "Time:                         13:55:15   Log-Likelihood:                -1809.6\n",
       "No. Observations:                  487   AIC:                             3627.\n",
       "Df Residuals:                      483   BIC:                             3644.\n",
       "Df Model:                            3                                         \n",
       "Covariance Type:             nonrobust                                         \n",
       "========================================================================================\n",
       "                           coef    std err          t      P>|t|      [0.025      0.975]\n",
       "----------------------------------------------------------------------------------------\n",
       "const                -1037.1637     16.425    -63.145      0.000   -1069.437   -1004.890\n",
       "Avg. Session Length     25.7403      0.463     55.566      0.000      24.830      26.650\n",
       "Time on App             38.8738      0.468     83.029      0.000      37.954      39.794\n",
       "Length of Membership    61.4658      0.485    126.607      0.000      60.512      62.420\n",
       "==============================================================================\n",
       "Omnibus:                        0.420   Durbin-Watson:                   1.888\n",
       "Prob(Omnibus):                  0.811   Jarque-Bera (JB):                0.280\n",
       "Skew:                          -0.043   Prob(JB):                        0.869\n",
       "Kurtosis:                       3.080   Cond. No.                     1.29e+03\n",
       "==============================================================================\n",
       "\n",
       "Warnings:\n",
       "[1] Standard Errors assume that the covariance matrix of the errors is correctly specified.\n",
       "[2] The condition number is large, 1.29e+03. This might indicate that there are\n",
       "strong multicollinearity or other numerical problems.\n",
       "\"\"\""
      ]
     },
     "execution_count": 872,
     "metadata": {},
     "output_type": "execute_result"
    }
   ],
   "source": [
    "#Model with significant features\n",
    "#X = X.drop ( \"Time on Website\" , axis = 1 )\n",
    "X = X[selected_features_BE]\n",
    "x_const = sm.add_constant ( X )\n",
    "model1 = sm.OLS ( y , x_const ).fit ( )\n",
    "model1.summary ( )"
   ]
  },
  {
   "cell_type": "markdown",
   "metadata": {},
   "source": [
    "- After removing the insignificant feature and building the model, the R2 is still 98.2%\n",
    "- So 3 variable may be better than 4 variables"
   ]
  },
  {
   "cell_type": "code",
   "execution_count": 873,
   "metadata": {},
   "outputs": [
    {
     "name": "stdout",
     "output_type": "stream",
     "text": [
      "The significant features are:  ['Avg. Session Length', 'Time on App', 'Length of Membership']\n"
     ]
    }
   ],
   "source": [
    "print('The significant features are: ',selected_features_BE)"
   ]
  },
  {
   "cell_type": "code",
   "execution_count": null,
   "metadata": {},
   "outputs": [],
   "source": [
    "#Checking for multi-colinearity"
   ]
  },
  {
   "cell_type": "code",
   "execution_count": 874,
   "metadata": {},
   "outputs": [],
   "source": [
    "for i in X.columns:\n",
    "    ss = StandardScaler ( )\n",
    "    X [ i ] = ss.fit_transform ( X [ i ].values.reshape ( -1 , 1 ) )"
   ]
  },
  {
   "cell_type": "code",
   "execution_count": 875,
   "metadata": {},
   "outputs": [
    {
     "data": {
      "text/html": [
       "<div>\n",
       "<style scoped>\n",
       "    .dataframe tbody tr th:only-of-type {\n",
       "        vertical-align: middle;\n",
       "    }\n",
       "\n",
       "    .dataframe tbody tr th {\n",
       "        vertical-align: top;\n",
       "    }\n",
       "\n",
       "    .dataframe thead th {\n",
       "        text-align: right;\n",
       "    }\n",
       "</style>\n",
       "<table border=\"1\" class=\"dataframe\">\n",
       "  <thead>\n",
       "    <tr style=\"text-align: right;\">\n",
       "      <th></th>\n",
       "      <th>Avg. Session Length</th>\n",
       "      <th>Time on App</th>\n",
       "      <th>Length of Membership</th>\n",
       "    </tr>\n",
       "  </thead>\n",
       "  <tbody>\n",
       "    <tr>\n",
       "      <th>vif</th>\n",
       "      <td>1.003386</td>\n",
       "      <td>1.000329</td>\n",
       "      <td>1.003113</td>\n",
       "    </tr>\n",
       "  </tbody>\n",
       "</table>\n",
       "</div>"
      ],
      "text/plain": [
       "     Avg. Session Length  Time on App  Length of Membership\n",
       "vif             1.003386     1.000329              1.003113"
      ]
     },
     "execution_count": 875,
     "metadata": {},
     "output_type": "execute_result"
    }
   ],
   "source": [
    "vif = [ variance_inflation_factor ( X.values , i ) for i in range ( X.shape [ 1 ] ) ]\n",
    "pd.DataFrame ( { \"vif\" : vif } , index = X.columns ).T"
   ]
  },
  {
   "cell_type": "code",
   "execution_count": 876,
   "metadata": {},
   "outputs": [
    {
     "data": {
      "text/plain": [
       "Index(['Email', 'Address', 'Avatar', 'Avg. Session Length', 'Time on App',\n",
       "       'Time on Website', 'Length of Membership', 'Yearly Amount Spent',\n",
       "       'OLS Prediction'],\n",
       "      dtype='object')"
      ]
     },
     "execution_count": 876,
     "metadata": {},
     "output_type": "execute_result"
    }
   ],
   "source": [
    "data1.columns"
   ]
  },
  {
   "cell_type": "code",
   "execution_count": 877,
   "metadata": {},
   "outputs": [
    {
     "data": {
      "image/png": "[encoded data removed]",
      "text/plain": [
       "<Figure size 432x288 with 2 Axes>"
      ]
     },
     "metadata": {
      "needs_background": "light"
     },
     "output_type": "display_data"
    }
   ],
   "source": [
    "data2 = data1.drop(['Email', 'Address', 'Avatar', 'Time on Website', 'OLS Prediction'],axis=1)\n",
    "sns.heatmap ( data2.corr ( ) , annot = True, cmap='coolwarm')\n",
    "plt.show ( )"
   ]
  },
  {
   "cell_type": "markdown",
   "metadata": {},
   "source": [
    "- From the above heatmap anf the VIF, we can say that there is no multicolinearity that needs to be eliminated among the significant variable."
   ]
  },
  {
   "cell_type": "markdown",
   "metadata": {},
   "source": [
    "#### e."
   ]
  },
  {
   "cell_type": "code",
   "execution_count": 878,
   "metadata": {},
   "outputs": [
    {
     "data": {
      "text/html": [
       "<div>\n",
       "<style scoped>\n",
       "    .dataframe tbody tr th:only-of-type {\n",
       "        vertical-align: middle;\n",
       "    }\n",
       "\n",
       "    .dataframe tbody tr th {\n",
       "        vertical-align: top;\n",
       "    }\n",
       "\n",
       "    .dataframe thead th {\n",
       "        text-align: right;\n",
       "    }\n",
       "</style>\n",
       "<table border=\"1\" class=\"dataframe\">\n",
       "  <thead>\n",
       "    <tr style=\"text-align: right;\">\n",
       "      <th></th>\n",
       "      <th>Email</th>\n",
       "      <th>Address</th>\n",
       "      <th>Avatar</th>\n",
       "      <th>Avg. Session Length</th>\n",
       "      <th>Time on App</th>\n",
       "      <th>Time on Website</th>\n",
       "      <th>Length of Membership</th>\n",
       "      <th>Yearly Amount Spent</th>\n",
       "      <th>OLS Prediction</th>\n",
       "    </tr>\n",
       "  </thead>\n",
       "  <tbody>\n",
       "    <tr>\n",
       "      <th>0</th>\n",
       "      <td>mstephenson@fernandez.com</td>\n",
       "      <td>835 Frank Tunnel\\nWrightmouth, MI 82180-9605</td>\n",
       "      <td>Violet</td>\n",
       "      <td>34.497268</td>\n",
       "      <td>12.655651</td>\n",
       "      <td>39.577668</td>\n",
       "      <td>4.082621</td>\n",
       "      <td>587.951054</td>\n",
       "      <td>594.628314</td>\n",
       "    </tr>\n",
       "    <tr>\n",
       "      <th>1</th>\n",
       "      <td>hduke@hotmail.com</td>\n",
       "      <td>4547 Archer Common\\nDiazchester, CA 06566-8576</td>\n",
       "      <td>DarkGreen</td>\n",
       "      <td>31.926272</td>\n",
       "      <td>11.109461</td>\n",
       "      <td>37.268959</td>\n",
       "      <td>2.664034</td>\n",
       "      <td>392.204933</td>\n",
       "      <td>380.308216</td>\n",
       "    </tr>\n",
       "    <tr>\n",
       "      <th>2</th>\n",
       "      <td>pallen@yahoo.com</td>\n",
       "      <td>24645 Valerie Unions Suite 582\\nCobbborough, D...</td>\n",
       "      <td>Bisque</td>\n",
       "      <td>33.000915</td>\n",
       "      <td>11.330278</td>\n",
       "      <td>37.110597</td>\n",
       "      <td>4.104543</td>\n",
       "      <td>487.547505</td>\n",
       "      <td>505.068547</td>\n",
       "    </tr>\n",
       "    <tr>\n",
       "      <th>3</th>\n",
       "      <td>riverarebecca@gmail.com</td>\n",
       "      <td>1414 David Throughway\\nPort Jason, OH 22070-1220</td>\n",
       "      <td>SaddleBrown</td>\n",
       "      <td>34.305557</td>\n",
       "      <td>13.717514</td>\n",
       "      <td>36.721283</td>\n",
       "      <td>3.120179</td>\n",
       "      <td>581.852344</td>\n",
       "      <td>570.736845</td>\n",
       "    </tr>\n",
       "    <tr>\n",
       "      <th>4</th>\n",
       "      <td>mstephens@davidson-herman.com</td>\n",
       "      <td>14023 Rodriguez Passage\\nPort Jacobville, PR 3...</td>\n",
       "      <td>MediumAquaMarine</td>\n",
       "      <td>33.330673</td>\n",
       "      <td>12.795189</td>\n",
       "      <td>37.536653</td>\n",
       "      <td>4.446308</td>\n",
       "      <td>599.406092</td>\n",
       "      <td>591.638289</td>\n",
       "    </tr>\n",
       "  </tbody>\n",
       "</table>\n",
       "</div>"
      ],
      "text/plain": [
       "                           Email  \\\n",
       "0      mstephenson@fernandez.com   \n",
       "1              hduke@hotmail.com   \n",
       "2               pallen@yahoo.com   \n",
       "3        riverarebecca@gmail.com   \n",
       "4  mstephens@davidson-herman.com   \n",
       "\n",
       "                                             Address            Avatar  \\\n",
       "0       835 Frank Tunnel\\nWrightmouth, MI 82180-9605            Violet   \n",
       "1     4547 Archer Common\\nDiazchester, CA 06566-8576         DarkGreen   \n",
       "2  24645 Valerie Unions Suite 582\\nCobbborough, D...            Bisque   \n",
       "3   1414 David Throughway\\nPort Jason, OH 22070-1220       SaddleBrown   \n",
       "4  14023 Rodriguez Passage\\nPort Jacobville, PR 3...  MediumAquaMarine   \n",
       "\n",
       "   Avg. Session Length  Time on App  Time on Website  Length of Membership  \\\n",
       "0            34.497268    12.655651        39.577668              4.082621   \n",
       "1            31.926272    11.109461        37.268959              2.664034   \n",
       "2            33.000915    11.330278        37.110597              4.104543   \n",
       "3            34.305557    13.717514        36.721283              3.120179   \n",
       "4            33.330673    12.795189        37.536653              4.446308   \n",
       "\n",
       "   Yearly Amount Spent  OLS Prediction  \n",
       "0           587.951054      594.628314  \n",
       "1           392.204933      380.308216  \n",
       "2           487.547505      505.068547  \n",
       "3           581.852344      570.736845  \n",
       "4           599.406092      591.638289  "
      ]
     },
     "execution_count": 878,
     "metadata": {},
     "output_type": "execute_result"
    }
   ],
   "source": [
    "data1.head()"
   ]
  },
  {
   "cell_type": "code",
   "execution_count": 879,
   "metadata": {},
   "outputs": [
    {
     "data": {
      "text/html": [
       "<div>\n",
       "<style scoped>\n",
       "    .dataframe tbody tr th:only-of-type {\n",
       "        vertical-align: middle;\n",
       "    }\n",
       "\n",
       "    .dataframe tbody tr th {\n",
       "        vertical-align: top;\n",
       "    }\n",
       "\n",
       "    .dataframe thead th {\n",
       "        text-align: right;\n",
       "    }\n",
       "</style>\n",
       "<table border=\"1\" class=\"dataframe\">\n",
       "  <thead>\n",
       "    <tr style=\"text-align: right;\">\n",
       "      <th></th>\n",
       "      <th>Avg. Session Length</th>\n",
       "      <th>Time on App</th>\n",
       "      <th>Length of Membership</th>\n",
       "    </tr>\n",
       "  </thead>\n",
       "  <tbody>\n",
       "    <tr>\n",
       "      <th>0</th>\n",
       "      <td>1.473888</td>\n",
       "      <td>0.598170</td>\n",
       "      <td>0.542449</td>\n",
       "    </tr>\n",
       "    <tr>\n",
       "      <th>1</th>\n",
       "      <td>-1.154224</td>\n",
       "      <td>-1.001744</td>\n",
       "      <td>-0.977510</td>\n",
       "    </tr>\n",
       "    <tr>\n",
       "      <th>2</th>\n",
       "      <td>-0.055707</td>\n",
       "      <td>-0.773254</td>\n",
       "      <td>0.565938</td>\n",
       "    </tr>\n",
       "    <tr>\n",
       "      <th>3</th>\n",
       "      <td>1.277918</td>\n",
       "      <td>1.696927</td>\n",
       "      <td>-0.488769</td>\n",
       "    </tr>\n",
       "    <tr>\n",
       "      <th>4</th>\n",
       "      <td>0.281376</td>\n",
       "      <td>0.742555</td>\n",
       "      <td>0.932126</td>\n",
       "    </tr>\n",
       "  </tbody>\n",
       "</table>\n",
       "</div>"
      ],
      "text/plain": [
       "   Avg. Session Length  Time on App  Length of Membership\n",
       "0             1.473888     0.598170              0.542449\n",
       "1            -1.154224    -1.001744             -0.977510\n",
       "2            -0.055707    -0.773254              0.565938\n",
       "3             1.277918     1.696927             -0.488769\n",
       "4             0.281376     0.742555              0.932126"
      ]
     },
     "execution_count": 879,
     "metadata": {},
     "output_type": "execute_result"
    }
   ],
   "source": [
    "X.head()"
   ]
  },
  {
   "cell_type": "code",
   "execution_count": 880,
   "metadata": {},
   "outputs": [
    {
     "data": {
      "text/plain": [
       "0    587.951054\n",
       "1    392.204933\n",
       "2    487.547505\n",
       "3    581.852344\n",
       "4    599.406092\n",
       "Name: Yearly Amount Spent, dtype: float64"
      ]
     },
     "execution_count": 880,
     "metadata": {},
     "output_type": "execute_result"
    }
   ],
   "source": [
    "y.head()"
   ]
  },
  {
   "cell_type": "code",
   "execution_count": 881,
   "metadata": {},
   "outputs": [],
   "source": [
    "X_train , X_test , y_train , y_test = train_test_split ( X , y , test_size = 0.3 , random_state = 1 ) "
   ]
  },
  {
   "cell_type": "code",
   "execution_count": 882,
   "metadata": {},
   "outputs": [
    {
     "name": "stdout",
     "output_type": "stream",
     "text": [
      "R2 Squared: 0.9831639231053944\n",
      "Root Mean Squared Error: 9.952192139851087\n",
      "Mean Absolute Error: 2.7615852680004482\n"
     ]
    }
   ],
   "source": [
    "lr = LinearRegression ( )\n",
    "lr.fit ( X_train , y_train )\n",
    "y_pred = lr.predict ( X_test )\n",
    "print ( \"R2 Squared:\" , r2_score ( y_test , y_pred ) )\n",
    "print ( \"Root Mean Squared Error:\" , np.sqrt ( mean_squared_error ( y_test , y_pred ) ) )\n",
    "print ( \"Mean Absolute Error:\" , np.sqrt ( mean_absolute_error ( y_test , y_pred ) ) )"
   ]
  },
  {
   "cell_type": "code",
   "execution_count": 883,
   "metadata": {},
   "outputs": [
    {
     "data": {
      "text/html": [
       "<div>\n",
       "<style scoped>\n",
       "    .dataframe tbody tr th:only-of-type {\n",
       "        vertical-align: middle;\n",
       "    }\n",
       "\n",
       "    .dataframe tbody tr th {\n",
       "        vertical-align: top;\n",
       "    }\n",
       "\n",
       "    .dataframe thead th {\n",
       "        text-align: right;\n",
       "    }\n",
       "</style>\n",
       "<table border=\"1\" class=\"dataframe\">\n",
       "  <thead>\n",
       "    <tr style=\"text-align: right;\">\n",
       "      <th></th>\n",
       "      <th>Features</th>\n",
       "      <th>Coefficients</th>\n",
       "    </tr>\n",
       "  </thead>\n",
       "  <tbody>\n",
       "    <tr>\n",
       "      <th>0</th>\n",
       "      <td>Avg. Session Length</td>\n",
       "      <td>24.946556</td>\n",
       "    </tr>\n",
       "    <tr>\n",
       "      <th>1</th>\n",
       "      <td>Time on App</td>\n",
       "      <td>37.667809</td>\n",
       "    </tr>\n",
       "    <tr>\n",
       "      <th>2</th>\n",
       "      <td>Length of Membership</td>\n",
       "      <td>57.485551</td>\n",
       "    </tr>\n",
       "  </tbody>\n",
       "</table>\n",
       "</div>"
      ],
      "text/plain": [
       "               Features  Coefficients\n",
       "0   Avg. Session Length     24.946556\n",
       "1           Time on App     37.667809\n",
       "2  Length of Membership     57.485551"
      ]
     },
     "execution_count": 883,
     "metadata": {},
     "output_type": "execute_result"
    }
   ],
   "source": [
    "pd.DataFrame ( { \"Features\" : [ \"Avg. Session Length\" , \"Time on App\" , \"Length of Membership\" ]\n",
    "                , \"Coefficients\" : lr.coef_ } )"
   ]
  },
  {
   "cell_type": "code",
   "execution_count": 884,
   "metadata": {},
   "outputs": [
    {
     "data": {
      "text/plain": [
       "502.84756422872204"
      ]
     },
     "execution_count": 884,
     "metadata": {},
     "output_type": "execute_result"
    }
   ],
   "source": [
    "lr.intercept_"
   ]
  },
  {
   "cell_type": "markdown",
   "metadata": {},
   "source": [
    "### 7."
   ]
  },
  {
   "cell_type": "code",
   "execution_count": 885,
   "metadata": {},
   "outputs": [
    {
     "data": {
      "text/plain": [
       "Index(['Email', 'Address', 'Avatar', 'Avg. Session Length', 'Time on App',\n",
       "       'Time on Website', 'Length of Membership', 'Yearly Amount Spent',\n",
       "       'OLS Prediction'],\n",
       "      dtype='object')"
      ]
     },
     "execution_count": 885,
     "metadata": {},
     "output_type": "execute_result"
    }
   ],
   "source": [
    "data1.columns"
   ]
  },
  {
   "cell_type": "code",
   "execution_count": 886,
   "metadata": {},
   "outputs": [],
   "source": [
    "X = data1.drop ( ['Email', 'Address', 'Avatar','Yearly Amount Spent', 'OLS Prediction'] , axis = 1 )\n",
    "y = data1 [ 'Yearly Amount Spent' ]"
   ]
  },
  {
   "cell_type": "code",
   "execution_count": 887,
   "metadata": {},
   "outputs": [],
   "source": [
    "for i in X.columns:\n",
    "    ss = StandardScaler ( )\n",
    "    X [ i ] = ss.fit_transform ( X [ i ].values.reshape ( -1 , 1 ) )"
   ]
  },
  {
   "cell_type": "code",
   "execution_count": 888,
   "metadata": {},
   "outputs": [],
   "source": [
    "X_train , X_test , y_train , y_test = train_test_split ( X , y , test_size = 0.3 , random_state = 1 ) "
   ]
  },
  {
   "cell_type": "code",
   "execution_count": 889,
   "metadata": {},
   "outputs": [
    {
     "name": "stdout",
     "output_type": "stream",
     "text": [
      "R2:  0.983197701855496\n",
      "MSE 98.84740902887188\n",
      "RMSE is:  9.942203429264152\n"
     ]
    }
   ],
   "source": [
    "lr = LinearRegression ( )\n",
    "lr.fit ( X_train , y_train )\n",
    "y_pred = lr.predict ( X_test )\n",
    "print ('R2: ', r2_score ( y_test , y_pred ) )\n",
    "print ('MSE', mean_squared_error ( y_test , y_pred ) )\n",
    "print('RMSE is: ',np.sqrt(mean_squared_error ( y_test , y_pred )))"
   ]
  },
  {
   "cell_type": "code",
   "execution_count": 890,
   "metadata": {},
   "outputs": [
    {
     "data": {
      "text/html": [
       "<div>\n",
       "<style scoped>\n",
       "    .dataframe tbody tr th:only-of-type {\n",
       "        vertical-align: middle;\n",
       "    }\n",
       "\n",
       "    .dataframe tbody tr th {\n",
       "        vertical-align: top;\n",
       "    }\n",
       "\n",
       "    .dataframe thead th {\n",
       "        text-align: right;\n",
       "    }\n",
       "</style>\n",
       "<table border=\"1\" class=\"dataframe\">\n",
       "  <thead>\n",
       "    <tr style=\"text-align: right;\">\n",
       "      <th></th>\n",
       "      <th>Features</th>\n",
       "      <th>Coefficients</th>\n",
       "    </tr>\n",
       "  </thead>\n",
       "  <tbody>\n",
       "    <tr>\n",
       "      <th>0</th>\n",
       "      <td>Avg. Session Length</td>\n",
       "      <td>24.948466</td>\n",
       "    </tr>\n",
       "    <tr>\n",
       "      <th>1</th>\n",
       "      <td>Time on App</td>\n",
       "      <td>37.634598</td>\n",
       "    </tr>\n",
       "    <tr>\n",
       "      <th>2</th>\n",
       "      <td>Time on Website</td>\n",
       "      <td>0.303098</td>\n",
       "    </tr>\n",
       "    <tr>\n",
       "      <th>3</th>\n",
       "      <td>Length of Membership</td>\n",
       "      <td>57.495020</td>\n",
       "    </tr>\n",
       "  </tbody>\n",
       "</table>\n",
       "</div>"
      ],
      "text/plain": [
       "               Features  Coefficients\n",
       "0   Avg. Session Length     24.948466\n",
       "1           Time on App     37.634598\n",
       "2       Time on Website      0.303098\n",
       "3  Length of Membership     57.495020"
      ]
     },
     "execution_count": 890,
     "metadata": {},
     "output_type": "execute_result"
    }
   ],
   "source": [
    "pd.DataFrame ( { \"Features\" : X.columns , \"Coefficients\" : lr.coef_ } )"
   ]
  },
  {
   "cell_type": "code",
   "execution_count": 891,
   "metadata": {
    "scrolled": false
   },
   "outputs": [
    {
     "data": {
      "text/plain": [
       "502.83720145239874"
      ]
     },
     "execution_count": 891,
     "metadata": {},
     "output_type": "execute_result"
    }
   ],
   "source": [
    "lr.intercept_"
   ]
  },
  {
   "cell_type": "code",
   "execution_count": 892,
   "metadata": {},
   "outputs": [
    {
     "data": {
      "text/plain": [
       "(487, 4)"
      ]
     },
     "execution_count": 892,
     "metadata": {},
     "output_type": "execute_result"
    }
   ],
   "source": [
    "X.shape"
   ]
  },
  {
   "cell_type": "markdown",
   "metadata": {},
   "source": [
    "##### Trying to improving the to get better model using RFE:"
   ]
  },
  {
   "cell_type": "code",
   "execution_count": 893,
   "metadata": {},
   "outputs": [
    {
     "name": "stdout",
     "output_type": "stream",
     "text": [
      "[1 1 2 1]\n",
      "[ True  True False  True]\n"
     ]
    },
    {
     "data": {
      "text/html": [
       "<div>\n",
       "<style scoped>\n",
       "    .dataframe tbody tr th:only-of-type {\n",
       "        vertical-align: middle;\n",
       "    }\n",
       "\n",
       "    .dataframe tbody tr th {\n",
       "        vertical-align: top;\n",
       "    }\n",
       "\n",
       "    .dataframe thead th {\n",
       "        text-align: right;\n",
       "    }\n",
       "</style>\n",
       "<table border=\"1\" class=\"dataframe\">\n",
       "  <thead>\n",
       "    <tr style=\"text-align: right;\">\n",
       "      <th></th>\n",
       "      <th>Features</th>\n",
       "      <th>Ranking</th>\n",
       "      <th>Support</th>\n",
       "    </tr>\n",
       "  </thead>\n",
       "  <tbody>\n",
       "    <tr>\n",
       "      <th>0</th>\n",
       "      <td>Avg. Session Length</td>\n",
       "      <td>1</td>\n",
       "      <td>True</td>\n",
       "    </tr>\n",
       "    <tr>\n",
       "      <th>1</th>\n",
       "      <td>Time on App</td>\n",
       "      <td>1</td>\n",
       "      <td>True</td>\n",
       "    </tr>\n",
       "    <tr>\n",
       "      <th>2</th>\n",
       "      <td>Time on Website</td>\n",
       "      <td>2</td>\n",
       "      <td>False</td>\n",
       "    </tr>\n",
       "    <tr>\n",
       "      <th>3</th>\n",
       "      <td>Length of Membership</td>\n",
       "      <td>1</td>\n",
       "      <td>True</td>\n",
       "    </tr>\n",
       "  </tbody>\n",
       "</table>\n",
       "</div>"
      ],
      "text/plain": [
       "               Features  Ranking  Support\n",
       "0   Avg. Session Length        1     True\n",
       "1           Time on App        1     True\n",
       "2       Time on Website        2    False\n",
       "3  Length of Membership        1     True"
      ]
     },
     "execution_count": 893,
     "metadata": {},
     "output_type": "execute_result"
    }
   ],
   "source": [
    "rfe = RFE ( lr , n_features_to_select = 3 )\n",
    "rfe.fit ( X_train , y_train )\n",
    "print ( rfe.ranking_ )\n",
    "print ( rfe.support_ )\n",
    "rfe_pred = rfe.predict ( X_test )\n",
    "\n",
    "df = pd.DataFrame ( { \"Features\" : X.columns , \"Ranking\" : rfe.ranking_ , \"Support\" : rfe.support_ } )\n",
    "df"
   ]
  },
  {
   "cell_type": "code",
   "execution_count": 894,
   "metadata": {},
   "outputs": [
    {
     "name": "stdout",
     "output_type": "stream",
     "text": [
      "R2:  0.9831639231053944\n",
      "MSE:  99.04612838851375\n",
      "RMSE is:  9.952192139851087\n",
      "None\n"
     ]
    }
   ],
   "source": [
    "print ( 'R2: ',r2_score ( y_test , rfe_pred ) )\n",
    "print ('MSE: ', mean_squared_error ( y_test , rfe_pred ) )\n",
    "print (print('RMSE is: ',np.sqrt(mean_squared_error ( y_test , rfe_pred ))))"
   ]
  },
  {
   "cell_type": "markdown",
   "metadata": {},
   "source": [
    "##### Trying to improving the to get better model using Lasso, Ridge and Elastic Net:"
   ]
  },
  {
   "cell_type": "markdown",
   "metadata": {},
   "source": [
    "###### Lasso:"
   ]
  },
  {
   "cell_type": "code",
   "execution_count": 895,
   "metadata": {},
   "outputs": [],
   "source": [
    "X = data1.drop ( ['Email', 'Address', 'Avatar','Yearly Amount Spent', 'OLS Prediction'] , axis = 1 )\n",
    "y = data1 [ 'Yearly Amount Spent' ]"
   ]
  },
  {
   "cell_type": "code",
   "execution_count": 896,
   "metadata": {},
   "outputs": [],
   "source": [
    "for i in X.columns:\n",
    "    ss = StandardScaler ( )\n",
    "    X [ i ] = ss.fit_transform ( X [ i ].values.reshape ( -1 , 1 ) )"
   ]
  },
  {
   "cell_type": "code",
   "execution_count": 897,
   "metadata": {},
   "outputs": [],
   "source": [
    "x_train , x_test , y_train , y_test = train_test_split ( X , y , test_size = 0.3 , random_state = 1 ) "
   ]
  },
  {
   "cell_type": "code",
   "execution_count": 898,
   "metadata": {},
   "outputs": [],
   "source": [
    "lasso = Lasso()\n",
    "lasso.fit(x_train,y_train)\n",
    "train_score=lasso.score(x_train,y_train)\n",
    "test_score=lasso.score(x_test,y_test)\n",
    "coeff_used = np.sum(lasso.coef_!=0)"
   ]
  },
  {
   "cell_type": "code",
   "execution_count": 899,
   "metadata": {},
   "outputs": [
    {
     "name": "stdout",
     "output_type": "stream",
     "text": [
      "RMSE is:  10.120711923825136\n"
     ]
    }
   ],
   "source": [
    "y_pred = lasso.predict(x_test)\n",
    "RMSE = np.sqrt(mean_squared_error(y_test,y_pred))\n",
    "print('RMSE is: ',RMSE)"
   ]
  },
  {
   "cell_type": "code",
   "execution_count": 900,
   "metadata": {},
   "outputs": [
    {
     "name": "stdout",
     "output_type": "stream",
     "text": [
      "training score: 0.9810815732972051\n",
      "test score:  0.9825889275347556\n",
      "number of features used:  3\n"
     ]
    }
   ],
   "source": [
    "print(\"training score:\", train_score) \n",
    "print(\"test score: \", test_score)\n",
    "print(\"number of features used: \", coeff_used)"
   ]
  },
  {
   "cell_type": "code",
   "execution_count": 901,
   "metadata": {},
   "outputs": [
    {
     "data": {
      "text/plain": [
       "Lasso(alpha=0.01, copy_X=True, fit_intercept=True, max_iter=1000000.0,\n",
       "      normalize=False, positive=False, precompute=False, random_state=None,\n",
       "      selection='cyclic', tol=0.0001, warm_start=False)"
      ]
     },
     "execution_count": 901,
     "metadata": {},
     "output_type": "execute_result"
    }
   ],
   "source": [
    "lasso001 = Lasso(alpha=0.01, max_iter=10e5)\n",
    "lasso001.fit(x_train,y_train)"
   ]
  },
  {
   "cell_type": "code",
   "execution_count": 902,
   "metadata": {},
   "outputs": [],
   "source": [
    "train_score001=lasso001.score(x_train,y_train)\n",
    "test_score001=lasso001.score(x_test,y_test)\n",
    "coeff_used001 = np.sum(lasso001.coef_!=0)"
   ]
  },
  {
   "cell_type": "code",
   "execution_count": 903,
   "metadata": {},
   "outputs": [
    {
     "name": "stdout",
     "output_type": "stream",
     "text": [
      "training score for alpha=0.01: 0.9816585916831695\n",
      "test score for alpha =0.01: \n",
      "number of features used: for alpha =0.01: 4\n"
     ]
    }
   ],
   "source": [
    "print(\"training score for alpha=0.01:\", train_score001 )\n",
    "print(\"test score for alpha =0.01: \"), test_score001\n",
    "print(\"number of features used: for alpha =0.01:\", coeff_used001)"
   ]
  },
  {
   "cell_type": "code",
   "execution_count": 904,
   "metadata": {},
   "outputs": [
    {
     "data": {
      "text/plain": [
       "Lasso(alpha=0.0001, copy_X=True, fit_intercept=True, max_iter=1000000.0,\n",
       "      normalize=False, positive=False, precompute=False, random_state=None,\n",
       "      selection='cyclic', tol=0.0001, warm_start=False)"
      ]
     },
     "execution_count": 904,
     "metadata": {},
     "output_type": "execute_result"
    }
   ],
   "source": [
    "lasso00001 = Lasso(alpha=0.0001, max_iter=10e5)\n",
    "lasso00001.fit(x_train,y_train)"
   ]
  },
  {
   "cell_type": "code",
   "execution_count": 905,
   "metadata": {},
   "outputs": [],
   "source": [
    "train_score00001=lasso00001.score(x_train,y_train)\n",
    "test_score00001=lasso00001.score(x_test,y_test)\n",
    "coeff_used00001 = np.sum(lasso00001.coef_!=0)"
   ]
  },
  {
   "cell_type": "code",
   "execution_count": 906,
   "metadata": {},
   "outputs": [
    {
     "name": "stdout",
     "output_type": "stream",
     "text": [
      "training score for alpha=0.0001 is 0.9816586630033078\n",
      "test score for alpha =0.0001 is 0.98319769946128\n",
      "number of features used: for alpha =0.0001 is 4\n"
     ]
    }
   ],
   "source": [
    "print(\"training score for alpha=0.0001 is\", train_score00001 )\n",
    "print(\"test score for alpha =0.0001 is\", test_score00001)\n",
    "print(\"number of features used: for alpha =0.0001 is\", coeff_used00001)"
   ]
  },
  {
   "cell_type": "code",
   "execution_count": 907,
   "metadata": {},
   "outputs": [
    {
     "name": "stdout",
     "output_type": "stream",
     "text": [
      "training score for alpha=0.0001: 0.0\n",
      "test score for alpha =0.0001:  -0.00013751255521743388\n",
      "number of features used: for alpha =0.0001: 0\n"
     ]
    }
   ],
   "source": [
    "lasso10k = Lasso(alpha=10000, max_iter=10e5)\n",
    "lasso10k.fit(x_train,y_train)\n",
    "\n",
    "train_score10k=lasso10k.score(x_train,y_train)\n",
    "test_score10k=lasso10k.score(x_test,y_test)\n",
    "coeff_used10k= np.sum(lasso10k.coef_!=0)\n",
    "\n",
    "print(\"training score for alpha=0.0001:\", train_score10k)\n",
    "print(\"test score for alpha =0.0001: \", test_score10k)\n",
    "print(\"number of features used: for alpha =0.0001:\", coeff_used10k)"
   ]
  },
  {
   "cell_type": "code",
   "execution_count": 908,
   "metadata": {},
   "outputs": [
    {
     "name": "stdout",
     "output_type": "stream",
     "text": [
      "RMSE is:  9.94251793844376\n"
     ]
    }
   ],
   "source": [
    "#with alpha=0.01\n",
    "y_pred = lasso001.predict(x_test)\n",
    "RMSE = np.sqrt(mean_squared_error(y_test,y_pred))\n",
    "print('RMSE is: ',RMSE)"
   ]
  },
  {
   "cell_type": "code",
   "execution_count": 909,
   "metadata": {},
   "outputs": [
    {
     "name": "stdout",
     "output_type": "stream",
     "text": [
      "RMSE is:  9.942204137613151\n"
     ]
    }
   ],
   "source": [
    "#with alpha=0.0001\n",
    "y_pred = lasso00001.predict(x_test)\n",
    "RMSE = np.sqrt(mean_squared_error(y_test,y_pred))\n",
    "print('RMSE is: ',RMSE)"
   ]
  },
  {
   "cell_type": "code",
   "execution_count": 910,
   "metadata": {},
   "outputs": [
    {
     "name": "stdout",
     "output_type": "stream",
     "text": [
      "RMSE is:  76.70579229978543\n"
     ]
    }
   ],
   "source": [
    "#with alpha=10k\n",
    "y_pred = lasso10k.predict(x_test)\n",
    "RMSE = np.sqrt(mean_squared_error(y_test,y_pred))\n",
    "print('RMSE is: ',RMSE)"
   ]
  },
  {
   "cell_type": "code",
   "execution_count": 911,
   "metadata": {},
   "outputs": [
    {
     "name": "stdout",
     "output_type": "stream",
     "text": [
      "RMSE is:  10.120711923825136\n"
     ]
    }
   ],
   "source": [
    "y_pred = lasso.predict(x_test)\n",
    "RMSE = np.sqrt(mean_squared_error(y_test,y_pred))\n",
    "print('RMSE is: ',RMSE)"
   ]
  },
  {
   "cell_type": "code",
   "execution_count": null,
   "metadata": {},
   "outputs": [],
   "source": []
  },
  {
   "cell_type": "markdown",
   "metadata": {},
   "source": [
    "###### Ridge:"
   ]
  },
  {
   "cell_type": "code",
   "execution_count": 912,
   "metadata": {},
   "outputs": [],
   "source": [
    "x = data1.drop ( ['Email', 'Address', 'Avatar','Yearly Amount Spent', 'OLS Prediction'] , axis = 1 )\n",
    "y = data1 [ 'Yearly Amount Spent' ]"
   ]
  },
  {
   "cell_type": "code",
   "execution_count": 913,
   "metadata": {},
   "outputs": [],
   "source": [
    "for i in X.columns:\n",
    "    ss = StandardScaler ( )\n",
    "    X [ i ] = ss.fit_transform ( X [ i ].values.reshape ( -1 , 1 ) )"
   ]
  },
  {
   "cell_type": "code",
   "execution_count": 914,
   "metadata": {},
   "outputs": [
    {
     "name": "stderr",
     "output_type": "stream",
     "text": [
      "C:\\Users\\RasAlGhul\\Anaconda3\\lib\\site-packages\\numpy\\core\\fromnumeric.py:2542: FutureWarning: Method .ptp is deprecated and will be removed in a future version. Use numpy.ptp instead.\n",
      "  return ptp(axis=axis, out=out, **kwargs)\n"
     ]
    },
    {
     "data": {
      "text/plain": [
       "LinearRegression(copy_X=True, fit_intercept=True, n_jobs=None, normalize=False)"
      ]
     },
     "execution_count": 914,
     "metadata": {},
     "output_type": "execute_result"
    }
   ],
   "source": [
    "lr = LinearRegression()\n",
    "x_con= sm.add_constant(x)\n",
    "#x1_con= x1_con.drop('const',axis=1)\n",
    "x_train, x_test , y_train, y_test = train_test_split(x_con,y, test_size = 0.3, random_state = 1)\n",
    "lr.fit(x_train, y_train)"
   ]
  },
  {
   "cell_type": "code",
   "execution_count": 915,
   "metadata": {},
   "outputs": [
    {
     "data": {
      "text/plain": [
       "Ridge(alpha=100, copy_X=True, fit_intercept=True, max_iter=None,\n",
       "      normalize=False, random_state=None, solver='auto', tol=0.001)"
      ]
     },
     "execution_count": 915,
     "metadata": {},
     "output_type": "execute_result"
    }
   ],
   "source": [
    "# higher the alpha value, more restriction on the coefficients; \n",
    "# low alpha > more generalization, coefficients are barely\n",
    "rr = Ridge(alpha=100) \n",
    "# restricted and in this case linear and ridge regression resembles\n",
    "rr.fit(x_train, y_train)"
   ]
  },
  {
   "cell_type": "code",
   "execution_count": 916,
   "metadata": {},
   "outputs": [
    {
     "data": {
      "text/plain": [
       "Ridge(alpha=160, copy_X=True, fit_intercept=True, max_iter=None,\n",
       "      normalize=False, random_state=None, solver='auto', tol=0.001)"
      ]
     },
     "execution_count": 916,
     "metadata": {},
     "output_type": "execute_result"
    }
   ],
   "source": [
    "rr160 = Ridge(alpha=160) #  comparison with alpha value\n",
    "rr160.fit(x_train, y_train)"
   ]
  },
  {
   "cell_type": "code",
   "execution_count": 917,
   "metadata": {},
   "outputs": [
    {
     "data": {
      "text/plain": [
       "Ridge(alpha=10, copy_X=True, fit_intercept=True, max_iter=None, normalize=False,\n",
       "      random_state=None, solver='auto', tol=0.001)"
      ]
     },
     "execution_count": 917,
     "metadata": {},
     "output_type": "execute_result"
    }
   ],
   "source": [
    "rr50 = Ridge(alpha=10) #  comparison with alpha value\n",
    "rr50.fit(x_train, y_train)"
   ]
  },
  {
   "cell_type": "code",
   "execution_count": 918,
   "metadata": {},
   "outputs": [],
   "source": [
    "train_score=lr.score(x_train, y_train)\n",
    "test_score=lr.score(x_test, y_test)"
   ]
  },
  {
   "cell_type": "code",
   "execution_count": 919,
   "metadata": {},
   "outputs": [],
   "source": [
    "Ridge_train_score = rr.score(x_train,y_train)\n",
    "Ridge_test_score = rr.score(x_test, y_test)"
   ]
  },
  {
   "cell_type": "code",
   "execution_count": 920,
   "metadata": {},
   "outputs": [],
   "source": [
    "Ridge_train_score50 = rr50.score(x_train,y_train)\n",
    "Ridge_test_score50 = rr50.score(x_test, y_test)"
   ]
  },
  {
   "cell_type": "code",
   "execution_count": 921,
   "metadata": {},
   "outputs": [],
   "source": [
    "Ridge_train_score160 = rr160.score(x_train,y_train)\n",
    "Ridge_test_score160 = rr160.score(x_test, y_test)"
   ]
  },
  {
   "cell_type": "code",
   "execution_count": 922,
   "metadata": {},
   "outputs": [
    {
     "name": "stdout",
     "output_type": "stream",
     "text": [
      "linear regression train score: 0.9816586630084664\n",
      "linear regression test score: 0.9831977018554958\n",
      "ridge regression train score low alpha: 0.9207668361945344\n",
      "ridge regression test score low alpha: 0.9226446356155737\n",
      "ridge regression train score high alpha: 0.8637422300641331\n",
      "ridge regression test score high alpha: 0.8654171953669082\n"
     ]
    }
   ],
   "source": [
    "print(\"linear regression train score:\", train_score)\n",
    "print(\"linear regression test score:\", test_score)\n",
    "print(\"ridge regression train score low alpha:\", Ridge_train_score)\n",
    "print(\"ridge regression test score low alpha:\", Ridge_test_score)\n",
    "print(\"ridge regression train score high alpha:\", Ridge_train_score160)\n",
    "print(\"ridge regression test score high alpha:\", Ridge_test_score160)"
   ]
  },
  {
   "cell_type": "code",
   "execution_count": 923,
   "metadata": {},
   "outputs": [
    {
     "name": "stdout",
     "output_type": "stream",
     "text": [
      "RMSE is:  21.33258672334675\n"
     ]
    }
   ],
   "source": [
    "#with alpha=100\n",
    "y_pred = rr.predict(x_test)\n",
    "RMSE = np.sqrt(mean_squared_error(y_test,y_pred))\n",
    "print('RMSE is: ',RMSE)"
   ]
  },
  {
   "cell_type": "code",
   "execution_count": 924,
   "metadata": {},
   "outputs": [
    {
     "name": "stdout",
     "output_type": "stream",
     "text": [
      "RMSE is:  28.137991168783678\n"
     ]
    }
   ],
   "source": [
    "#with alpha=160\n",
    "y_pred = rr160.predict(x_test)\n",
    "RMSE = np.sqrt(mean_squared_error(y_test,y_pred))\n",
    "print('RMSE is: ',RMSE)"
   ]
  },
  {
   "cell_type": "code",
   "execution_count": 925,
   "metadata": {},
   "outputs": [
    {
     "name": "stdout",
     "output_type": "stream",
     "text": [
      "RMSE is:  10.201190210528681\n"
     ]
    }
   ],
   "source": [
    "#with alpha=10\n",
    "y_pred = rr50.predict(x_test)\n",
    "RMSE = np.sqrt(mean_squared_error(y_test,y_pred))\n",
    "print('RMSE is: ',RMSE)"
   ]
  },
  {
   "cell_type": "markdown",
   "metadata": {},
   "source": [
    "###### Elastic Net:"
   ]
  },
  {
   "cell_type": "code",
   "execution_count": 926,
   "metadata": {},
   "outputs": [],
   "source": [
    "# Let's perform a cross-validation to find the best combination of alpha and l1_ratio\n",
    "\n",
    "cv_model = ElasticNetCV(l1_ratio=[.1, .5, .7, .9, .95, .99, .995, 1], eps=0.001, n_alphas=10, fit_intercept=True, \n",
    "                        normalize=True, precompute='auto', max_iter=2000, tol=0.0001, cv=5, \n",
    "                        copy_X=True, verbose=0, n_jobs=-1, positive=False, random_state=None, selection='cyclic')"
   ]
  },
  {
   "cell_type": "code",
   "execution_count": 927,
   "metadata": {},
   "outputs": [],
   "source": [
    "x = data1.drop ( ['Email', 'Address', 'Avatar','Yearly Amount Spent', 'OLS Prediction'] , axis = 1 )\n",
    "y = data1 [ 'Yearly Amount Spent' ]"
   ]
  },
  {
   "cell_type": "code",
   "execution_count": 928,
   "metadata": {},
   "outputs": [
    {
     "name": "stderr",
     "output_type": "stream",
     "text": [
      "C:\\Users\\RasAlGhul\\Anaconda3\\lib\\site-packages\\numpy\\core\\fromnumeric.py:2542: FutureWarning: Method .ptp is deprecated and will be removed in a future version. Use numpy.ptp instead.\n",
      "  return ptp(axis=axis, out=out, **kwargs)\n"
     ]
    },
    {
     "data": {
      "text/plain": [
       "ElasticNetCV(alphas=None, copy_X=True, cv=5, eps=0.001, fit_intercept=True,\n",
       "             l1_ratio=[0.1, 0.5, 0.7, 0.9, 0.95, 0.99, 0.995, 1], max_iter=2000,\n",
       "             n_alphas=10, n_jobs=-1, normalize=True, positive=False,\n",
       "             precompute='auto', random_state=None, selection='cyclic',\n",
       "             tol=0.0001, verbose=0)"
      ]
     },
     "execution_count": 928,
     "metadata": {},
     "output_type": "execute_result"
    }
   ],
   "source": [
    "x_con= sm.add_constant(x)\n",
    "x_train, x_test , y_train, y_test = train_test_split(x_con,y, test_size = 0.3, random_state = 1)\n",
    "cv_model.fit(x_train, y_train)"
   ]
  },
  {
   "cell_type": "code",
   "execution_count": 929,
   "metadata": {},
   "outputs": [
    {
     "name": "stdout",
     "output_type": "stream",
     "text": [
      "Optimal alpha: 0.00310312\n",
      "Optimal l1_ratio: 1.000\n",
      "Number of iterations 4\n"
     ]
    }
   ],
   "source": [
    "print('Optimal alpha: %.8f'%cv_model.alpha_)\n",
    "print('Optimal l1_ratio: %.3f'%cv_model.l1_ratio_)\n",
    "print('Number of iterations %d'%cv_model.n_iter_)"
   ]
  },
  {
   "cell_type": "code",
   "execution_count": 930,
   "metadata": {},
   "outputs": [
    {
     "data": {
      "text/plain": [
       "ElasticNet(alpha=0.0031031228991584355, copy_X=True, fit_intercept=True,\n",
       "           l1_ratio=1.0, max_iter=4, normalize=True, positive=False,\n",
       "           precompute=False, random_state=None, selection='cyclic', tol=0.0001,\n",
       "           warm_start=False)"
      ]
     },
     "execution_count": 930,
     "metadata": {},
     "output_type": "execute_result"
    }
   ],
   "source": [
    "# train model with best parameters from CV\n",
    "model = ElasticNet(l1_ratio=cv_model.l1_ratio_, alpha = cv_model.alpha_, max_iter=cv_model.n_iter_, fit_intercept=True,\n",
    "                   normalize = True)\n",
    "model.fit(x_train, y_train)"
   ]
  },
  {
   "cell_type": "code",
   "execution_count": 931,
   "metadata": {},
   "outputs": [
    {
     "name": "stdout",
     "output_type": "stream",
     "text": [
      "R2 for Train:  0.9816563080066752\n"
     ]
    }
   ],
   "source": [
    "print('R2 for Train: ', r2_score(y_train, model.predict(x_train))) # training data performance"
   ]
  },
  {
   "cell_type": "code",
   "execution_count": 932,
   "metadata": {},
   "outputs": [
    {
     "name": "stdout",
     "output_type": "stream",
     "text": [
      "R2 for Test 0.9831896763656748\n"
     ]
    }
   ],
   "source": [
    "print('R2 for Test',r2_score(y_test, model.predict(x_test))) # test data performance"
   ]
  },
  {
   "cell_type": "code",
   "execution_count": 933,
   "metadata": {},
   "outputs": [
    {
     "name": "stdout",
     "output_type": "stream",
     "text": [
      "RMSE using ElasticNet Regression with best parameters from CV is:  9.944577554699652\n"
     ]
    }
   ],
   "source": [
    "y_pred = model.predict(x_test)\n",
    "RMSE = np.sqrt(mean_squared_error(y_test,y_pred))\n",
    "print('RMSE using ElasticNet Regression with best parameters from CV is: ',RMSE)"
   ]
  },
  {
   "cell_type": "markdown",
   "metadata": {},
   "source": [
    "### 8. Summarizing:"
   ]
  },
  {
   "cell_type": "markdown",
   "metadata": {},
   "source": [
    "#### a. Summarize the overall fit of the model and listing down the measures to prove that it is a good model "
   ]
  },
  {
   "cell_type": "markdown",
   "metadata": {},
   "source": [
    "- The overall best fit of the model is achived with ElasticNet Regression.\n",
    "- The R2 for train data is 98.16%\n",
    "- The R2 for test data is 98.31%\n",
    "- The RMSE achieved by this is 9.94"
   ]
  },
  {
   "cell_type": "markdown",
   "metadata": {},
   "source": [
    "#### b. Business interpretation/explanation of the model"
   ]
  },
  {
   "cell_type": "markdown",
   "metadata": {},
   "source": [
    "- With this model it will be more likely to predect the total amount that a candidate may spend. Based on this the company could target such candidate.\n",
    "- Company can also focus of the candidates with less spend and using the model to decide the variable that affecting the less amount spent."
   ]
  },
  {
   "cell_type": "code",
   "execution_count": 934,
   "metadata": {},
   "outputs": [
    {
     "data": {
      "image/png": "[encoded data removed]",
      "text/plain": [
       "<Figure size 432x288 with 2 Axes>"
      ]
     },
     "metadata": {
      "needs_background": "light"
     },
     "output_type": "display_data"
    }
   ],
   "source": [
    "data2 = data1.drop(['Email', 'Address', 'Avatar', 'Time on Website', 'OLS Prediction'],axis=1)\n",
    "sns.heatmap ( data2.corr ( ) , annot = True, cmap='coolwarm')\n",
    "plt.show ( )"
   ]
  },
  {
   "cell_type": "markdown",
   "metadata": {},
   "source": [
    "- The above graph shows how the independent variable are correlated with the dependent variable.\n",
    "- The significant variable that is condsidered for the model to best fit are:\n",
    "    - Avg. Session Length\n",
    "    - Time on App\n",
    "    - Length of Membership"
   ]
  },
  {
   "cell_type": "markdown",
   "metadata": {},
   "source": [
    "#### c. What changes from the base model had the most effect on model performance? "
   ]
  },
  {
   "cell_type": "markdown",
   "metadata": {},
   "source": [
    "- Dropping of insignificant variables has the biggest change overall.\n",
    "- Regularization of the model has helped to improve the final model from the base model "
   ]
  },
  {
   "cell_type": "markdown",
   "metadata": {},
   "source": [
    "#### d. What are the key risks to your results and interpretation? "
   ]
  },
  {
   "cell_type": "markdown",
   "metadata": {},
   "source": [
    "- The key risks could be using Random Frests regressor instead of Linear Regression to get better accuracy and best fit model."
   ]
  },
  {
   "cell_type": "code",
   "execution_count": null,
   "metadata": {},
   "outputs": [],
   "source": []
  }
 ],
 "metadata": {
  "kernelspec": {
   "display_name": "Python 3",
   "language": "python",
   "name": "python3"
  },
  "language_info": {
   "codemirror_mode": {
    "name": "ipython",
    "version": 3
   },
   "file_extension": ".py",
   "mimetype": "text/x-python",
   "name": "python",
   "nbconvert_exporter": "python",
   "pygments_lexer": "ipython3",
   "version": "3.7.3"
  }
 },
 "nbformat": 4,
 "nbformat_minor": 2
}
